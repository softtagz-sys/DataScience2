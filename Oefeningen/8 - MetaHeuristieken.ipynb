{
 "cells": [
  {
   "metadata": {},
   "cell_type": "markdown",
   "source": [
    "# Oefeningen meta heuristiek\n",
    "\n",
    "### vraag 1\n",
    "Je bevindt je in een geheime kamer die uitgerust is met een deur met tijdslot. Je ziet een timer aftellen\n",
    "die meldt dat je nog maar vijf minuten over het alvorens de deur voor altijd op slot zal zijn. Voor je neus\n",
    "liggen waardevolle voorwerpen met elk hun eigen opbrengst en gewicht. Je hebt een rugzak bij die een\n",
    "absoluut maximaal gewicht kan torsen van 750gr. Op Canvas vind je de lijst van voorwerpen met hun\n",
    "gewicht en opbrengst. Stel de optimale rugzak samen. Je zou op een optimale opbrengst van 1458\n",
    "moeten uitkomen (of toch zeker een waarde dicht daarbij in de buurt)."
   ],
   "id": "6c2a930874c1113c"
  },
  {
   "metadata": {
    "ExecuteTime": {
     "end_time": "2024-08-27T14:09:45.973320Z",
     "start_time": "2024-08-27T14:09:44.003519Z"
    }
   },
   "cell_type": "code",
   "source": "import pandas as pd",
   "id": "bdb1a72cff33ee33",
   "outputs": [],
   "execution_count": 1
  },
  {
   "metadata": {
    "ExecuteTime": {
     "end_time": "2024-08-27T14:10:24.537625Z",
     "start_time": "2024-08-27T14:10:24.510120Z"
    }
   },
   "cell_type": "code",
   "source": [
    "rugzak = pd.read_csv('./data/Knapsack Items.csv')\n",
    "rugzak.head()"
   ],
   "id": "307ccca75a74d571",
   "outputs": [
    {
     "data": {
      "text/plain": [
       "   Unnamed: 0  gewichten(gr)  waarde\n",
       "0  Voorwerp 1             70     135\n",
       "1  Voorwerp 2             73     139\n",
       "2  Voorwerp 3             77     149\n",
       "3  Voorwerp 4             80     150\n",
       "4  Voorwerp 5             82     156"
      ],
      "text/html": [
       "<div>\n",
       "<style scoped>\n",
       "    .dataframe tbody tr th:only-of-type {\n",
       "        vertical-align: middle;\n",
       "    }\n",
       "\n",
       "    .dataframe tbody tr th {\n",
       "        vertical-align: top;\n",
       "    }\n",
       "\n",
       "    .dataframe thead th {\n",
       "        text-align: right;\n",
       "    }\n",
       "</style>\n",
       "<table border=\"1\" class=\"dataframe\">\n",
       "  <thead>\n",
       "    <tr style=\"text-align: right;\">\n",
       "      <th></th>\n",
       "      <th>Unnamed: 0</th>\n",
       "      <th>gewichten(gr)</th>\n",
       "      <th>waarde</th>\n",
       "    </tr>\n",
       "  </thead>\n",
       "  <tbody>\n",
       "    <tr>\n",
       "      <th>0</th>\n",
       "      <td>Voorwerp 1</td>\n",
       "      <td>70</td>\n",
       "      <td>135</td>\n",
       "    </tr>\n",
       "    <tr>\n",
       "      <th>1</th>\n",
       "      <td>Voorwerp 2</td>\n",
       "      <td>73</td>\n",
       "      <td>139</td>\n",
       "    </tr>\n",
       "    <tr>\n",
       "      <th>2</th>\n",
       "      <td>Voorwerp 3</td>\n",
       "      <td>77</td>\n",
       "      <td>149</td>\n",
       "    </tr>\n",
       "    <tr>\n",
       "      <th>3</th>\n",
       "      <td>Voorwerp 4</td>\n",
       "      <td>80</td>\n",
       "      <td>150</td>\n",
       "    </tr>\n",
       "    <tr>\n",
       "      <th>4</th>\n",
       "      <td>Voorwerp 5</td>\n",
       "      <td>82</td>\n",
       "      <td>156</td>\n",
       "    </tr>\n",
       "  </tbody>\n",
       "</table>\n",
       "</div>"
      ]
     },
     "execution_count": 3,
     "metadata": {},
     "output_type": "execute_result"
    }
   ],
   "execution_count": 3
  },
  {
   "metadata": {
    "ExecuteTime": {
     "end_time": "2024-08-27T14:11:13.309816Z",
     "start_time": "2024-08-27T14:11:13.292692Z"
    }
   },
   "cell_type": "code",
   "source": [
    "# Haal de gewichten en waarden op\n",
    "gewichten = rugzak['gewichten(gr)'].tolist()\n",
    "waarden = rugzak['waarde'].tolist()\n",
    "max_gewicht = 750\n",
    "\n",
    "# Stap 2: Initialiseer de DP-tabel\n",
    "n = len(gewichten)\n",
    "dp = [[0 for _ in range(max_gewicht + 1)] for _ in range(n + 1)]\n",
    "\n",
    "# Stap 3: Vul de DP-tabel in\n",
    "for i in range(1, n + 1):\n",
    "    for w in range(1, max_gewicht + 1):\n",
    "        if gewichten[i-1] <= w:\n",
    "            dp[i][w] = max(dp[i-1][w], dp[i-1][w-gewichten[i-1]] + waarden[i-1])\n",
    "        else:\n",
    "            dp[i][w] = dp[i-1][w]\n",
    "\n",
    "# Stap 4: Bepaal de geselecteerde voorwerpen\n",
    "w = max_gewicht\n",
    "selected_items = []\n",
    "for i in range(n, 0, -1):\n",
    "    if dp[i][w] != dp[i-1][w]:\n",
    "        selected_items.append(i-1)\n",
    "        w -= gewichten[i-1]\n",
    "\n",
    "# Print de resultaten\n",
    "print(\"Maximale waarde:\", dp[n][max_gewicht])\n",
    "print(\"Geselecteerde voorwerpen:\", selected_items)"
   ],
   "id": "45bc0cc85d70b3bb",
   "outputs": [
    {
     "name": "stdout",
     "output_type": "stream",
     "text": [
      "Maximale waarde: 1458\n",
      "Geselecteerde voorwerpen: [14, 13, 8, 7, 6, 4, 2, 0]\n"
     ]
    }
   ],
   "execution_count": 4
  },
  {
   "metadata": {},
   "cell_type": "markdown",
   "source": [
    "### vraag 2\n",
    "Je bent belast met het ontwerp van dakgoten waarbij de productiekost zo laag mogelijk moet zijn.\n",
    "Daarom is het noodzakelijk dat de dakgoten een zo optimale doorsnede hebben met het beschikbare\n",
    "materiaal zodat bladeren en vuil makkelijk afgevoerd kunnen worden. Het bedrijf waarvoor je werkt\n",
    "koopt metalen platen aan die een breedte hebben van 1m. M.a.w. H + B + H -zie tekening- moet kleiner\n",
    "of gelijk zijn aan 1m. Bepaal de ideale breedte B en hoogte H van de dakgoot die\n",
    "je uit de platen van 1m kan maken."
   ],
   "id": "bad78749e6a049ff"
  },
  {
   "metadata": {
    "ExecuteTime": {
     "end_time": "2024-08-27T14:12:49.917122Z",
     "start_time": "2024-08-27T14:12:47.774781Z"
    }
   },
   "cell_type": "code",
   "source": [
    "import scipy.optimize as opt\n",
    "\n",
    "# Definieer de functie voor de doorsnede van de dakgoot\n",
    "def doorsnede(x):\n",
    "    H, B = x\n",
    "    return -H * B  # Negatief omdat we willen maximaliseren\n",
    "\n",
    "# Definieer de beperking\n",
    "def beperking(x):\n",
    "    H, B = x\n",
    "    return 1 - (2 * H + B)\n",
    "\n",
    "# Startwaarden voor H en B\n",
    "startwaarden = [0.1, 0.1]\n",
    "\n",
    "# Definieer de beperkingen als een dictionary\n",
    "beperkingen = {'type': 'ineq', 'fun': beperking}\n",
    "\n",
    "# Voer de optimalisatie uit\n",
    "resultaat = opt.minimize(doorsnede, startwaarden, constraints=beperkingen, bounds=[(0, 0.5), (0, 1)])\n",
    "\n",
    "# Haal de optimale waarden op\n",
    "H_opt, B_opt = resultaat.x\n",
    "\n",
    "print(f\"Optimale hoogte H: {H_opt:.4f} meter\")\n",
    "print(f\"Optimale breedte B: {B_opt:.4f} meter\")"
   ],
   "id": "b2e2a108b5fe8c12",
   "outputs": [
    {
     "name": "stdout",
     "output_type": "stream",
     "text": [
      "Optimale hoogte H: 0.2500 meter\n",
      "Optimale breedte B: 0.5000 meter\n"
     ]
    }
   ],
   "execution_count": 5
  },
  {
   "metadata": {},
   "cell_type": "markdown",
   "source": [
    "### vraag 3\n",
    "De plaatselijke sportclub wil een nieuw stadion bouwen. De\n",
    "omtrek van het sportveld moet 400m bedragen, en tegelijkertijd\n",
    "willen we ervoor zorgen dat het centrale middenveld een maximale\n",
    "oppervlakte heeft. Bepaal de ideale lengte –en\n",
    "breedteverhouding."
   ],
   "id": "a21bc79150acfaa4"
  },
  {
   "metadata": {
    "ExecuteTime": {
     "end_time": "2024-08-27T14:14:42.505130Z",
     "start_time": "2024-08-27T14:14:42.494154Z"
    }
   },
   "cell_type": "code",
   "source": [
    "# Definieer de functie voor de oppervlakte van het veld\n",
    "def oppervlakte(x):\n",
    "    lengte, breedte = x\n",
    "    return -(lengte * breedte)  # Negatief omdat we willen maximaliseren\n",
    "\n",
    "# Definieer de beperking dat de omtrek 400 meter moet zijn\n",
    "def beperking(x):\n",
    "    lengte, breedte = x\n",
    "    return 400 - (2 * lengte + 2 * breedte)\n",
    "\n",
    "# Startwaarden voor lengte en breedte\n",
    "startwaarden = [100, 100]\n",
    "\n",
    "# Definieer de beperkingen als een dictionary\n",
    "beperkingen = {'type': 'eq', 'fun': beperking}\n",
    "\n",
    "# Voer de optimalisatie uit\n",
    "resultaat = opt.minimize(oppervlakte, startwaarden, constraints=beperkingen, bounds=[(0, 200), (0, 200)])\n",
    "\n",
    "# Haal de optimale waarden op\n",
    "lengte_opt, breedte_opt = resultaat.x\n",
    "\n",
    "print(f\"Optimale lengte: {lengte_opt:.4f} meter\")\n",
    "print(f\"Optimale breedte: {breedte_opt:.4f} meter\")"
   ],
   "id": "83578eab8fc20fa5",
   "outputs": [
    {
     "name": "stdout",
     "output_type": "stream",
     "text": [
      "Optimale lengte: 100.0000 meter\n",
      "Optimale breedte: 100.0000 meter\n"
     ]
    }
   ],
   "execution_count": 6
  },
  {
   "metadata": {},
   "cell_type": "markdown",
   "source": "### vraag 4",
   "id": "3afb4322db165e4f"
  },
  {
   "metadata": {
    "ExecuteTime": {
     "end_time": "2024-08-27T14:16:42.694569Z",
     "start_time": "2024-08-27T14:16:42.690543Z"
    }
   },
   "cell_type": "code",
   "source": "",
   "id": "e1f066b67f7b2fdb",
   "outputs": [],
   "execution_count": 7
  }
 ],
 "metadata": {
  "kernelspec": {
   "display_name": "Python 3",
   "language": "python",
   "name": "python3"
  },
  "language_info": {
   "codemirror_mode": {
    "name": "ipython",
    "version": 2
   },
   "file_extension": ".py",
   "mimetype": "text/x-python",
   "name": "python",
   "nbconvert_exporter": "python",
   "pygments_lexer": "ipython2",
   "version": "2.7.6"
  }
 },
 "nbformat": 4,
 "nbformat_minor": 5
}
