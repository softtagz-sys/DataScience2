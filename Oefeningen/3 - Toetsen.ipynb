{
 "cells": [
  {
   "metadata": {},
   "cell_type": "markdown",
   "source": "# Oefeningen Toetsen",
   "id": "b82d044d8b645110"
  },
  {
   "metadata": {},
   "cell_type": "markdown",
   "source": [
    "### Vraag 1 (Normale moeilijkheidsgraad)\n",
    "Open het bestand opgave \"gamerps.csv\". Schaar steen papier is een spelletje waarbij je zelf een keuze maakt tussen deze drie. Is er echter een voorkeur bij onze scoutsleden\n",
    "van de selectietest? De verwachte verdeling is evenredig. Ga na of onze telling afwijkt\n",
    "van de verwachte verdeling <br>\n",
    "a. Welke test ga je hiervoor gebruiken? <br>\n",
    "b. Hoe luidt H0? \"De telling in onze steekproef is wel/niet evenredig verdeeld.\" <br>\n",
    "c. Wat is de waarde van x²? (3 beduidende cijfers) <br>\n",
    "d. Wat is de kans dat een steekproef een hogere waarde dan x² zou hebben (p-waarde)? (3 beduidende cijfers) <br>\n",
    "e. Kan H0 met een betrouwbaarheid van 95% verworpen worden? <br>\n",
    "f. Kunnen we dus beweren dat de scoutsleden een voorkeur hebben? <br>"
   ],
   "id": "6722d40eb6be848d"
  },
  {
   "cell_type": "code",
   "id": "initial_id",
   "metadata": {
    "collapsed": true,
    "ExecuteTime": {
     "end_time": "2024-08-26T12:40:18.237985Z",
     "start_time": "2024-08-26T12:40:15.720286Z"
    }
   },
   "source": [
    "import pandas as pd\n",
    "import numpy as np\n",
    "from scipy import stats\n",
    "df = pd.read_csv('./data/gamerps.csv')\n",
    "df.head()"
   ],
   "outputs": [
    {
     "data": {
      "text/plain": [
       "       hand\n",
       "0  Scissors\n",
       "1     Paper\n",
       "2     Paper\n",
       "3  Scissors\n",
       "4  Scissors"
      ],
      "text/html": [
       "<div>\n",
       "<style scoped>\n",
       "    .dataframe tbody tr th:only-of-type {\n",
       "        vertical-align: middle;\n",
       "    }\n",
       "\n",
       "    .dataframe tbody tr th {\n",
       "        vertical-align: top;\n",
       "    }\n",
       "\n",
       "    .dataframe thead th {\n",
       "        text-align: right;\n",
       "    }\n",
       "</style>\n",
       "<table border=\"1\" class=\"dataframe\">\n",
       "  <thead>\n",
       "    <tr style=\"text-align: right;\">\n",
       "      <th></th>\n",
       "      <th>hand</th>\n",
       "    </tr>\n",
       "  </thead>\n",
       "  <tbody>\n",
       "    <tr>\n",
       "      <th>0</th>\n",
       "      <td>Scissors</td>\n",
       "    </tr>\n",
       "    <tr>\n",
       "      <th>1</th>\n",
       "      <td>Paper</td>\n",
       "    </tr>\n",
       "    <tr>\n",
       "      <th>2</th>\n",
       "      <td>Paper</td>\n",
       "    </tr>\n",
       "    <tr>\n",
       "      <th>3</th>\n",
       "      <td>Scissors</td>\n",
       "    </tr>\n",
       "    <tr>\n",
       "      <th>4</th>\n",
       "      <td>Scissors</td>\n",
       "    </tr>\n",
       "  </tbody>\n",
       "</table>\n",
       "</div>"
      ]
     },
     "execution_count": 1,
     "metadata": {},
     "output_type": "execute_result"
    }
   ],
   "execution_count": 1
  },
  {
   "metadata": {},
   "cell_type": "code",
   "outputs": [],
   "execution_count": null,
   "source": [
    "#a\n",
    "# chi-kwadraat test\n",
    "\n",
    "#b\n",
    "# wel evenredig"
   ],
   "id": "ea4d42db301837f6"
  },
  {
   "metadata": {
    "ExecuteTime": {
     "end_time": "2024-08-26T13:20:47.767546Z",
     "start_time": "2024-08-26T13:20:47.743931Z"
    }
   },
   "cell_type": "code",
   "source": "df.value_counts()",
   "id": "f96f0f54abf162ea",
   "outputs": [
    {
     "data": {
      "text/plain": [
       "hand    \n",
       "Scissors    30\n",
       "Paper       24\n",
       "Rock        21\n",
       "Name: count, dtype: int64"
      ]
     },
     "execution_count": 4,
     "metadata": {},
     "output_type": "execute_result"
    }
   ],
   "execution_count": 4
  },
  {
   "metadata": {
    "ExecuteTime": {
     "end_time": "2024-08-26T13:19:09.265413Z",
     "start_time": "2024-08-26T13:19:09.237654Z"
    }
   },
   "cell_type": "code",
   "source": [
    "#c & d \n",
    "# Geobserveerde en verwachte frequenties\n",
    "fo = np.array([30, 24, 21])\n",
    "fe = np.array([25, 25, 25])\n",
    "\n",
    "\n",
    "χ2, p_value = stats.chisquare(f_obs=fo, f_exp=fe)\n",
    "\n",
    "print(f'Chi-kwadraat waarde: {χ2}')\n",
    "print(f'p-waarde: {p_value}')\n"
   ],
   "id": "bc3ecb3720833c6b",
   "outputs": [
    {
     "name": "stdout",
     "output_type": "stream",
     "text": [
      "Chi-kwadraat waarde: 1.6800000000000002\n",
      "p-waarde: 0.4317105234290799\n"
     ]
    }
   ],
   "execution_count": 2
  },
  {
   "metadata": {},
   "cell_type": "code",
   "outputs": [],
   "execution_count": null,
   "source": [
    "#e.\n",
    "#nee want 43% is meer dan 5%\n",
    "\n",
    "#f\n",
    "# we kunnen H0 dus niet verwerpen"
   ],
   "id": "54d4fa4653439132"
  },
  {
   "metadata": {},
   "cell_type": "markdown",
   "source": [
    "### Vraag 2 (Normale moeilijkheidsgraad)\n",
    "Open het bestand \"hair colorBrussels\". Het gaat om de gegevens over de kleur van het\n",
    "haar van een steekproef van mensen in Brussel. De verwachte verdeling van haarkleuren\n",
    "in Europa zijn:\n",
    "30% blond, 12% rood, 30% bruin, 25% donker, en 3% zwart. <br>\n",
    "Ga na of onze telling afwijkt van de verwachte verdeling <br> \n",
    "a. Welke test ga je hiervoor gebruiken? <br>\n",
    "b. Hoe luidt H0? \"De haarkleurentelling in onze steekproef wijkt wel/niet af van de verwachte verdeling.\" <br>\n",
    "c. Welke ²-waarde vind je? <br>\n",
    "d. Welke p-waarde vind je? <br>\n",
    "e. Kan H0 met een betrouwbaarheid van 95% kan H0 wel of niet verworpen worden? <br>\n",
    "f. Is er in Brussel een afwijking tov de verwachte verdeling? <br>"
   ],
   "id": "5c02c19fffda7d02"
  },
  {
   "metadata": {
    "ExecuteTime": {
     "end_time": "2024-08-26T14:15:30.567985Z",
     "start_time": "2024-08-26T14:15:30.554084Z"
    }
   },
   "cell_type": "code",
   "source": [
    "# Load the dataset\n",
    "df = pd.read_csv('./data/ColorHairBrussels.csv')\n",
    "\n",
    "# Calculate observed frequencies\n",
    "observed_frequencies = df['hair'].value_counts().reindex(['Blonde', 'Red', 'Brown', 'Dark', 'Black'], fill_value=0).values\n",
    "\n",
    "# Expected frequencies based on given percentages\n",
    "total_count = observed_frequencies.sum()\n",
    "expected_frequencies = np.array([0.30, 0.12, 0.30, 0.25, 0.03]) * total_count\n",
    "\n",
    "# Perform Chi-Square Goodness of Fit test\n",
    "chi2, p_value = stats.chisquare(f_obs=observed_frequencies, f_exp=expected_frequencies)\n",
    "\n",
    "# Print results\n",
    "print(f'Chi-kwadraat waarde: {chi2:.3f}')\n",
    "print(f'p-waarde: {p_value:.3f}')\n",
    "\n",
    "# Decision\n",
    "if p_value < 0.05:\n",
    "    print(\"H0 kan verworpen worden met een betrouwbaarheid van 95%.\")\n",
    "    print(\"Er is een afwijking in de haarkleurentelling ten opzichte van de verwachte verdeling.\")\n",
    "else:\n",
    "    print(\"H0 kan niet verworpen worden met een betrouwbaarheid van 95%.\")\n",
    "    print(\"Er is geen afwijking in de haarkleurentelling ten opzichte van de verwachte verdeling.\")"
   ],
   "id": "b35c5182d0b535b8",
   "outputs": [
    {
     "name": "stdout",
     "output_type": "stream",
     "text": [
      "Chi-kwadraat waarde: 7.760\n",
      "p-waarde: 0.101\n",
      "H0 kan niet verworpen worden met een betrouwbaarheid van 95%.\n",
      "Er is geen afwijking in de haarkleurentelling ten opzichte van de verwachte verdeling.\n"
     ]
    }
   ],
   "execution_count": 21
  },
  {
   "metadata": {},
   "cell_type": "markdown",
   "source": [
    "### Vraag 3 (Normale moeilijkheidsgraad)\n",
    "We willen weten hoeveel requests een server gemiddeld per dag moet verwerken.\n",
    "Daarvoor doen we een meting. We meten gedurende 30 dagen en tellen iedere dag het\n",
    "aantal requests. We komen op een gemiddelde van 975 en een standaardafwijking gelijk\n",
    "aan 100.<br>\n",
    "a. Tussen welke grenzen ligt dan het gemiddeld aantal requests als we 95% zeker willen zijn? <br>\n",
    "b. Stel dat we hetzelfde gemiddelde en standaardafwijking vonden, maar met een steekproef van 100 dagen. Dan zijn we voor 95% zeker dat het gemiddelde tussen ... en ... ligt.<br>\n",
    "c. Stel dat iemand beweert dat de server 1000 requests per dag moet verwerken. Kan je deze stelling dan ondersteunen of verwerpen in de twee gevallen? Je wil weer een zekerheid van 95%.<br>"
   ],
   "id": "fcea9b4e69e3e7ee"
  },
  {
   "metadata": {
    "ExecuteTime": {
     "end_time": "2024-08-26T14:16:45.760163Z",
     "start_time": "2024-08-26T14:16:45.751528Z"
    }
   },
   "cell_type": "code",
   "source": [
    "import scipy.stats as stats\n",
    "import numpy as np\n",
    "\n",
    "# Given data\n",
    "mean_requests = 975\n",
    "std_dev = 100\n",
    "confidence_level = 0.95\n",
    "z_score = stats.norm.ppf((1 + confidence_level) / 2)\n",
    "\n",
    "# Case 1: Sample size of 30 days\n",
    "n1 = 30\n",
    "margin_of_error1 = z_score * (std_dev / np.sqrt(n1))\n",
    "ci_lower1 = mean_requests - margin_of_error1\n",
    "ci_upper1 = mean_requests + margin_of_error1\n",
    "\n",
    "# Case 2: Sample size of 100 days\n",
    "n2 = 100\n",
    "margin_of_error2 = z_score * (std_dev / np.sqrt(n2))\n",
    "ci_lower2 = mean_requests - margin_of_error2\n",
    "ci_upper2 = mean_requests + margin_of_error2\n",
    "\n",
    "# Print results\n",
    "print(f'Case 1 (30 days): 95% CI = [{ci_lower1:.2f}, {ci_upper1:.2f}]')\n",
    "print(f'Case 2 (100 days): 95% CI = [{ci_lower2:.2f}, {ci_upper2:.2f}]')\n",
    "\n",
    "# Evaluate the claim\n",
    "claim = 1000\n",
    "claim_within_ci1 = ci_lower1 <= claim <= ci_upper1\n",
    "claim_within_ci2 = ci_lower2 <= claim <= ci_upper2\n",
    "\n",
    "print(f'Claim of 1000 requests/day:')\n",
    "print(f'  Case 1 (30 days): {\"Supported\" if claim_within_ci1 else \"Not Supported\"}')\n",
    "print(f'  Case 2 (100 days): {\"Supported\" if claim_within_ci2 else \"Not Supported\"}')"
   ],
   "id": "2cfdc14da9052ebc",
   "outputs": [
    {
     "name": "stdout",
     "output_type": "stream",
     "text": [
      "Case 1 (30 days): 95% CI = [939.22, 1010.78]\n",
      "Case 2 (100 days): 95% CI = [955.40, 994.60]\n",
      "Claim of 1000 requests/day:\n",
      "  Case 1 (30 days): Supported\n",
      "  Case 2 (100 days): Not Supported\n"
     ]
    }
   ],
   "execution_count": 22
  },
  {
   "metadata": {},
   "cell_type": "markdown",
   "source": [
    "### Vraag 4 (Normale moeilijkheidsgraad)\n",
    "Een fabriek maakt zakken cornflakes van 12 kg. Om dit te testen, worden regelmatig\n",
    "steekproeven gedaan. Daarbij worden 100 zakken gewogen. De eerste steekproef levert\n",
    "een gemiddelde van 11,9 kg en een standaardafwijking van 1 kg. We gebruiken een\n",
    "alpha=0,01.<br>\n",
    "a. Welke factor (Z-waarde) zal je gebruiken om het interval op te stellen?<br>\n",
    "b. Moeten we de machine bijstellen? Een tweede steekproef levert ook een gemiddelde van 11,9 kg, maar een standaardafwijking van 0,1 kg.<br>\n",
    "c. Welke factor (Z-waarde) gebruiken we deze keer?<br>\n",
    "d. Moeten we de machine deze keer bijstellen? <br>"
   ],
   "id": "dea6c1b019594ab5"
  },
  {
   "metadata": {
    "ExecuteTime": {
     "end_time": "2024-08-26T14:18:14.308594Z",
     "start_time": "2024-08-26T14:18:14.298146Z"
    }
   },
   "cell_type": "code",
   "source": [
    "import scipy.stats as stats\n",
    "import numpy as np\n",
    "\n",
    "# Given data for the first sample\n",
    "mean1 = 11.9\n",
    "std_dev1 = 1\n",
    "n = 100\n",
    "alpha = 0.01\n",
    "confidence_level = 1 - alpha\n",
    "z_value = stats.norm.ppf((1 + confidence_level) / 2)\n",
    "\n",
    "# Calculate the confidence interval for the first sample\n",
    "margin_of_error1 = z_value * (std_dev1 / np.sqrt(n))\n",
    "ci_lower1 = mean1 - margin_of_error1\n",
    "ci_upper1 = mean1 + margin_of_error1\n",
    "\n",
    "# Print results for the first sample\n",
    "print(f'First sample: 99% CI = [{ci_lower1:.2f}, {ci_upper1:.2f}]')\n",
    "\n",
    "# Evaluate if the machine needs adjustment for the first sample\n",
    "machine_adjustment1 = not (ci_lower1 <= 12 <= ci_upper1)\n",
    "print(f'Machine adjustment needed (first sample): {machine_adjustment1}')\n",
    "\n",
    "# Given data for the second sample\n",
    "mean2 = 11.9\n",
    "std_dev2 = 0.1\n",
    "\n",
    "# Calculate the confidence interval for the second sample\n",
    "margin_of_error2 = z_value * (std_dev2 / np.sqrt(n))\n",
    "ci_lower2 = mean2 - margin_of_error2\n",
    "ci_upper2 = mean2 + margin_of_error2\n",
    "\n",
    "# Print results for the second sample\n",
    "print(f'Second sample: 99% CI = [{ci_lower2:.2f}, {ci_upper2:.2f}]')\n",
    "\n",
    "# Evaluate if the machine needs adjustment for the second sample\n",
    "machine_adjustment2 = not (ci_lower2 <= 12 <= ci_upper2)\n",
    "print(f'Machine adjustment needed (second sample): {machine_adjustment2}')"
   ],
   "id": "61b19c837748b0f5",
   "outputs": [
    {
     "name": "stdout",
     "output_type": "stream",
     "text": [
      "First sample: 99% CI = [11.64, 12.16]\n",
      "Machine adjustment needed (first sample): False\n",
      "Second sample: 99% CI = [11.87, 11.93]\n",
      "Machine adjustment needed (second sample): True\n"
     ]
    }
   ],
   "execution_count": 23
  },
  {
   "metadata": {},
   "cell_type": "markdown",
   "source": [
    "### Vraag 5 (Gevorderde moeilijkheidsgraad)\n",
    "In opdracht van een kaasfabriek onderzoeken we of sommige leveranciers knoeien met\n",
    "hun melk door er water toe te voegen. We nemen 5 opeenvolgende zendingen melk en\n",
    "kijken op welke temperatuur deze bevriest. We weten dat het vriespunt van melk gelijk\n",
    "is aan -0,545°C met een standaardafwijking van 0,008°C. Het vriespunt van water is\n",
    "natuurlijk 0°C.\n",
    "In onze steekproef vinden we een gemiddeld vriespunt van -0,539 °C. Stel alpha = 0,1 <br>\n",
    "a. Welke toets gaan we gebruiken? <br>\n",
    "b. Moeten we deze toets eenzijdig of tweezijdig toepassen? <br>\n",
    "c. Is er met de melk geknoeid? <br>\n",
    "d. Wat is de kans dat het vorige antwoord verkeerd is? <br>"
   ],
   "id": "8cc735ce381c9c8a"
  },
  {
   "metadata": {
    "ExecuteTime": {
     "end_time": "2024-08-26T14:20:36.078782Z",
     "start_time": "2024-08-26T14:20:36.053962Z"
    }
   },
   "cell_type": "code",
   "source": [
    "import scipy.stats as stats\n",
    "import numpy as np\n",
    "\n",
    "# Given data\n",
    "mean_sample = -0.539\n",
    "mean_population = -0.545\n",
    "std_dev = 0.008\n",
    "n = 5\n",
    "alpha = 0.1\n",
    "\n",
    "# Calculate the Z-value\n",
    "z_value = (mean_sample - mean_population) / (std_dev / np.sqrt(n))\n",
    "\n",
    "# Calculate the p-value for a two-sided test\n",
    "p_value = 2 * (1 - stats.norm.cdf(abs(z_value)))\n",
    "\n",
    "# Print results\n",
    "print(f'Z-waarde: {z_value:.3f}')\n",
    "print(f'p-waarde: {p_value:.3f}')\n",
    "\n",
    "# Decision\n",
    "if p_value < alpha:\n",
    "    print(\"H0 kan verworpen worden. Er is met de melk geknoeid.\")\n",
    "else:\n",
    "    print(\"H0 kan niet verworpen worden. Er is niet met de melk geknoeid.\")\n",
    "\n",
    "# Probability of Type I error (alpha)\n",
    "print(f'Kans dat het vorige antwoord verkeerd is (Type I error): {alpha}')"
   ],
   "id": "1bfeff9253aa5cbd",
   "outputs": [
    {
     "name": "stdout",
     "output_type": "stream",
     "text": [
      "Z-waarde: 1.677\n",
      "p-waarde: 0.094\n",
      "H0 kan verworpen worden. Er is met de melk geknoeid.\n",
      "Kans dat het vorige antwoord verkeerd is (Type I error): 0.1\n"
     ]
    }
   ],
   "execution_count": 24
  },
  {
   "metadata": {},
   "cell_type": "markdown",
   "source": [
    "### Vraag 6 (Normale moeilijkheidsgraad)\n",
    "We wensen een programmeur aan te werven. We onderwerpen de kandidaten aan een\n",
    "test. We weten dat een goede programmeur een score van gemiddeld 100 haalt op deze\n",
    "test. Enkele (16) studenten van KdG bieden zich aan. We komen op een gemiddelde van\n",
    "107,3 en een standaardafwijking van 8,0.\n",
    "Neem alpha=0,05. We vermoeden dat deze groep afwijkt van de gemiddelde populatie. <br>\n",
    "a. Welke toets gebruiken we?<br>\n",
    "b. Welke factor gaan we gebruiken?<br>\n",
    "We kunnen een interval opstellen waarbinnen we voor 95% zeker zijn dat KdG studenten\n",
    "gemiddeld scoren.<br>\n",
    "c. Wat is de ondergrens van het interval?<br>\n",
    "d. Wat is de bovengrens van het interval?<br>\n",
    "e. Kunnen we op basis van dit interval stellen dat KdG studenten beter scoren dan\n",
    "gemiddeld?"
   ],
   "id": "5beb842eaadc436d"
  },
  {
   "metadata": {
    "ExecuteTime": {
     "end_time": "2024-08-26T14:22:17.415812Z",
     "start_time": "2024-08-26T14:22:17.405049Z"
    }
   },
   "cell_type": "code",
   "source": [
    "import scipy.stats as stats\n",
    "import numpy as np\n",
    "\n",
    "# Given data\n",
    "mean_sample = 107.3\n",
    "mean_population = 100\n",
    "std_dev = 8.0\n",
    "n = 16\n",
    "alpha = 0.05\n",
    "confidence_level = 1 - alpha\n",
    "\n",
    "# Calculate the t-value for the given confidence level and degrees of freedom\n",
    "t_value = stats.t.ppf((1 + confidence_level) / 2, df=n-1)\n",
    "\n",
    "# Calculate the margin of error\n",
    "margin_of_error = t_value * (std_dev / np.sqrt(n))\n",
    "\n",
    "# Calculate the confidence interval\n",
    "ci_lower = mean_sample - margin_of_error\n",
    "ci_upper = mean_sample + margin_of_error\n",
    "\n",
    "# Print results\n",
    "print(f'95% CI = [{ci_lower:.2f}, {ci_upper:.2f}]')\n",
    "\n",
    "# Evaluate if the interval includes the population mean\n",
    "better_than_average = ci_lower > mean_population\n",
    "print(f'KdG students score better than average: {better_than_average}')"
   ],
   "id": "6995a45a0b437a32",
   "outputs": [
    {
     "name": "stdout",
     "output_type": "stream",
     "text": [
      "95% CI = [103.04, 111.56]\n",
      "KdG students score better than average: True\n"
     ]
    }
   ],
   "execution_count": 25
  },
  {
   "metadata": {},
   "cell_type": "markdown",
   "source": [
    "### Vraag 7 (Normale moeilijkheidsgraad)\n",
    "We wensen een onderzoek uit te voeren naar de favoriete browser van studenten.\n",
    "We verwachten de volgende verdeling:\n",
    "- Internet explorer: 8\n",
    "- Opera: 10\n",
    "- Mozilla Firefox: 10\n",
    "- Google chrome: 12\n",
    "\n",
    "<br>Bij navraag bij 1 klasgroep blijkt de verdeling als volgt:\n",
    "- Internet explorer: 17\n",
    "- Opera: 10\n",
    "- Mozilla Firefox: 8\n",
    "- Google chrome: 5\n",
    "\n",
    "a. Welke test ga je toepassen? <br>\n",
    "b. Is deze afwijking binnen onze verwachtingen (alpha=0,01)?<br>\n",
    "c. Wat is de kritieke waarde bij deze gegevens?<br>\n",
    "d. Welke ²-waarde vind je?<br>\n",
    "e. Welke p-waarde vind je?\n"
   ],
   "id": "8ba92301132485ff"
  },
  {
   "metadata": {
    "ExecuteTime": {
     "end_time": "2024-08-26T14:25:05.301713Z",
     "start_time": "2024-08-26T14:25:05.291574Z"
    }
   },
   "cell_type": "code",
   "source": [
    "import numpy as np\n",
    "from scipy import stats\n",
    "\n",
    "# Given data\n",
    "observed_frequencies = np.array([17, 10, 8, 5])\n",
    "expected_frequencies = np.array([8, 10, 10, 12])\n",
    "alpha = 0.01\n",
    "\n",
    "# Perform Chi-Square Goodness of Fit test\n",
    "chi2, p_value = stats.chisquare(f_obs=observed_frequencies, f_exp=expected_frequencies)\n",
    "\n",
    "# Calculate the critical value\n",
    "degrees_of_freedom = len(observed_frequencies) - 1\n",
    "critical_value = stats.chi2.ppf(1 - alpha, degrees_of_freedom)\n",
    "\n",
    "# Print results\n",
    "print(f'Chi-kwadraat waarde: {chi2:.3f}')\n",
    "print(f'p-waarde: {p_value:.3f}')\n",
    "print(f'Kritieke waarde: {critical_value:.3f}')\n",
    "\n",
    "# Decision\n",
    "if p_value < alpha:\n",
    "    print(\"H0 kan verworpen worden. De afwijking is niet binnen onze verwachtingen.\")\n",
    "else:\n",
    "    print(\"H0 kan niet verworpen worden. De afwijking is binnen onze verwachtingen.\")"
   ],
   "id": "e890105b4dd38798",
   "outputs": [
    {
     "name": "stdout",
     "output_type": "stream",
     "text": [
      "Chi-kwadraat waarde: 14.608\n",
      "p-waarde: 0.002\n",
      "Kritieke waarde: 11.345\n",
      "H0 kan verworpen worden. De afwijking is niet binnen onze verwachtingen.\n"
     ]
    }
   ],
   "execution_count": 26
  }
 ],
 "metadata": {
  "kernelspec": {
   "display_name": "Python 3",
   "language": "python",
   "name": "python3"
  },
  "language_info": {
   "codemirror_mode": {
    "name": "ipython",
    "version": 2
   },
   "file_extension": ".py",
   "mimetype": "text/x-python",
   "name": "python",
   "nbconvert_exporter": "python",
   "pygments_lexer": "ipython2",
   "version": "2.7.6"
  }
 },
 "nbformat": 4,
 "nbformat_minor": 5
}
