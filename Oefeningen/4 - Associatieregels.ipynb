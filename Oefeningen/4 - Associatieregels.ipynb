{
 "cells": [
  {
   "metadata": {},
   "cell_type": "markdown",
   "source": [
    "# oefeningen Associatieregels\n",
    "\n",
    "### vraag 1"
   ],
   "id": "873320c684935538"
  },
  {
   "metadata": {
    "ExecuteTime": {
     "end_time": "2024-08-26T15:25:05.071621Z",
     "start_time": "2024-08-26T15:25:05.067957Z"
    }
   },
   "cell_type": "code",
   "source": [
    "import pandas as pd\n",
    "import matplotlib.pyplot as plt"
   ],
   "id": "66f149ed17788492",
   "outputs": [],
   "execution_count": 31
  },
  {
   "metadata": {
    "ExecuteTime": {
     "end_time": "2024-08-26T15:25:48.119262Z",
     "start_time": "2024-08-26T15:25:48.016089Z"
    }
   },
   "cell_type": "code",
   "source": [
    "# a. Lees de gegevens in als een dataframe met de naam adultUCI\n",
    "adultUCI = pd.read_csv('./data/AdultUCI.csv', delimiter=';')"
   ],
   "id": "b51e029d9f7dd687",
   "outputs": [],
   "execution_count": 33
  },
  {
   "metadata": {
    "ExecuteTime": {
     "end_time": "2024-08-26T15:25:49.233620Z",
     "start_time": "2024-08-26T15:25:49.225657Z"
    }
   },
   "cell_type": "code",
   "source": [
    "# b. Bekijk de dataset\n",
    "print(adultUCI.head())"
   ],
   "id": "initial_id",
   "outputs": [
    {
     "name": "stdout",
     "output_type": "stream",
     "text": [
      "   age         workclass  fnlwgt  education  education-num  \\\n",
      "0   39         State-gov   77516  Bachelors             13   \n",
      "1   50  Self-emp-not-inc   83311  Bachelors             13   \n",
      "2   38           Private  215646    HS-grad              9   \n",
      "3   53           Private  234721       11th              7   \n",
      "4   28           Private  338409  Bachelors             13   \n",
      "\n",
      "       marital-status         occupation   relationship   race     sex  \\\n",
      "0       Never-married       Adm-clerical  Not-in-family  White    Male   \n",
      "1  Married-civ-spouse    Exec-managerial        Husband  White    Male   \n",
      "2            Divorced  Handlers-cleaners  Not-in-family  White    Male   \n",
      "3  Married-civ-spouse  Handlers-cleaners        Husband  Black    Male   \n",
      "4  Married-civ-spouse     Prof-specialty           Wife  Black  Female   \n",
      "\n",
      "   capital-gain  capital-loss  hours-per-week native-country income  \n",
      "0          2174             0              40  United-States  small  \n",
      "1             0             0              13  United-States  small  \n",
      "2             0             0              40  United-States  small  \n",
      "3             0             0              40  United-States  small  \n",
      "4             0             0              40           Cuba  small  \n"
     ]
    }
   ],
   "execution_count": 34
  },
  {
   "metadata": {
    "ExecuteTime": {
     "end_time": "2024-08-26T15:25:51.094815Z",
     "start_time": "2024-08-26T15:25:51.069091Z"
    }
   },
   "cell_type": "code",
   "source": [
    "# c. Verwijder de volgende kolommen uit het dataframe als ze bestaan\n",
    "adultUCI.drop(columns=['fnlwgt', 'education-num', 'capital-gain', 'capital-loss'], inplace=True)\n",
    "adultUCI.info()"
   ],
   "id": "f48c6fae9a734f66",
   "outputs": [
    {
     "name": "stdout",
     "output_type": "stream",
     "text": [
      "<class 'pandas.core.frame.DataFrame'>\n",
      "RangeIndex: 48842 entries, 0 to 48841\n",
      "Data columns (total 11 columns):\n",
      " #   Column          Non-Null Count  Dtype \n",
      "---  ------          --------------  ----- \n",
      " 0   age             48842 non-null  int64 \n",
      " 1   workclass       46043 non-null  object\n",
      " 2   education       48842 non-null  object\n",
      " 3   marital-status  48842 non-null  object\n",
      " 4   occupation      46033 non-null  object\n",
      " 5   relationship    48842 non-null  object\n",
      " 6   race            48842 non-null  object\n",
      " 7   sex             48842 non-null  object\n",
      " 8   hours-per-week  48842 non-null  int64 \n",
      " 9   native-country  47985 non-null  object\n",
      " 10  income          32561 non-null  object\n",
      "dtypes: int64(2), object(9)\n",
      "memory usage: 4.1+ MB\n"
     ]
    }
   ],
   "execution_count": 35
  },
  {
   "metadata": {
    "ExecuteTime": {
     "end_time": "2024-08-26T15:25:52.693784Z",
     "start_time": "2024-08-26T15:25:52.672536Z"
    }
   },
   "cell_type": "code",
   "source": [
    "# d. Zet de age kolom om naar klassen\n",
    "age_breaks = [15, 25, 45, 65, 100]\n",
    "age_labels = [\"Young\", \"Middle-aged\", \"Senior\", \"Old\"]\n",
    "adultUCI['age'] = pd.cut(adultUCI['age'], bins=age_breaks, labels=age_labels, right=False)\n",
    "\n",
    "# Zet de hours-per-week kolom om naar klassen\n",
    "hours_breaks = [0, 25, 40, 60, 168]\n",
    "hours_labels = [\"Part-time\", \"Full-time\", \"Over-time\", \"Workaholic\"]\n",
    "adultUCI['hours-per-week'] = pd.cut(adultUCI['hours-per-week'], bins=hours_breaks, labels=hours_labels, right=False)\n",
    "\n",
    "# Bekijk de aangepaste dataset\n",
    "print(adultUCI.head())"
   ],
   "id": "f73edc713fca7e40",
   "outputs": [
    {
     "name": "stdout",
     "output_type": "stream",
     "text": [
      "           age         workclass  education      marital-status  \\\n",
      "0  Middle-aged         State-gov  Bachelors       Never-married   \n",
      "1       Senior  Self-emp-not-inc  Bachelors  Married-civ-spouse   \n",
      "2  Middle-aged           Private    HS-grad            Divorced   \n",
      "3       Senior           Private       11th  Married-civ-spouse   \n",
      "4  Middle-aged           Private  Bachelors  Married-civ-spouse   \n",
      "\n",
      "          occupation   relationship   race     sex hours-per-week  \\\n",
      "0       Adm-clerical  Not-in-family  White    Male      Over-time   \n",
      "1    Exec-managerial        Husband  White    Male      Part-time   \n",
      "2  Handlers-cleaners  Not-in-family  White    Male      Over-time   \n",
      "3  Handlers-cleaners        Husband  Black    Male      Over-time   \n",
      "4     Prof-specialty           Wife  Black  Female      Over-time   \n",
      "\n",
      "  native-country income  \n",
      "0  United-States  small  \n",
      "1  United-States  small  \n",
      "2  United-States  small  \n",
      "3  United-States  small  \n",
      "4           Cuba  small  \n"
     ]
    }
   ],
   "execution_count": 36
  },
  {
   "metadata": {
    "ExecuteTime": {
     "end_time": "2024-08-26T15:25:54.244682Z",
     "start_time": "2024-08-26T15:25:54.187736Z"
    }
   },
   "cell_type": "code",
   "source": [
    "# e. Zet het dataframe om naar een transactions object\n",
    "transacties = pd.get_dummies(adultUCI, prefix='', prefix_sep='=')\n",
    "\n",
    "# Bekijk het resultaat\n",
    "print(transacties.head())"
   ],
   "id": "7f2c3965dcb2ea36",
   "outputs": [
    {
     "name": "stdout",
     "output_type": "stream",
     "text": [
      "   =Young  =Middle-aged  =Senior   =Old  =Federal-gov  =Local-gov  \\\n",
      "0   False          True    False  False         False       False   \n",
      "1   False         False     True  False         False       False   \n",
      "2   False          True    False  False         False       False   \n",
      "3   False         False     True  False         False       False   \n",
      "4   False          True    False  False         False       False   \n",
      "\n",
      "   =Never-worked  =Private  =Self-emp-inc  =Self-emp-not-inc  ...  =Scotland  \\\n",
      "0          False     False          False              False  ...      False   \n",
      "1          False     False          False               True  ...      False   \n",
      "2          False      True          False              False  ...      False   \n",
      "3          False      True          False              False  ...      False   \n",
      "4          False      True          False              False  ...      False   \n",
      "\n",
      "   =South  =Taiwan  =Thailand  =Trinadad&Tobago  =United-States  =Vietnam  \\\n",
      "0   False    False      False             False            True     False   \n",
      "1   False    False      False             False            True     False   \n",
      "2   False    False      False             False            True     False   \n",
      "3   False    False      False             False            True     False   \n",
      "4   False    False      False             False           False     False   \n",
      "\n",
      "   =Yugoslavia  =large  =small  \n",
      "0        False   False    True  \n",
      "1        False   False    True  \n",
      "2        False   False    True  \n",
      "3        False   False    True  \n",
      "4        False   False    True  \n",
      "\n",
      "[5 rows x 109 columns]\n"
     ]
    }
   ],
   "execution_count": 37
  },
  {
   "metadata": {
    "ExecuteTime": {
     "end_time": "2024-08-26T15:25:56.159303Z",
     "start_time": "2024-08-26T15:25:55.789655Z"
    }
   },
   "cell_type": "code",
   "source": [
    "# f. Maak een barchart van alle items met een support van 0.1 of meer.\n",
    "# Bereken support\n",
    "support = transacties.mean()\n",
    "\n",
    "# Filter items met support 0.1 of meer\n",
    "frequent_items = support[support >= 0.1]\n",
    "\n",
    "# bar chart\n",
    "plt.figure(figsize=(10, 6))\n",
    "frequent_items.sort_values().plot(kind='barh')\n",
    "plt.xlabel('Support')\n",
    "plt.ylabel('Items')\n",
    "plt.title('Items with Support of 0.1 or More')\n",
    "plt.show()"
   ],
   "id": "29dafa1d5c9df9d2",
   "outputs": [
    {
     "data": {
      "text/plain": [
       "<Figure size 1000x600 with 1 Axes>"
      ],
      "image/png": "[encoded data removed]"
     },
     "metadata": {},
     "output_type": "display_data"
    }
   ],
   "execution_count": 38
  },
  {
   "metadata": {},
   "cell_type": "code",
   "outputs": [],
   "execution_count": null,
   "source": [
    "# g. Welke twee items hebben een zeer hoge support? Kan je hieruit besluiten dat de afgenomen vragenlijst een goed voorbeeld van een aselecte steekproef?\n",
    "#United states en White, er is dus een overpopulatie van blanke amerikanen"
   ],
   "id": "74649b689023dbf1"
  },
  {
   "metadata": {
    "ExecuteTime": {
     "end_time": "2024-08-26T15:26:02.037738Z",
     "start_time": "2024-08-26T15:25:59.921741Z"
    }
   },
   "cell_type": "code",
   "source": [
    "# h. Hoeveel regels heeft het algoritme gevonden?\n",
    "from mlxtend.frequent_patterns import apriori, association_rules\n",
    "#apriori algorithme\n",
    "itemsets = apriori(transacties, min_support=0.05, use_colnames=True)\n",
    "\n",
    "#associatie regels\n",
    "rules = association_rules(itemsets, metric=\"confidence\", min_threshold=0.6)\n",
    "\n",
    "# gegeven filter function\n",
    "def rule_filter(row, minlen, maxlen):\n",
    "    length = len(row['antecedents']) + len(row['consequents'])\n",
    "    return minlen <= length <= maxlen\n",
    "\n",
    "# pas de filterfunctie toe\n",
    "filtered_rules = rules[rules.apply(rule_filter, minlen=2, maxlen=3, axis=1)]\n",
    "\n",
    "# Tel het aantal gefilterde regels\n",
    "num_rules = len(filtered_rules)\n",
    "print(f\"Number of rules found: {num_rules}\")"
   ],
   "id": "bbeedfd087eb4324",
   "outputs": [
    {
     "name": "stdout",
     "output_type": "stream",
     "text": [
      "Number of rules found: 1191\n"
     ]
    }
   ],
   "execution_count": 39
  },
  {
   "metadata": {
    "ExecuteTime": {
     "end_time": "2024-08-26T15:26:04.034804Z",
     "start_time": "2024-08-26T15:26:04.020289Z"
    }
   },
   "cell_type": "code",
   "source": [
    "# i. Bekijk de regels met de hoogste confidence? Wat valt er op?\n",
    "# Sorteer de gefilterde regels op vertrouwen in aflopende volgorde\n",
    "sorted_rules = filtered_rules.sort_values(by='confidence', ascending=False)\n",
    "\n",
    "# Geef de belangrijkste regels met het grootste vertrouwen weer\n",
    "top_rules = sorted_rules.head()\n",
    "print(top_rules)"
   ],
   "id": "ca3c700d223b5f5b",
   "outputs": [
    {
     "name": "stdout",
     "output_type": "stream",
     "text": [
      "                      antecedents            consequents  antecedent support  \\\n",
      "357           (=Senior, =Husband)                (=Male)            0.156587   \n",
      "960  (=Exec-managerial, =Husband)                (=Male)            0.066152   \n",
      "661        (=Bachelors, =Husband)                (=Male)            0.074444   \n",
      "740     (=Husband, =Some-college)                (=Male)            0.074895   \n",
      "797  (=Exec-managerial, =Husband)  (=Married-civ-spouse)            0.066152   \n",
      "\n",
      "     consequent support   support  confidence      lift  leverage  conviction  \\\n",
      "357            0.668482  0.156587         1.0  1.495926  0.051911         inf   \n",
      "960            0.668482  0.066152         1.0  1.495926  0.021931         inf   \n",
      "661            0.668482  0.074444         1.0  1.495926  0.024680         inf   \n",
      "740            0.668482  0.074895         1.0  1.495926  0.024829         inf   \n",
      "797            0.458192  0.066152         1.0  2.182493  0.035842         inf   \n",
      "\n",
      "     zhangs_metric  \n",
      "357       0.393067  \n",
      "960       0.355002  \n",
      "661       0.358183  \n",
      "740       0.358357  \n",
      "797       0.580189  \n"
     ]
    }
   ],
   "execution_count": 40
  },
  {
   "metadata": {
    "ExecuteTime": {
     "end_time": "2024-08-26T15:30:12.040955Z",
     "start_time": "2024-08-26T15:30:10.567023Z"
    }
   },
   "cell_type": "code",
   "source": [
    "# k. Verwijder de kolom \"relationship\"\n",
    "transacties.drop(columns=[col for col in transacties.columns if col.startswith('relationship=')], inplace=True)\n",
    "\n",
    "# l. Voer het apriori algoritme opnieuw uit\n",
    "itemsets = apriori(transacties, min_support=0.05, use_colnames=True)\n",
    "rules = association_rules(itemsets, metric=\"confidence\", min_threshold=0.6)\n",
    "\n",
    "# Filterfunctie\n",
    "def rule_filter(row, minlen, maxlen):\n",
    "    length = len(row['antecedents']) + len(row['consequents'])\n",
    "    return minlen <= length <= maxlen\n",
    "\n",
    "# Pas de filterfunctie toe\n",
    "filtered_rules = rules[rules.apply(rule_filter, minlen=2, maxlen=3, axis=1)]\n",
    "\n",
    "# Vind de regel met de hoogste confidence\n",
    "sorted_rules = filtered_rules.sort_values(by='confidence', ascending=False)\n",
    "top_rule = sorted_rules.iloc[0]\n",
    "print(f\"Rule with highest confidence: {top_rule}\")\n"
   ],
   "id": "eaac15fc530fe36",
   "outputs": [
    {
     "name": "stdout",
     "output_type": "stream",
     "text": [
      "Rule with highest confidence: antecedents           (=Senior, =Husband)\n",
      "consequents                       (=Male)\n",
      "antecedent support               0.156587\n",
      "consequent support               0.668482\n",
      "support                          0.156587\n",
      "confidence                            1.0\n",
      "lift                             1.495926\n",
      "leverage                         0.051911\n",
      "conviction                            inf\n",
      "zhangs_metric                    0.393067\n",
      "Name: 357, dtype: object\n"
     ]
    }
   ],
   "execution_count": 42
  },
  {
   "metadata": {
    "ExecuteTime": {
     "end_time": "2024-08-26T15:30:35.947651Z",
     "start_time": "2024-08-26T15:30:35.942740Z"
    }
   },
   "cell_type": "code",
   "source": [
    "# m. Analyseer de lift van de topregel\n",
    "lift_value = top_rule['lift']\n",
    "print(f\"Lift value of the top rule: {lift_value}\")"
   ],
   "id": "72b5a9aeb0764d68",
   "outputs": [
    {
     "name": "stdout",
     "output_type": "stream",
     "text": [
      "Lift value of the top rule: 1.495926493108729\n"
     ]
    }
   ],
   "execution_count": 43
  },
  {
   "metadata": {
    "ExecuteTime": {
     "end_time": "2024-08-26T15:30:40.671654Z",
     "start_time": "2024-08-26T15:30:40.607909Z"
    }
   },
   "cell_type": "code",
   "source": [
    "# n. Bepaal de verwachte leeftijdscategorie voor respondenten die overuren werken en een klein inkomen hebben\n",
    "overtime_small_income = transacties[(transacties['hours-per-week=Over-time'] == 1) & (transacties['income=small'] == 1)]\n",
    "age_distribution = overtime_small_income[['age=Young', 'age=Middle-aged', 'age=Senior', 'age=Old']].mean()\n",
    "expected_age_category = age_distribution.idxmax()\n",
    "certainty = age_distribution.max()\n",
    "print(f\"Expected age category: {expected_age_category}, Certainty: {certainty}\")"
   ],
   "id": "9d3466c0a4dbc10d",
   "outputs": [
    {
     "ename": "KeyError",
     "evalue": "'hours-per-week=Over-time'",
     "output_type": "error",
     "traceback": [
      "\u001B[1;31m---------------------------------------------------------------------------\u001B[0m",
      "\u001B[1;31mKeyError\u001B[0m                                  Traceback (most recent call last)",
      "File \u001B[1;32mC:\\pythonenvironments\\DS2\\Lib\\site-packages\\pandas\\core\\indexes\\base.py:3805\u001B[0m, in \u001B[0;36mIndex.get_loc\u001B[1;34m(self, key)\u001B[0m\n\u001B[0;32m   3804\u001B[0m \u001B[38;5;28;01mtry\u001B[39;00m:\n\u001B[1;32m-> 3805\u001B[0m     \u001B[38;5;28;01mreturn\u001B[39;00m \u001B[38;5;28;43mself\u001B[39;49m\u001B[38;5;241;43m.\u001B[39;49m\u001B[43m_engine\u001B[49m\u001B[38;5;241;43m.\u001B[39;49m\u001B[43mget_loc\u001B[49m\u001B[43m(\u001B[49m\u001B[43mcasted_key\u001B[49m\u001B[43m)\u001B[49m\n\u001B[0;32m   3806\u001B[0m \u001B[38;5;28;01mexcept\u001B[39;00m \u001B[38;5;167;01mKeyError\u001B[39;00m \u001B[38;5;28;01mas\u001B[39;00m err:\n",
      "File \u001B[1;32mindex.pyx:167\u001B[0m, in \u001B[0;36mpandas._libs.index.IndexEngine.get_loc\u001B[1;34m()\u001B[0m\n",
      "File \u001B[1;32mindex.pyx:196\u001B[0m, in \u001B[0;36mpandas._libs.index.IndexEngine.get_loc\u001B[1;34m()\u001B[0m\n",
      "File \u001B[1;32mpandas\\\\_libs\\\\hashtable_class_helper.pxi:7081\u001B[0m, in \u001B[0;36mpandas._libs.hashtable.PyObjectHashTable.get_item\u001B[1;34m()\u001B[0m\n",
      "File \u001B[1;32mpandas\\\\_libs\\\\hashtable_class_helper.pxi:7089\u001B[0m, in \u001B[0;36mpandas._libs.hashtable.PyObjectHashTable.get_item\u001B[1;34m()\u001B[0m\n",
      "\u001B[1;31mKeyError\u001B[0m: 'hours-per-week=Over-time'",
      "\nThe above exception was the direct cause of the following exception:\n",
      "\u001B[1;31mKeyError\u001B[0m                                  Traceback (most recent call last)",
      "Cell \u001B[1;32mIn[44], line 2\u001B[0m\n\u001B[0;32m      1\u001B[0m \u001B[38;5;66;03m# n. Bepaal de verwachte leeftijdscategorie voor respondenten die overuren werken en een klein inkomen hebben\u001B[39;00m\n\u001B[1;32m----> 2\u001B[0m overtime_small_income \u001B[38;5;241m=\u001B[39m transacties[(\u001B[43mtransacties\u001B[49m\u001B[43m[\u001B[49m\u001B[38;5;124;43m'\u001B[39;49m\u001B[38;5;124;43mhours-per-week=Over-time\u001B[39;49m\u001B[38;5;124;43m'\u001B[39;49m\u001B[43m]\u001B[49m \u001B[38;5;241m==\u001B[39m \u001B[38;5;241m1\u001B[39m) \u001B[38;5;241m&\u001B[39m (transacties[\u001B[38;5;124m'\u001B[39m\u001B[38;5;124mincome=small\u001B[39m\u001B[38;5;124m'\u001B[39m] \u001B[38;5;241m==\u001B[39m \u001B[38;5;241m1\u001B[39m)]\n\u001B[0;32m      3\u001B[0m age_distribution \u001B[38;5;241m=\u001B[39m overtime_small_income[[\u001B[38;5;124m'\u001B[39m\u001B[38;5;124mage=Young\u001B[39m\u001B[38;5;124m'\u001B[39m, \u001B[38;5;124m'\u001B[39m\u001B[38;5;124mage=Middle-aged\u001B[39m\u001B[38;5;124m'\u001B[39m, \u001B[38;5;124m'\u001B[39m\u001B[38;5;124mage=Senior\u001B[39m\u001B[38;5;124m'\u001B[39m, \u001B[38;5;124m'\u001B[39m\u001B[38;5;124mage=Old\u001B[39m\u001B[38;5;124m'\u001B[39m]]\u001B[38;5;241m.\u001B[39mmean()\n\u001B[0;32m      4\u001B[0m expected_age_category \u001B[38;5;241m=\u001B[39m age_distribution\u001B[38;5;241m.\u001B[39midxmax()\n",
      "File \u001B[1;32mC:\\pythonenvironments\\DS2\\Lib\\site-packages\\pandas\\core\\frame.py:4102\u001B[0m, in \u001B[0;36mDataFrame.__getitem__\u001B[1;34m(self, key)\u001B[0m\n\u001B[0;32m   4100\u001B[0m \u001B[38;5;28;01mif\u001B[39;00m \u001B[38;5;28mself\u001B[39m\u001B[38;5;241m.\u001B[39mcolumns\u001B[38;5;241m.\u001B[39mnlevels \u001B[38;5;241m>\u001B[39m \u001B[38;5;241m1\u001B[39m:\n\u001B[0;32m   4101\u001B[0m     \u001B[38;5;28;01mreturn\u001B[39;00m \u001B[38;5;28mself\u001B[39m\u001B[38;5;241m.\u001B[39m_getitem_multilevel(key)\n\u001B[1;32m-> 4102\u001B[0m indexer \u001B[38;5;241m=\u001B[39m \u001B[38;5;28;43mself\u001B[39;49m\u001B[38;5;241;43m.\u001B[39;49m\u001B[43mcolumns\u001B[49m\u001B[38;5;241;43m.\u001B[39;49m\u001B[43mget_loc\u001B[49m\u001B[43m(\u001B[49m\u001B[43mkey\u001B[49m\u001B[43m)\u001B[49m\n\u001B[0;32m   4103\u001B[0m \u001B[38;5;28;01mif\u001B[39;00m is_integer(indexer):\n\u001B[0;32m   4104\u001B[0m     indexer \u001B[38;5;241m=\u001B[39m [indexer]\n",
      "File \u001B[1;32mC:\\pythonenvironments\\DS2\\Lib\\site-packages\\pandas\\core\\indexes\\base.py:3812\u001B[0m, in \u001B[0;36mIndex.get_loc\u001B[1;34m(self, key)\u001B[0m\n\u001B[0;32m   3807\u001B[0m     \u001B[38;5;28;01mif\u001B[39;00m \u001B[38;5;28misinstance\u001B[39m(casted_key, \u001B[38;5;28mslice\u001B[39m) \u001B[38;5;129;01mor\u001B[39;00m (\n\u001B[0;32m   3808\u001B[0m         \u001B[38;5;28misinstance\u001B[39m(casted_key, abc\u001B[38;5;241m.\u001B[39mIterable)\n\u001B[0;32m   3809\u001B[0m         \u001B[38;5;129;01mand\u001B[39;00m \u001B[38;5;28many\u001B[39m(\u001B[38;5;28misinstance\u001B[39m(x, \u001B[38;5;28mslice\u001B[39m) \u001B[38;5;28;01mfor\u001B[39;00m x \u001B[38;5;129;01min\u001B[39;00m casted_key)\n\u001B[0;32m   3810\u001B[0m     ):\n\u001B[0;32m   3811\u001B[0m         \u001B[38;5;28;01mraise\u001B[39;00m InvalidIndexError(key)\n\u001B[1;32m-> 3812\u001B[0m     \u001B[38;5;28;01mraise\u001B[39;00m \u001B[38;5;167;01mKeyError\u001B[39;00m(key) \u001B[38;5;28;01mfrom\u001B[39;00m \u001B[38;5;21;01merr\u001B[39;00m\n\u001B[0;32m   3813\u001B[0m \u001B[38;5;28;01mexcept\u001B[39;00m \u001B[38;5;167;01mTypeError\u001B[39;00m:\n\u001B[0;32m   3814\u001B[0m     \u001B[38;5;66;03m# If we have a listlike key, _check_indexing_error will raise\u001B[39;00m\n\u001B[0;32m   3815\u001B[0m     \u001B[38;5;66;03m#  InvalidIndexError. Otherwise we fall through and re-raise\u001B[39;00m\n\u001B[0;32m   3816\u001B[0m     \u001B[38;5;66;03m#  the TypeError.\u001B[39;00m\n\u001B[0;32m   3817\u001B[0m     \u001B[38;5;28mself\u001B[39m\u001B[38;5;241m.\u001B[39m_check_indexing_error(key)\n",
      "\u001B[1;31mKeyError\u001B[0m: 'hours-per-week=Over-time'"
     ]
    }
   ],
   "execution_count": 44
  },
  {
   "metadata": {
    "ExecuteTime": {
     "end_time": "2024-08-26T15:31:54.149529Z",
     "start_time": "2024-08-26T15:31:53.623317Z"
    }
   },
   "cell_type": "code",
   "source": [
    "# o. Beschrijf de lift van de regel die in de vorige stap is gebruikt\n",
    "rule_lift = rules[(rules['antecedents'] == frozenset(['hours-per-week=Over-time', 'income=small'])) & (rules['consequents'].apply(lambda x: 'age=' + expected_age_category.split('=')[1] in x))]['lift'].values[0]\n",
    "print(f\"Lift of the rule: {rule_lift}\")"
   ],
   "id": "e2d76b34c57d1000",
   "outputs": [
    {
     "ename": "NameError",
     "evalue": "name 'expected_age_category' is not defined",
     "output_type": "error",
     "traceback": [
      "\u001B[1;31m---------------------------------------------------------------------------\u001B[0m",
      "\u001B[1;31mNameError\u001B[0m                                 Traceback (most recent call last)",
      "Cell \u001B[1;32mIn[46], line 2\u001B[0m\n\u001B[0;32m      1\u001B[0m \u001B[38;5;66;03m# o. Beschrijf de lift van de regel die in de vorige stap is gebruikt\u001B[39;00m\n\u001B[1;32m----> 2\u001B[0m rule_lift \u001B[38;5;241m=\u001B[39m rules[(rules[\u001B[38;5;124m'\u001B[39m\u001B[38;5;124mantecedents\u001B[39m\u001B[38;5;124m'\u001B[39m] \u001B[38;5;241m==\u001B[39m \u001B[38;5;28mfrozenset\u001B[39m([\u001B[38;5;124m'\u001B[39m\u001B[38;5;124mhours-per-week=Over-time\u001B[39m\u001B[38;5;124m'\u001B[39m, \u001B[38;5;124m'\u001B[39m\u001B[38;5;124mincome=small\u001B[39m\u001B[38;5;124m'\u001B[39m])) \u001B[38;5;241m&\u001B[39m (\u001B[43mrules\u001B[49m\u001B[43m[\u001B[49m\u001B[38;5;124;43m'\u001B[39;49m\u001B[38;5;124;43mconsequents\u001B[39;49m\u001B[38;5;124;43m'\u001B[39;49m\u001B[43m]\u001B[49m\u001B[38;5;241;43m.\u001B[39;49m\u001B[43mapply\u001B[49m\u001B[43m(\u001B[49m\u001B[38;5;28;43;01mlambda\u001B[39;49;00m\u001B[43m \u001B[49m\u001B[43mx\u001B[49m\u001B[43m:\u001B[49m\u001B[43m \u001B[49m\u001B[38;5;124;43m'\u001B[39;49m\u001B[38;5;124;43mage=\u001B[39;49m\u001B[38;5;124;43m'\u001B[39;49m\u001B[43m \u001B[49m\u001B[38;5;241;43m+\u001B[39;49m\u001B[43m \u001B[49m\u001B[43mexpected_age_category\u001B[49m\u001B[38;5;241;43m.\u001B[39;49m\u001B[43msplit\u001B[49m\u001B[43m(\u001B[49m\u001B[38;5;124;43m'\u001B[39;49m\u001B[38;5;124;43m=\u001B[39;49m\u001B[38;5;124;43m'\u001B[39;49m\u001B[43m)\u001B[49m\u001B[43m[\u001B[49m\u001B[38;5;241;43m1\u001B[39;49m\u001B[43m]\u001B[49m\u001B[43m \u001B[49m\u001B[38;5;129;43;01min\u001B[39;49;00m\u001B[43m \u001B[49m\u001B[43mx\u001B[49m\u001B[43m)\u001B[49m)][\u001B[38;5;124m'\u001B[39m\u001B[38;5;124mlift\u001B[39m\u001B[38;5;124m'\u001B[39m]\u001B[38;5;241m.\u001B[39mvalues[\u001B[38;5;241m0\u001B[39m]\n\u001B[0;32m      3\u001B[0m \u001B[38;5;28mprint\u001B[39m(\u001B[38;5;124mf\u001B[39m\u001B[38;5;124m\"\u001B[39m\u001B[38;5;124mLift of the rule: \u001B[39m\u001B[38;5;132;01m{\u001B[39;00mrule_lift\u001B[38;5;132;01m}\u001B[39;00m\u001B[38;5;124m\"\u001B[39m)\n",
      "File \u001B[1;32mC:\\pythonenvironments\\DS2\\Lib\\site-packages\\pandas\\core\\series.py:4924\u001B[0m, in \u001B[0;36mSeries.apply\u001B[1;34m(self, func, convert_dtype, args, by_row, **kwargs)\u001B[0m\n\u001B[0;32m   4789\u001B[0m \u001B[38;5;28;01mdef\u001B[39;00m \u001B[38;5;21mapply\u001B[39m(\n\u001B[0;32m   4790\u001B[0m     \u001B[38;5;28mself\u001B[39m,\n\u001B[0;32m   4791\u001B[0m     func: AggFuncType,\n\u001B[1;32m   (...)\u001B[0m\n\u001B[0;32m   4796\u001B[0m     \u001B[38;5;241m*\u001B[39m\u001B[38;5;241m*\u001B[39mkwargs,\n\u001B[0;32m   4797\u001B[0m ) \u001B[38;5;241m-\u001B[39m\u001B[38;5;241m>\u001B[39m DataFrame \u001B[38;5;241m|\u001B[39m Series:\n\u001B[0;32m   4798\u001B[0m \u001B[38;5;250m    \u001B[39m\u001B[38;5;124;03m\"\"\"\u001B[39;00m\n\u001B[0;32m   4799\u001B[0m \u001B[38;5;124;03m    Invoke function on values of Series.\u001B[39;00m\n\u001B[0;32m   4800\u001B[0m \n\u001B[1;32m   (...)\u001B[0m\n\u001B[0;32m   4915\u001B[0m \u001B[38;5;124;03m    dtype: float64\u001B[39;00m\n\u001B[0;32m   4916\u001B[0m \u001B[38;5;124;03m    \"\"\"\u001B[39;00m\n\u001B[0;32m   4917\u001B[0m     \u001B[38;5;28;01mreturn\u001B[39;00m \u001B[43mSeriesApply\u001B[49m\u001B[43m(\u001B[49m\n\u001B[0;32m   4918\u001B[0m \u001B[43m        \u001B[49m\u001B[38;5;28;43mself\u001B[39;49m\u001B[43m,\u001B[49m\n\u001B[0;32m   4919\u001B[0m \u001B[43m        \u001B[49m\u001B[43mfunc\u001B[49m\u001B[43m,\u001B[49m\n\u001B[0;32m   4920\u001B[0m \u001B[43m        \u001B[49m\u001B[43mconvert_dtype\u001B[49m\u001B[38;5;241;43m=\u001B[39;49m\u001B[43mconvert_dtype\u001B[49m\u001B[43m,\u001B[49m\n\u001B[0;32m   4921\u001B[0m \u001B[43m        \u001B[49m\u001B[43mby_row\u001B[49m\u001B[38;5;241;43m=\u001B[39;49m\u001B[43mby_row\u001B[49m\u001B[43m,\u001B[49m\n\u001B[0;32m   4922\u001B[0m \u001B[43m        \u001B[49m\u001B[43margs\u001B[49m\u001B[38;5;241;43m=\u001B[39;49m\u001B[43margs\u001B[49m\u001B[43m,\u001B[49m\n\u001B[0;32m   4923\u001B[0m \u001B[43m        \u001B[49m\u001B[43mkwargs\u001B[49m\u001B[38;5;241;43m=\u001B[39;49m\u001B[43mkwargs\u001B[49m\u001B[43m,\u001B[49m\n\u001B[1;32m-> 4924\u001B[0m \u001B[43m    \u001B[49m\u001B[43m)\u001B[49m\u001B[38;5;241;43m.\u001B[39;49m\u001B[43mapply\u001B[49m\u001B[43m(\u001B[49m\u001B[43m)\u001B[49m\n",
      "File \u001B[1;32mC:\\pythonenvironments\\DS2\\Lib\\site-packages\\pandas\\core\\apply.py:1427\u001B[0m, in \u001B[0;36mSeriesApply.apply\u001B[1;34m(self)\u001B[0m\n\u001B[0;32m   1424\u001B[0m     \u001B[38;5;28;01mreturn\u001B[39;00m \u001B[38;5;28mself\u001B[39m\u001B[38;5;241m.\u001B[39mapply_compat()\n\u001B[0;32m   1426\u001B[0m \u001B[38;5;66;03m# self.func is Callable\u001B[39;00m\n\u001B[1;32m-> 1427\u001B[0m \u001B[38;5;28;01mreturn\u001B[39;00m \u001B[38;5;28;43mself\u001B[39;49m\u001B[38;5;241;43m.\u001B[39;49m\u001B[43mapply_standard\u001B[49m\u001B[43m(\u001B[49m\u001B[43m)\u001B[49m\n",
      "File \u001B[1;32mC:\\pythonenvironments\\DS2\\Lib\\site-packages\\pandas\\core\\apply.py:1507\u001B[0m, in \u001B[0;36mSeriesApply.apply_standard\u001B[1;34m(self)\u001B[0m\n\u001B[0;32m   1501\u001B[0m \u001B[38;5;66;03m# row-wise access\u001B[39;00m\n\u001B[0;32m   1502\u001B[0m \u001B[38;5;66;03m# apply doesn't have a `na_action` keyword and for backward compat reasons\u001B[39;00m\n\u001B[0;32m   1503\u001B[0m \u001B[38;5;66;03m# we need to give `na_action=\"ignore\"` for categorical data.\u001B[39;00m\n\u001B[0;32m   1504\u001B[0m \u001B[38;5;66;03m# TODO: remove the `na_action=\"ignore\"` when that default has been changed in\u001B[39;00m\n\u001B[0;32m   1505\u001B[0m \u001B[38;5;66;03m#  Categorical (GH51645).\u001B[39;00m\n\u001B[0;32m   1506\u001B[0m action \u001B[38;5;241m=\u001B[39m \u001B[38;5;124m\"\u001B[39m\u001B[38;5;124mignore\u001B[39m\u001B[38;5;124m\"\u001B[39m \u001B[38;5;28;01mif\u001B[39;00m \u001B[38;5;28misinstance\u001B[39m(obj\u001B[38;5;241m.\u001B[39mdtype, CategoricalDtype) \u001B[38;5;28;01melse\u001B[39;00m \u001B[38;5;28;01mNone\u001B[39;00m\n\u001B[1;32m-> 1507\u001B[0m mapped \u001B[38;5;241m=\u001B[39m \u001B[43mobj\u001B[49m\u001B[38;5;241;43m.\u001B[39;49m\u001B[43m_map_values\u001B[49m\u001B[43m(\u001B[49m\n\u001B[0;32m   1508\u001B[0m \u001B[43m    \u001B[49m\u001B[43mmapper\u001B[49m\u001B[38;5;241;43m=\u001B[39;49m\u001B[43mcurried\u001B[49m\u001B[43m,\u001B[49m\u001B[43m \u001B[49m\u001B[43mna_action\u001B[49m\u001B[38;5;241;43m=\u001B[39;49m\u001B[43maction\u001B[49m\u001B[43m,\u001B[49m\u001B[43m \u001B[49m\u001B[43mconvert\u001B[49m\u001B[38;5;241;43m=\u001B[39;49m\u001B[38;5;28;43mself\u001B[39;49m\u001B[38;5;241;43m.\u001B[39;49m\u001B[43mconvert_dtype\u001B[49m\n\u001B[0;32m   1509\u001B[0m \u001B[43m\u001B[49m\u001B[43m)\u001B[49m\n\u001B[0;32m   1511\u001B[0m \u001B[38;5;28;01mif\u001B[39;00m \u001B[38;5;28mlen\u001B[39m(mapped) \u001B[38;5;129;01mand\u001B[39;00m \u001B[38;5;28misinstance\u001B[39m(mapped[\u001B[38;5;241m0\u001B[39m], ABCSeries):\n\u001B[0;32m   1512\u001B[0m     \u001B[38;5;66;03m# GH#43986 Need to do list(mapped) in order to get treated as nested\u001B[39;00m\n\u001B[0;32m   1513\u001B[0m     \u001B[38;5;66;03m#  See also GH#25959 regarding EA support\u001B[39;00m\n\u001B[0;32m   1514\u001B[0m     \u001B[38;5;28;01mreturn\u001B[39;00m obj\u001B[38;5;241m.\u001B[39m_constructor_expanddim(\u001B[38;5;28mlist\u001B[39m(mapped), index\u001B[38;5;241m=\u001B[39mobj\u001B[38;5;241m.\u001B[39mindex)\n",
      "File \u001B[1;32mC:\\pythonenvironments\\DS2\\Lib\\site-packages\\pandas\\core\\base.py:921\u001B[0m, in \u001B[0;36mIndexOpsMixin._map_values\u001B[1;34m(self, mapper, na_action, convert)\u001B[0m\n\u001B[0;32m    918\u001B[0m \u001B[38;5;28;01mif\u001B[39;00m \u001B[38;5;28misinstance\u001B[39m(arr, ExtensionArray):\n\u001B[0;32m    919\u001B[0m     \u001B[38;5;28;01mreturn\u001B[39;00m arr\u001B[38;5;241m.\u001B[39mmap(mapper, na_action\u001B[38;5;241m=\u001B[39mna_action)\n\u001B[1;32m--> 921\u001B[0m \u001B[38;5;28;01mreturn\u001B[39;00m \u001B[43malgorithms\u001B[49m\u001B[38;5;241;43m.\u001B[39;49m\u001B[43mmap_array\u001B[49m\u001B[43m(\u001B[49m\u001B[43marr\u001B[49m\u001B[43m,\u001B[49m\u001B[43m \u001B[49m\u001B[43mmapper\u001B[49m\u001B[43m,\u001B[49m\u001B[43m \u001B[49m\u001B[43mna_action\u001B[49m\u001B[38;5;241;43m=\u001B[39;49m\u001B[43mna_action\u001B[49m\u001B[43m,\u001B[49m\u001B[43m \u001B[49m\u001B[43mconvert\u001B[49m\u001B[38;5;241;43m=\u001B[39;49m\u001B[43mconvert\u001B[49m\u001B[43m)\u001B[49m\n",
      "File \u001B[1;32mC:\\pythonenvironments\\DS2\\Lib\\site-packages\\pandas\\core\\algorithms.py:1743\u001B[0m, in \u001B[0;36mmap_array\u001B[1;34m(arr, mapper, na_action, convert)\u001B[0m\n\u001B[0;32m   1741\u001B[0m values \u001B[38;5;241m=\u001B[39m arr\u001B[38;5;241m.\u001B[39mastype(\u001B[38;5;28mobject\u001B[39m, copy\u001B[38;5;241m=\u001B[39m\u001B[38;5;28;01mFalse\u001B[39;00m)\n\u001B[0;32m   1742\u001B[0m \u001B[38;5;28;01mif\u001B[39;00m na_action \u001B[38;5;129;01mis\u001B[39;00m \u001B[38;5;28;01mNone\u001B[39;00m:\n\u001B[1;32m-> 1743\u001B[0m     \u001B[38;5;28;01mreturn\u001B[39;00m \u001B[43mlib\u001B[49m\u001B[38;5;241;43m.\u001B[39;49m\u001B[43mmap_infer\u001B[49m\u001B[43m(\u001B[49m\u001B[43mvalues\u001B[49m\u001B[43m,\u001B[49m\u001B[43m \u001B[49m\u001B[43mmapper\u001B[49m\u001B[43m,\u001B[49m\u001B[43m \u001B[49m\u001B[43mconvert\u001B[49m\u001B[38;5;241;43m=\u001B[39;49m\u001B[43mconvert\u001B[49m\u001B[43m)\u001B[49m\n\u001B[0;32m   1744\u001B[0m \u001B[38;5;28;01melse\u001B[39;00m:\n\u001B[0;32m   1745\u001B[0m     \u001B[38;5;28;01mreturn\u001B[39;00m lib\u001B[38;5;241m.\u001B[39mmap_infer_mask(\n\u001B[0;32m   1746\u001B[0m         values, mapper, mask\u001B[38;5;241m=\u001B[39misna(values)\u001B[38;5;241m.\u001B[39mview(np\u001B[38;5;241m.\u001B[39muint8), convert\u001B[38;5;241m=\u001B[39mconvert\n\u001B[0;32m   1747\u001B[0m     )\n",
      "File \u001B[1;32mlib.pyx:2972\u001B[0m, in \u001B[0;36mpandas._libs.lib.map_infer\u001B[1;34m()\u001B[0m\n",
      "Cell \u001B[1;32mIn[46], line 2\u001B[0m, in \u001B[0;36m<lambda>\u001B[1;34m(x)\u001B[0m\n\u001B[0;32m      1\u001B[0m \u001B[38;5;66;03m# o. Beschrijf de lift van de regel die in de vorige stap is gebruikt\u001B[39;00m\n\u001B[1;32m----> 2\u001B[0m rule_lift \u001B[38;5;241m=\u001B[39m rules[(rules[\u001B[38;5;124m'\u001B[39m\u001B[38;5;124mantecedents\u001B[39m\u001B[38;5;124m'\u001B[39m] \u001B[38;5;241m==\u001B[39m \u001B[38;5;28mfrozenset\u001B[39m([\u001B[38;5;124m'\u001B[39m\u001B[38;5;124mhours-per-week=Over-time\u001B[39m\u001B[38;5;124m'\u001B[39m, \u001B[38;5;124m'\u001B[39m\u001B[38;5;124mincome=small\u001B[39m\u001B[38;5;124m'\u001B[39m])) \u001B[38;5;241m&\u001B[39m (rules[\u001B[38;5;124m'\u001B[39m\u001B[38;5;124mconsequents\u001B[39m\u001B[38;5;124m'\u001B[39m]\u001B[38;5;241m.\u001B[39mapply(\u001B[38;5;28;01mlambda\u001B[39;00m x: \u001B[38;5;124m'\u001B[39m\u001B[38;5;124mage=\u001B[39m\u001B[38;5;124m'\u001B[39m \u001B[38;5;241m+\u001B[39m \u001B[43mexpected_age_category\u001B[49m\u001B[38;5;241m.\u001B[39msplit(\u001B[38;5;124m'\u001B[39m\u001B[38;5;124m=\u001B[39m\u001B[38;5;124m'\u001B[39m)[\u001B[38;5;241m1\u001B[39m] \u001B[38;5;129;01min\u001B[39;00m x))][\u001B[38;5;124m'\u001B[39m\u001B[38;5;124mlift\u001B[39m\u001B[38;5;124m'\u001B[39m]\u001B[38;5;241m.\u001B[39mvalues[\u001B[38;5;241m0\u001B[39m]\n\u001B[0;32m      3\u001B[0m \u001B[38;5;28mprint\u001B[39m(\u001B[38;5;124mf\u001B[39m\u001B[38;5;124m\"\u001B[39m\u001B[38;5;124mLift of the rule: \u001B[39m\u001B[38;5;132;01m{\u001B[39;00mrule_lift\u001B[38;5;132;01m}\u001B[39;00m\u001B[38;5;124m\"\u001B[39m)\n",
      "\u001B[1;31mNameError\u001B[0m: name 'expected_age_category' is not defined"
     ]
    }
   ],
   "execution_count": 46
  },
  {
   "metadata": {},
   "cell_type": "code",
   "outputs": [],
   "execution_count": null,
   "source": [
    "# p. Controleer de frequentie van de combinatie van de drie items\n",
    "combination_frequency = overtime_small_income.shape[0] / transacties.shape[0]\n",
    "print(f\"Frequency of the combination: {combination_frequency}\")"
   ],
   "id": "74b80c58ab591395"
  },
  {
   "metadata": {},
   "cell_type": "code",
   "outputs": [],
   "execution_count": null,
   "source": [
    "# q. Onderzoek of er regels zijn die betrekking hebben op hours-per-week=Workaholic\n",
    "workaholic_rules = rules[rules['antecedents'].apply(lambda x: 'hours-per-week=Workaholic' in x)]\n",
    "print(f\"Rules involving hours-per-week=Workaholic: {workaholic_rules}\")"
   ],
   "id": "2d5f3095129772b3"
  },
  {
   "metadata": {},
   "cell_type": "markdown",
   "source": "### vraag 2",
   "id": "58777a5cfc80d16a"
  },
  {
   "metadata": {
    "ExecuteTime": {
     "end_time": "2024-08-26T15:21:15.040326Z",
     "start_time": "2024-08-26T15:21:15.015686Z"
    }
   },
   "cell_type": "code",
   "source": [
    "# a. Lees de dataset in\n",
    "fruit_data = pd.read_csv('./data/fruitaankoop 20-21.csv', delimiter=';')\n",
    "\n",
    "# Preprocess de data\n",
    "# We gaan ervan uit dat de dataset in een transactioneel formaat is waarbij elke rij de top 3 fruitkeuzes van een student vertegenwoordigt\n",
    "# Converteer de dataset naar een one-hot encoded formaat\n",
    "fruit_transactions = pd.get_dummies(fruit_data, prefix='', prefix_sep='=')\n",
    "\n",
    "# b. Genereer associatieregels met behulp van het apriori algoritme\n",
    "itemsets = apriori(fruit_transactions, min_support=0.1, use_colnames=True)\n",
    "rules = association_rules(itemsets, metric=\"confidence\", min_threshold=0.3)\n",
    "\n",
    "# Filter regels met minlen=2 en maxlen=2\n",
    "rules['rule_length'] = rules['antecedents'].apply(lambda x: len(x)) + rules['consequents'].apply(lambda x: len(x))\n",
    "filtered_rules = rules[(rules['rule_length'] == 2)]\n",
    "\n",
    "# c. Vind de regel met de hoogste confidence\n",
    "top_rule = filtered_rules.sort_values(by='confidence', ascending=False).iloc[0]\n",
    "\n",
    "# d. Fruit voor promotie\n",
    "fruit_promotion = list(top_rule['antecedents'])[0]\n",
    "\n",
    "# e. Fruit om naast de promotie te plaatsen\n",
    "fruit_next_to_promotion = list(top_rule['consequents'])[0]\n",
    "\n",
    "# f. Bereken het percentage studenten met de combinatie in hun top 3\n",
    "# Maak een kolom voor de combinatie van de twee fruitsoorten\n",
    "combination_col = fruit_transactions[fruit_promotion] & fruit_transactions[fruit_next_to_promotion]\n",
    "percentage_students = combination_col.mean() * 100\n",
    "\n",
    "# g. Analyseer de lift\n",
    "lift_value = top_rule['lift']\n",
    "\n",
    "# Print resultaten\n",
    "print(f\"Fruit voor promotie: {fruit_promotion}\")\n",
    "print(f\"Fruit om naast de promotie te plaatsen: {fruit_next_to_promotion}\")\n",
    "print(f\"Percentage studenten met de combinatie in hun top 3: {percentage_students:.2f}%\")\n",
    "print(f\"Lift waarde van de top regel: {lift_value:.2f}\")"
   ],
   "id": "ff56f9aa6cb875cf",
   "outputs": [
    {
     "name": "stdout",
     "output_type": "stream",
     "text": [
      "Fruit voor promotie: Ananas\n",
      "Fruit om naast de promotie te plaatsen: Aardbei\n",
      "Percentage studenten met de combinatie in hun top 3: 22.22%\n",
      "Lift waarde van de top regel: 1.11\n"
     ]
    }
   ],
   "execution_count": 30
  }
 ],
 "metadata": {
  "kernelspec": {
   "display_name": "Python 3",
   "language": "python",
   "name": "python3"
  },
  "language_info": {
   "codemirror_mode": {
    "name": "ipython",
    "version": 2
   },
   "file_extension": ".py",
   "mimetype": "text/x-python",
   "name": "python",
   "nbconvert_exporter": "python",
   "pygments_lexer": "ipython2",
   "version": "2.7.6"
  }
 },
 "nbformat": 4,
 "nbformat_minor": 5
}
