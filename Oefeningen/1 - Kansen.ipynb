{
 "cells": [
  {
   "metadata": {},
   "cell_type": "markdown",
   "source": "# Oefeningen Kansen",
   "id": "f78b52abed16de50"
  },
  {
   "metadata": {},
   "cell_type": "markdown",
   "source": [
    "### Vraag 1\n",
    "Je werpt met 2 dobbelstenen. Hoe groot is de kans dat je een 5 en een 2 gooit? (3 beduidende cijfers)"
   ],
   "id": "2fb61f559ed25819"
  },
  {
   "cell_type": "code",
   "id": "initial_id",
   "metadata": {
    "collapsed": true,
    "ExecuteTime": {
     "end_time": "2024-08-26T07:32:57.727649Z",
     "start_time": "2024-08-26T07:32:57.722314Z"
    }
   },
   "source": [
    "P52 = 1/6 * 1/6 + 1/6 * 1/6\n",
    "print(round(P52,3))"
   ],
   "outputs": [
    {
     "name": "stdout",
     "output_type": "stream",
     "text": [
      "0.056\n"
     ]
    }
   ],
   "execution_count": 3
  },
  {
   "metadata": {},
   "cell_type": "markdown",
   "source": [
    "### Vraag 2\n",
    "We hebben 2 dobbelstenen. <br>\n",
    "1e: 3 gele vlakken en 3 rode vlakken <br>\n",
    "2e: 5 gele vlakken en 1 rood vlak.<br>\n",
    "Hoe groot is de kans op zowel een geel als een rood vlak?"
   ],
   "id": "76fba93afe857f3"
  },
  {
   "metadata": {
    "ExecuteTime": {
     "end_time": "2024-08-26T07:57:05.255912Z",
     "start_time": "2024-08-26T07:57:05.249860Z"
    }
   },
   "cell_type": "code",
   "source": [
    "Pgeelrood = 1/2 * 5/6 + 1/2 * 1/6\n",
    "print(round(Pgeelrood, 3))"
   ],
   "id": "365df347a25f5693",
   "outputs": [
    {
     "name": "stdout",
     "output_type": "stream",
     "text": [
      "0.5\n"
     ]
    }
   ],
   "execution_count": 4
  },
  {
   "metadata": {},
   "cell_type": "markdown",
   "source": [
    "### Vraag 3\n",
    "Een doos bevat 4 gele, 2 bruine, 1 oranje, 1 groene en 2 paarse knikkers. We trekken telkens zonder teruglegging. (telkens 2 beduidende cijfers)\n",
    "1. Wanneer we 4 knikkers trekken, hoe groot is dan de kans dat alle knikkers geel zijn?\n",
    "2. Wanneer we 2 knikkers trekken, hoe groot is dan de kans op een bruine en een groene\n",
    "knikker?\n",
    "3. Wanneer we 1 knikker trekken, hoe groot is dan de kans op een oranje of een groene\n",
    "knikker?"
   ],
   "id": "fc406b5d7b62cfed"
  },
  {
   "metadata": {
    "ExecuteTime": {
     "end_time": "2024-08-26T08:06:45.210168Z",
     "start_time": "2024-08-26T08:06:45.202581Z"
    }
   },
   "cell_type": "code",
   "source": [
    "tot = 4+2+1+1+2\n",
    "\n",
    "#1\n",
    "4/tot * 3/(tot-1) * 2/(tot-2) * 1/(tot-3)"
   ],
   "id": "cdbd38e77b2d1bf9",
   "outputs": [
    {
     "data": {
      "text/plain": [
       "0.004761904761904763"
      ]
     },
     "execution_count": 9,
     "metadata": {},
     "output_type": "execute_result"
    }
   ],
   "execution_count": 9
  },
  {
   "metadata": {
    "ExecuteTime": {
     "end_time": "2024-08-26T08:07:18.111739Z",
     "start_time": "2024-08-26T08:07:18.096036Z"
    }
   },
   "cell_type": "code",
   "source": [
    "#2\n",
    "1/tot * 2/(tot-1) + 2/tot * 1/(tot-1)"
   ],
   "id": "b848e8d1c88e38a3",
   "outputs": [
    {
     "data": {
      "text/plain": [
       "0.044444444444444446"
      ]
     },
     "execution_count": 11,
     "metadata": {},
     "output_type": "execute_result"
    }
   ],
   "execution_count": 11
  },
  {
   "metadata": {
    "ExecuteTime": {
     "end_time": "2024-08-26T08:08:26.563958Z",
     "start_time": "2024-08-26T08:08:26.557976Z"
    }
   },
   "cell_type": "code",
   "source": [
    "#3\n",
    "1/tot + 1/tot"
   ],
   "id": "8921ac0ff12d69b3",
   "outputs": [
    {
     "data": {
      "text/plain": [
       "0.2"
      ]
     },
     "execution_count": 12,
     "metadata": {},
     "output_type": "execute_result"
    }
   ],
   "execution_count": 12
  },
  {
   "metadata": {},
   "cell_type": "markdown",
   "source": [
    "### Vraag 4\n",
    "Voor een groep van 144 studenten zijn er 90 geslaagd op het examen “OO concepten” en 60 voor “JavaFX”. <br>\n",
    "Van de 90 die geslaagd zijn op “OO concepten” zijn er 30 ook geslaagd op “JavaFX”.<br>\n",
    "Hoe groot is de kans dat als we een willekeurige studenten selecteren dat deze geslaagd is voor tenminste 1 van de 2 examens? (4 beduidende cijfers)"
   ],
   "id": "67950ea62203233d"
  },
  {
   "metadata": {
    "ExecuteTime": {
     "end_time": "2024-08-26T08:12:57.434262Z",
     "start_time": "2024-08-26T08:12:57.427094Z"
    }
   },
   "cell_type": "code",
   "source": "(90 + 60 - 30)/144",
   "id": "82720d8b33fed12b",
   "outputs": [
    {
     "data": {
      "text/plain": [
       "0.8333333333333334"
      ]
     },
     "execution_count": 16,
     "metadata": {},
     "output_type": "execute_result"
    }
   ],
   "execution_count": 16
  },
  {
   "metadata": {},
   "cell_type": "markdown",
   "source": [
    "### Vraag 5\n",
    "Op een groep van 1000 studenten zijn er 400 die regelmatig computerspelletjes spelen(S) en 200 die regelmatig bordspelen speelt(B). Er zijn er 100 die regelmatig computerspelletjes spelen en bordspelen speelt (S en B). <br>\n",
    "Hoe groot is de kans dat als je een willekeurige student kiest dat deze regelmatig spelletjes speelt (bord of computer)?"
   ],
   "id": "645d28e862fc24f1"
  },
  {
   "metadata": {
    "ExecuteTime": {
     "end_time": "2024-08-26T08:14:52.066163Z",
     "start_time": "2024-08-26T08:14:52.059709Z"
    }
   },
   "cell_type": "code",
   "source": [
    "T = 1000\n",
    "S = 400\n",
    "B = 200\n",
    "SB = 100\n",
    "\n",
    "(S + B - SB)/T"
   ],
   "id": "d7857a5c86ecdfc8",
   "outputs": [
    {
     "data": {
      "text/plain": [
       "0.5"
      ]
     },
     "execution_count": 17,
     "metadata": {},
     "output_type": "execute_result"
    }
   ],
   "execution_count": 17
  },
  {
   "metadata": {},
   "cell_type": "markdown",
   "source": "### vraag 6",
   "id": "4fba71f17f8df42b"
  },
  {
   "metadata": {},
   "cell_type": "markdown",
   "source": "",
   "id": "4121dde995ca935"
  },
  {
   "metadata": {},
   "cell_type": "markdown",
   "source": [
    "### vraag 7\n",
    "3 mannen gaan naar een feest en dragen precies dezelfde jassen. <br> \n",
    "Zij hangen hun jassen aan de kapstok en worden daarna zeer dronken.<br>\n",
    "Aan het eind neemt elke man een jas zonder te kijken welke. <br>\n",
    "Hoe groot is de kans dat ieder zijn eigen jas neemt?<br>"
   ],
   "id": "c66dd5131f641c02"
  },
  {
   "metadata": {
    "ExecuteTime": {
     "end_time": "2024-08-26T08:17:17.369238Z",
     "start_time": "2024-08-26T08:17:17.363309Z"
    }
   },
   "cell_type": "code",
   "source": "1/3 * 1/2 * 1/1",
   "id": "76b43bb73b6ff80a",
   "outputs": [
    {
     "data": {
      "text/plain": [
       "0.16666666666666666"
      ]
     },
     "execution_count": 18,
     "metadata": {},
     "output_type": "execute_result"
    }
   ],
   "execution_count": 18
  },
  {
   "metadata": {},
   "cell_type": "markdown",
   "source": [
    "### Vraag 8\n",
    "Als het hard regent, is er 50% kans dat mijn kelder onderloopt. <br>\n",
    "Het regent gemiddeld 35 dagen/jaar hard en mijn kelder loopt 20 dagen per jaar onder water (dus ook soms als het niet hard regent). <br>\n",
    "Als mijn kelder ondergelopen is, wat is dan de kans dat dit komt doordat het hard regent?<br>"
   ],
   "id": "e38e80808a3161e9"
  },
  {
   "metadata": {
    "ExecuteTime": {
     "end_time": "2024-08-26T08:27:52.503174Z",
     "start_time": "2024-08-26T08:27:52.495172Z"
    }
   },
   "cell_type": "code",
   "source": [
    "#P(ondergelopen/regent) = 50%\n",
    "PondergelopenRegent = 1/2\n",
    "#P(regent) = 35/365\n",
    "Pregent = 35/365\n",
    "#P(ondergelopen) = 20/365\n",
    "Pondergelopen = 20/365\n",
    "\n",
    "#P(regent|ondergelopen) = ?\n",
    "(PondergelopenRegent * Pregent) / Pondergelopen"
   ],
   "id": "c502b895b9f13ec3",
   "outputs": [
    {
     "data": {
      "text/plain": [
       "0.875"
      ]
     },
     "execution_count": 19,
     "metadata": {},
     "output_type": "execute_result"
    }
   ],
   "execution_count": 19
  },
  {
   "metadata": {},
   "cell_type": "markdown",
   "source": [
    "### Vraag 9\n",
    "90% van de PC's gebruikt Windows. Als een PC crasht, ben je 99,9% zeker dat er Windows op draait. <br> \n",
    "De kans dat een PC crasht (ongeacht het besturingssysteem) is 0,01.<br>\n",
    "Wat is de kans dat een PC crasht als je weet dat er Windows op draait?"
   ],
   "id": "568347aa5d85f64f"
  },
  {
   "metadata": {
    "ExecuteTime": {
     "end_time": "2024-08-26T08:32:22.421375Z",
     "start_time": "2024-08-26T08:32:22.414268Z"
    }
   },
   "cell_type": "code",
   "source": [
    "#P(crash|windows) = ?\n",
    "#P(Windows) = 0.9\n",
    "#P(windows|crash) = 0.999\n",
    "#P(crash) = 0.01\n",
    "(0.999 * 0.01)/0.9"
   ],
   "id": "ffadfd5ae1525658",
   "outputs": [
    {
     "data": {
      "text/plain": [
       "0.0111"
      ]
     },
     "execution_count": 20,
     "metadata": {},
     "output_type": "execute_result"
    }
   ],
   "execution_count": 20
  },
  {
   "metadata": {},
   "cell_type": "markdown",
   "source": [
    "### Vraag 10\n",
    "In 1988 was er discussie om een verplichte AIDS test in te voeren. Men heeft een zeer betrouwbare test ontwikkelt die volgende resultaten boekt:\n",
    "- P(positief | geïnfecteerd) = 0,999\n",
    "- P(negatief | niet geïnfecteerd) = 0,99\n",
    "\n",
    "\n",
    "Men schat dat 0,6% van de mensen drager is van het virus. <br>\n",
    "Wat is de kans dat iemand daadwerkelijk geïnfecteerd is als je weet dat de test positief is? Zie je waarom de verplichte test niet werd ingevoerd?"
   ],
   "id": "cd7cd261d050f926"
  },
  {
   "metadata": {
    "ExecuteTime": {
     "end_time": "2024-08-26T10:01:33.603604Z",
     "start_time": "2024-08-26T10:01:33.594918Z"
    }
   },
   "cell_type": "code",
   "source": [
    "#P(positief | geïnfecteerd) = 0,999\n",
    "#P(negatief | niet geïnfecteerd) = 0,99\n",
    "#P(positief | niet geïnfecteerd) = 1 - 0.99 = 0.01\n",
    "#P(geïnfecteerd) = 0.006\n",
    "#P(positief) = P((geïnfecteerd en positief) of (niet geïnfecteerd en positief)) = 0.006*0.999+0.994*0.1 = 0.15934\n",
    "\n",
    "#P(geïnfecteerd | positief) = ?\n",
    "0.999 * 0.006 / 0.015934"
   ],
   "id": "ce0a92d7ce72ea63",
   "outputs": [
    {
     "data": {
      "text/plain": [
       "0.37617672900715454"
      ]
     },
     "execution_count": 2,
     "metadata": {},
     "output_type": "execute_result"
    }
   ],
   "execution_count": 2
  }
 ],
 "metadata": {
  "kernelspec": {
   "display_name": "Python 3",
   "language": "python",
   "name": "python3"
  },
  "language_info": {
   "codemirror_mode": {
    "name": "ipython",
    "version": 2
   },
   "file_extension": ".py",
   "mimetype": "text/x-python",
   "name": "python",
   "nbconvert_exporter": "python",
   "pygments_lexer": "ipython2",
   "version": "2.7.6"
  }
 },
 "nbformat": 4,
 "nbformat_minor": 5
}
