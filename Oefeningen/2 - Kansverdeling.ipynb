{
 "cells": [
  {
   "metadata": {},
   "cell_type": "markdown",
   "source": "# Oefeningen Kansverdeling",
   "id": "245d820b84fc9b6b"
  },
  {
   "metadata": {
    "ExecuteTime": {
     "end_time": "2024-08-26T11:15:13.456412Z",
     "start_time": "2024-08-26T11:15:13.440058Z"
    }
   },
   "cell_type": "code",
   "source": [
    "#imports\n",
    "from functions.kansverdeling import *\n",
    "from scipy import stats\n",
    "import math"
   ],
   "id": "bd1f9d4f922cb96b",
   "outputs": [],
   "execution_count": 49
  },
  {
   "metadata": {},
   "cell_type": "markdown",
   "source": [
    "### Vraag 1\n",
    "Luna gooit 4 keer met een dobbelsteen (antwoord met 4 beduidende cijfers):<br>\n",
    "a. Hoe groot is de kans op precies één 6? <br>\n",
    "b. Hoe groot is de kans op vier zessen?<br>\n",
    "c. Hoe groot is de kans op 2 worpen onder de 3 en 2 worpen 3 of hoger?"
   ],
   "id": "b7a2a5a9f505bb2f"
  },
  {
   "cell_type": "code",
   "id": "initial_id",
   "metadata": {
    "collapsed": true,
    "ExecuteTime": {
     "end_time": "2024-08-26T10:19:05.338397Z",
     "start_time": "2024-08-26T10:19:05.326982Z"
    }
   },
   "source": [
    "#a\n",
    "stats.binom.pmf(1,4,1/6)"
   ],
   "outputs": [
    {
     "data": {
      "text/plain": [
       "0.3858024691358023"
      ]
     },
     "execution_count": 4,
     "metadata": {},
     "output_type": "execute_result"
    }
   ],
   "execution_count": 4
  },
  {
   "metadata": {
    "ExecuteTime": {
     "end_time": "2024-08-26T10:19:43.693132Z",
     "start_time": "2024-08-26T10:19:43.680328Z"
    }
   },
   "cell_type": "code",
   "source": [
    "#b\n",
    "stats.binom.pmf(4,4,1/6)"
   ],
   "id": "a981f31117f630b4",
   "outputs": [
    {
     "data": {
      "text/plain": [
       "0.0007716049382716049"
      ]
     },
     "execution_count": 5,
     "metadata": {},
     "output_type": "execute_result"
    }
   ],
   "execution_count": 5
  },
  {
   "metadata": {
    "ExecuteTime": {
     "end_time": "2024-08-26T10:21:00.428299Z",
     "start_time": "2024-08-26T10:21:00.421595Z"
    }
   },
   "cell_type": "code",
   "source": [
    "#c\n",
    "stats.binom.pmf(2,4,2/6)"
   ],
   "id": "2e18f43067a62f86",
   "outputs": [
    {
     "data": {
      "text/plain": [
       "0.29629629629629634"
      ]
     },
     "execution_count": 7,
     "metadata": {},
     "output_type": "execute_result"
    }
   ],
   "execution_count": 7
  },
  {
   "metadata": {},
   "cell_type": "markdown",
   "source": [
    "### Vraag 2\n",
    "Zes studenten Toegepaste Informatica moeten een test “Engels” afleggen. De kans om voor het examen te slagen 0,75. <br>\n",
    "a. Hoe groot is de kans dat exact 4 van hen slagen?<br>\n",
    "b. Hoe groot is de kans dat exact 5 van hen slagen?<br>\n",
    "c. Hoe groot is de kans dat exact 6 van hen slagen?<br>\n",
    "d. Hoe groot is de kans dat minder dan 4 van hen slagen?"
   ],
   "id": "82587327dca6184c"
  },
  {
   "metadata": {
    "ExecuteTime": {
     "end_time": "2024-08-26T10:22:51.549797Z",
     "start_time": "2024-08-26T10:22:51.534738Z"
    }
   },
   "cell_type": "code",
   "source": [
    "#a.\n",
    "stats.binom.pmf(4,6,0.75)"
   ],
   "id": "7cb8d6f94994f06d",
   "outputs": [
    {
     "data": {
      "text/plain": [
       "0.296630859375"
      ]
     },
     "execution_count": 8,
     "metadata": {},
     "output_type": "execute_result"
    }
   ],
   "execution_count": 8
  },
  {
   "metadata": {
    "ExecuteTime": {
     "end_time": "2024-08-26T10:23:18.872584Z",
     "start_time": "2024-08-26T10:23:18.865420Z"
    }
   },
   "cell_type": "code",
   "source": [
    "#b.\n",
    "stats.binom.pmf(5, 6, 0.75)"
   ],
   "id": "adc7db77006b4425",
   "outputs": [
    {
     "data": {
      "text/plain": [
       "0.3559570312499999"
      ]
     },
     "execution_count": 9,
     "metadata": {},
     "output_type": "execute_result"
    }
   ],
   "execution_count": 9
  },
  {
   "metadata": {
    "ExecuteTime": {
     "end_time": "2024-08-26T10:23:49.038127Z",
     "start_time": "2024-08-26T10:23:49.029348Z"
    }
   },
   "cell_type": "code",
   "source": [
    "#c\n",
    "stats.binom.pmf(6, 6, 0.75)"
   ],
   "id": "e9cabbbf077ff931",
   "outputs": [
    {
     "data": {
      "text/plain": [
       "0.177978515625"
      ]
     },
     "execution_count": 10,
     "metadata": {},
     "output_type": "execute_result"
    }
   ],
   "execution_count": 10
  },
  {
   "metadata": {
    "ExecuteTime": {
     "end_time": "2024-08-26T10:27:38.028168Z",
     "start_time": "2024-08-26T10:27:38.021232Z"
    }
   },
   "cell_type": "code",
   "source": [
    "#d\n",
    "sum(stats.binom.pmf(range(0, 4), 6, 0.75))"
   ],
   "id": "49b99c0d03b7cdf6",
   "outputs": [
    {
     "data": {
      "text/plain": [
       "0.1694335937499999"
      ]
     },
     "execution_count": 18,
     "metadata": {},
     "output_type": "execute_result"
    }
   ],
   "execution_count": 18
  },
  {
   "metadata": {},
   "cell_type": "markdown",
   "source": [
    "### Vraag 3\n",
    "Op weg naar de school, passeer je 6 verkeerslichten. Deze zijn jammer genoeg helemaal niet\n",
    "gesynchroniseerd. Ze werken totaal onafhankelijk van elkaar. De verkeerslichten staan\n",
    "ongeveer 40% van de tijd op rood. <br>\n",
    "a. Wat is de kans dat je geen enkel rood licht hebt, onderweg?<br>\n",
    "b. Wat is de kans dat alle verkeerslichten op rood staan?<br>\n",
    "c. Wat is de kans om meer dan 2 lichten op rood tegen te komen?<br>\n",
    "d. Als je weet dat je gemiddeld 2 minuten verliest per rood licht. Hoeveel tijd verwacht je\n",
    "dan gemiddeld te verliezen op een traject?"
   ],
   "id": "7777c608df79c800"
  },
  {
   "metadata": {
    "ExecuteTime": {
     "end_time": "2024-08-26T10:27:57.140090Z",
     "start_time": "2024-08-26T10:27:57.133510Z"
    }
   },
   "cell_type": "code",
   "source": [
    "#a.\n",
    "stats.binom.pmf(0, 6, 0.40)"
   ],
   "id": "cac0be4e8924c12a",
   "outputs": [
    {
     "data": {
      "text/plain": [
       "0.04665599999999999"
      ]
     },
     "execution_count": 19,
     "metadata": {},
     "output_type": "execute_result"
    }
   ],
   "execution_count": 19
  },
  {
   "metadata": {
    "ExecuteTime": {
     "end_time": "2024-08-26T10:28:17.181156Z",
     "start_time": "2024-08-26T10:28:17.174895Z"
    }
   },
   "cell_type": "code",
   "source": [
    "#b\n",
    "stats.binom.pmf(6, 6, 0.40)"
   ],
   "id": "76ac45a5f886523a",
   "outputs": [
    {
     "data": {
      "text/plain": [
       "0.004096000000000002"
      ]
     },
     "execution_count": 20,
     "metadata": {},
     "output_type": "execute_result"
    }
   ],
   "execution_count": 20
  },
  {
   "metadata": {
    "ExecuteTime": {
     "end_time": "2024-08-26T10:30:58.520766Z",
     "start_time": "2024-08-26T10:30:58.512525Z"
    }
   },
   "cell_type": "code",
   "source": [
    "#c\n",
    "sum(stats.binom.pmf(range(2, 6), 6, 0.75))"
   ],
   "id": "a9d80107b01a428e",
   "outputs": [
    {
     "data": {
      "text/plain": [
       "0.8173828124999998"
      ]
     },
     "execution_count": 22,
     "metadata": {},
     "output_type": "execute_result"
    }
   ],
   "execution_count": 22
  },
  {
   "metadata": {
    "ExecuteTime": {
     "end_time": "2024-08-26T10:40:13.356329Z",
     "start_time": "2024-08-26T10:40:13.349623Z"
    }
   },
   "cell_type": "code",
   "source": [
    "#d\n",
    "(6 * 0.4) * 2"
   ],
   "id": "c0d3176ea12c3fde",
   "outputs": [
    {
     "data": {
      "text/plain": [
       "4.800000000000001"
      ]
     },
     "execution_count": 23,
     "metadata": {},
     "output_type": "execute_result"
    }
   ],
   "execution_count": 23
  },
  {
   "metadata": {},
   "cell_type": "markdown",
   "source": [
    "### Vraag 4\n",
    "Als je met de fiets naar school fietst, heb je gemiddeld 2 maal per jaar een lekke band. <br>\n",
    "a. Wat is de kans dat je geen lekke band hebt in een gegeven jaar?<br>\n",
    "b. Wat is de kans dat je meer dan 3 lekke banden hebt in een jaar?<br>\n",
    "c. Wat is de kans dat je 2 lekke banden hebt in 1 maand tijd?"
   ],
   "id": "50e96f1f6d122ed2"
  },
  {
   "metadata": {
    "ExecuteTime": {
     "end_time": "2024-08-26T10:42:32.352453Z",
     "start_time": "2024-08-26T10:42:32.343758Z"
    }
   },
   "cell_type": "code",
   "source": [
    "#a\n",
    "stats.poisson.pmf(0, 2)"
   ],
   "id": "6fc486270030da0f",
   "outputs": [
    {
     "data": {
      "text/plain": [
       "0.1353352832366127"
      ]
     },
     "execution_count": 24,
     "metadata": {},
     "output_type": "execute_result"
    }
   ],
   "execution_count": 24
  },
  {
   "metadata": {
    "ExecuteTime": {
     "end_time": "2024-08-26T10:48:30.616298Z",
     "start_time": "2024-08-26T10:48:30.609765Z"
    }
   },
   "cell_type": "code",
   "source": [
    "#b\n",
    "1 - poisson_cdf(2, 3)"
   ],
   "id": "a24c3f6cf11ab193",
   "outputs": [
    {
     "data": {
      "text/plain": [
       "0.14287653950145296"
      ]
     },
     "execution_count": 25,
     "metadata": {},
     "output_type": "execute_result"
    }
   ],
   "execution_count": 25
  },
  {
   "metadata": {
    "ExecuteTime": {
     "end_time": "2024-08-26T10:52:53.460019Z",
     "start_time": "2024-08-26T10:52:53.453265Z"
    }
   },
   "cell_type": "code",
   "source": [
    "#c\n",
    "stats.poisson.pmf(2, 2/12)"
   ],
   "id": "8f94628df71641ce",
   "outputs": [
    {
     "data": {
      "text/plain": [
       "0.011756690623480748"
      ]
     },
     "execution_count": 31,
     "metadata": {},
     "output_type": "execute_result"
    }
   ],
   "execution_count": 31
  },
  {
   "metadata": {},
   "cell_type": "markdown",
   "source": [
    "### Vraag 5\n",
    "Een gebruiker krijgt gemiddeld 20 emails per dag. Op een dag krijgt hij er 100 en vraagt zich\n",
    "af of dit nog wel normaal is. <br>\n",
    "a. Wat is de kans dat hij meer dan 100 emails op een dag krijgt?<br>\n",
    "b. Wat is de kans dat hij er meer dan 30 op een dag krijgt?<br>\n",
    "c. Wat is de kans dat hij er exact 20 op een dag krijgt?<br>\n",
    "d. Wat is de kans dat hij er 10 of minder op een dag krijgt?<br>\n",
    "e. Wat is de kans dat hij er 650 of minder op een maand (30 dagen) krijgt?"
   ],
   "id": "befff99463a3ae4a"
  },
  {
   "metadata": {
    "ExecuteTime": {
     "end_time": "2024-08-26T11:01:05.375671Z",
     "start_time": "2024-08-26T11:01:05.369122Z"
    }
   },
   "cell_type": "code",
   "source": [
    "#a\n",
    "1 - stats.poisson.cdf(100, 20)"
   ],
   "id": "2a0a52cdcd17511d",
   "outputs": [
    {
     "data": {
      "text/plain": [
       "0.0"
      ]
     },
     "execution_count": 39,
     "metadata": {},
     "output_type": "execute_result"
    }
   ],
   "execution_count": 39
  },
  {
   "metadata": {
    "ExecuteTime": {
     "end_time": "2024-08-26T11:01:28.143600Z",
     "start_time": "2024-08-26T11:01:28.136029Z"
    }
   },
   "cell_type": "code",
   "source": [
    "#b\n",
    "1 - stats.poisson.cdf(30, 20)"
   ],
   "id": "7672f19b4c4e2ac1",
   "outputs": [
    {
     "data": {
      "text/plain": [
       "0.01347468127992224"
      ]
     },
     "execution_count": 40,
     "metadata": {},
     "output_type": "execute_result"
    }
   ],
   "execution_count": 40
  },
  {
   "metadata": {
    "ExecuteTime": {
     "end_time": "2024-08-26T11:02:03.566890Z",
     "start_time": "2024-08-26T11:02:03.560998Z"
    }
   },
   "cell_type": "code",
   "source": [
    "#c\n",
    "stats.poisson.pmf(20, 20)"
   ],
   "id": "655d5afbdb1673f",
   "outputs": [
    {
     "data": {
      "text/plain": [
       "0.0888353173920848"
      ]
     },
     "execution_count": 41,
     "metadata": {},
     "output_type": "execute_result"
    }
   ],
   "execution_count": 41
  },
  {
   "metadata": {
    "ExecuteTime": {
     "end_time": "2024-08-26T11:02:17.237188Z",
     "start_time": "2024-08-26T11:02:17.229142Z"
    }
   },
   "cell_type": "code",
   "source": "stats.poisson.cdf(10, 20)",
   "id": "1a425f7900a2c33a",
   "outputs": [
    {
     "data": {
      "text/plain": [
       "0.010811718826652723"
      ]
     },
     "execution_count": 42,
     "metadata": {},
     "output_type": "execute_result"
    }
   ],
   "execution_count": 42
  },
  {
   "metadata": {
    "ExecuteTime": {
     "end_time": "2024-08-26T11:02:37.145569Z",
     "start_time": "2024-08-26T11:02:37.139105Z"
    }
   },
   "cell_type": "code",
   "source": "stats.poisson.cdf(650, 20*30)",
   "id": "dfc86dbdf7d4da79",
   "outputs": [
    {
     "data": {
      "text/plain": [
       "0.9793455500281875"
      ]
     },
     "execution_count": 43,
     "metadata": {},
     "output_type": "execute_result"
    }
   ],
   "execution_count": 43
  },
  {
   "metadata": {},
   "cell_type": "markdown",
   "source": [
    "### Vraag 6\n",
    "Er worden gemiddeld 3,5 bitcoin transacties per seconde uitgevoerd. Het maximum aantal transacties dat het netwerk kan verwerken is echter 7 per seconde. <br>\n",
    "a. Wat is de kans dat er gedurende een seconde meer dan 7 transacties uitgevoerd\n",
    "moeten worden?<br>\n",
    "b. Wat is de kans dat er geen enkele transactie is gedurende een seconde? <br>\n",
    "c. Wat is de kans dat er 3 of minder transacties zijn gedurende een seconde? <br> \n",
    "d. Wat is de kans dat er 2 of meer transacties zijn gedurende een seconde? <br>\n",
    "e. Hoeveel transacties verwacht je op een dag?"
   ],
   "id": "69bca9f91384f760"
  },
  {
   "metadata": {
    "ExecuteTime": {
     "end_time": "2024-08-26T11:13:39.257627Z",
     "start_time": "2024-08-26T11:13:39.250572Z"
    }
   },
   "cell_type": "code",
   "source": [
    "# a. Probability of more than 7 transactions in a second\n",
    "1 - stats.poisson.cdf(7, 3.5)"
   ],
   "id": "57e8cdaae26f1c50",
   "outputs": [
    {
     "data": {
      "text/plain": [
       "0.026738922091319672"
      ]
     },
     "execution_count": 44,
     "metadata": {},
     "output_type": "execute_result"
    }
   ],
   "execution_count": 44
  },
  {
   "metadata": {
    "ExecuteTime": {
     "end_time": "2024-08-26T11:13:40.991428Z",
     "start_time": "2024-08-26T11:13:40.986037Z"
    }
   },
   "cell_type": "code",
   "source": [
    "# b. Probability of no transactions in a second\n",
    "stats.poisson.pmf(0, 3.5)"
   ],
   "id": "5819222332d32178",
   "outputs": [
    {
     "data": {
      "text/plain": [
       "0.0301973834223185"
      ]
     },
     "execution_count": 45,
     "metadata": {},
     "output_type": "execute_result"
    }
   ],
   "execution_count": 45
  },
  {
   "metadata": {
    "ExecuteTime": {
     "end_time": "2024-08-26T11:13:42.292807Z",
     "start_time": "2024-08-26T11:13:42.287507Z"
    }
   },
   "cell_type": "code",
   "source": [
    "# c. Probability of 3 or fewer transactions in a second\n",
    "stats.poisson.cdf(3, 3.5)"
   ],
   "id": "7de3fc453ce27db4",
   "outputs": [
    {
     "data": {
      "text/plain": [
       "0.536632667900785"
      ]
     },
     "execution_count": 46,
     "metadata": {},
     "output_type": "execute_result"
    }
   ],
   "execution_count": 46
  },
  {
   "metadata": {
    "ExecuteTime": {
     "end_time": "2024-08-26T11:13:43.759801Z",
     "start_time": "2024-08-26T11:13:43.753323Z"
    }
   },
   "cell_type": "code",
   "source": [
    "# d. Probability of 2 or more transactions in a second\n",
    "1 - stats.poisson.cdf(1, 3.5)"
   ],
   "id": "dfeed75bd5f02d3e",
   "outputs": [
    {
     "data": {
      "text/plain": [
       "0.8641117745995668"
      ]
     },
     "execution_count": 47,
     "metadata": {},
     "output_type": "execute_result"
    }
   ],
   "execution_count": 47
  },
  {
   "metadata": {
    "ExecuteTime": {
     "end_time": "2024-08-26T11:13:45.511851Z",
     "start_time": "2024-08-26T11:13:45.506505Z"
    }
   },
   "cell_type": "code",
   "source": [
    "# e. Expected number of transactions in a day (24 hours * 60 minutes * 60 seconds)\n",
    "3.5 * 24 * 60 * 60"
   ],
   "id": "68f7762e46ef42f7",
   "outputs": [
    {
     "data": {
      "text/plain": [
       "302400.0"
      ]
     },
     "execution_count": 48,
     "metadata": {},
     "output_type": "execute_result"
    }
   ],
   "execution_count": 48
  },
  {
   "metadata": {},
   "cell_type": "markdown",
   "source": [
    "### Vraag 7\n",
    "Een toets bestaat uit 40 vragen en de gemiddelde moeilijkheidsgraad van de vragen is 0,85\n",
    "(de kans op een juist antwoord is 0,85). Per vraag krijgen de studenten 1 punt. Welke van\n",
    "onderstaande waarden zijn de juiste verwachte waarde en de standaardafwijking van de\n",
    "score op deze toets?<br>\n",
    "a. μ=34 en ơ=2,26 <br>\n",
    "b. μ=29 en ơ=2,26<br>\n",
    "c. μ=34 en ơ=5,10<br>\n",
    "d. μ=29 en ơ=5,10"
   ],
   "id": "4330ddcfe80c1c94"
  },
  {
   "metadata": {
    "ExecuteTime": {
     "end_time": "2024-08-26T11:15:17.049469Z",
     "start_time": "2024-08-26T11:15:17.043857Z"
    }
   },
   "cell_type": "code",
   "source": [
    "# Given values\n",
    "n = 40\n",
    "p = 0.85\n",
    "\n",
    "# Expected value (μ)\n",
    "mu = n * p\n",
    "\n",
    "# Standard deviation (σ)\n",
    "sigma = math.sqrt(n * p * (1 - p))\n",
    "\n",
    "print(f\"Expected value (μ): {mu}\")\n",
    "print(f\"Standard deviation (σ): {sigma}\")"
   ],
   "id": "e2a8d6eb01fd3ff9",
   "outputs": [
    {
     "name": "stdout",
     "output_type": "stream",
     "text": [
      "Expected value (μ): 34.0\n",
      "Standard deviation (σ): 2.2583179581272432\n"
     ]
    }
   ],
   "execution_count": 50
  },
  {
   "metadata": {},
   "cell_type": "markdown",
   "source": [
    "### Vraag 8\n",
    "Voor de standaardnormale verdeling, wat zijn de volgende kansen?\n",
    "a. P(Z ≥ +1,64) <br>\n",
    "b. P(Z ≥ -1,32)<br>\n",
    "c. P(Z ≤ -0,18)<br>\n",
    "d. P(Z ≤ +1,28)<br>\n",
    "e. P(0,45 ≤ Z ≤ 0,92)<br>\n",
    "f. P(-0,72 ≤ Z ≤ -0,38)"
   ],
   "id": "a24e171611729cb7"
  },
  {
   "metadata": {
    "ExecuteTime": {
     "end_time": "2024-08-26T11:17:22.975075Z",
     "start_time": "2024-08-26T11:17:22.966276Z"
    }
   },
   "cell_type": "code",
   "source": [
    "# a. P(Z ≥ +1.64)\n",
    "1 - stats.norm.cdf(1.64)"
   ],
   "id": "6a6536bb63c0e451",
   "outputs": [
    {
     "data": {
      "text/plain": [
       "0.050502583474103746"
      ]
     },
     "execution_count": 51,
     "metadata": {},
     "output_type": "execute_result"
    }
   ],
   "execution_count": 51
  },
  {
   "metadata": {
    "ExecuteTime": {
     "end_time": "2024-08-26T11:17:24.825913Z",
     "start_time": "2024-08-26T11:17:24.818156Z"
    }
   },
   "cell_type": "code",
   "source": [
    "# b. P(Z ≥ -1.32)\n",
    "1 - stats.norm.cdf(-1.32)"
   ],
   "id": "f38cfe68d6b3addf",
   "outputs": [
    {
     "data": {
      "text/plain": [
       "0.9065824910065282"
      ]
     },
     "execution_count": 52,
     "metadata": {},
     "output_type": "execute_result"
    }
   ],
   "execution_count": 52
  },
  {
   "metadata": {
    "ExecuteTime": {
     "end_time": "2024-08-26T11:17:25.988869Z",
     "start_time": "2024-08-26T11:17:25.982337Z"
    }
   },
   "cell_type": "code",
   "source": [
    "# c. P(Z ≤ -0.18)\n",
    "stats.norm.cdf(-0.18)"
   ],
   "id": "1561e31d28ece846",
   "outputs": [
    {
     "data": {
      "text/plain": [
       "0.42857628409909926"
      ]
     },
     "execution_count": 53,
     "metadata": {},
     "output_type": "execute_result"
    }
   ],
   "execution_count": 53
  },
  {
   "metadata": {
    "ExecuteTime": {
     "end_time": "2024-08-26T11:17:26.856911Z",
     "start_time": "2024-08-26T11:17:26.850084Z"
    }
   },
   "cell_type": "code",
   "source": [
    "# d. P(Z ≤ +1.28)\n",
    "stats.norm.cdf(1.28)"
   ],
   "id": "240e38245c28e9d8",
   "outputs": [
    {
     "data": {
      "text/plain": [
       "0.8997274320455579"
      ]
     },
     "execution_count": 54,
     "metadata": {},
     "output_type": "execute_result"
    }
   ],
   "execution_count": 54
  },
  {
   "metadata": {
    "ExecuteTime": {
     "end_time": "2024-08-26T11:17:27.939147Z",
     "start_time": "2024-08-26T11:17:27.933220Z"
    }
   },
   "cell_type": "code",
   "source": [
    "# e. P(0.45 ≤ Z ≤ 0.92)\n",
    "stats.norm.cdf(0.92) - stats.norm.cdf(0.45)"
   ],
   "id": "1bee693be0c51e11",
   "outputs": [
    {
     "data": {
      "text/plain": [
       "0.14756884067354825"
      ]
     },
     "execution_count": 55,
     "metadata": {},
     "output_type": "execute_result"
    }
   ],
   "execution_count": 55
  },
  {
   "metadata": {
    "ExecuteTime": {
     "end_time": "2024-08-26T11:17:28.940397Z",
     "start_time": "2024-08-26T11:17:28.933901Z"
    }
   },
   "cell_type": "code",
   "source": [
    "# f. P(-0.72 ≤ Z ≤ -0.38)\n",
    "stats.norm.cdf(-0.38) - stats.norm.cdf(-0.72)"
   ],
   "id": "4cbf812acdd232b1",
   "outputs": [
    {
     "data": {
      "text/plain": [
       "0.11621020979658603"
      ]
     },
     "execution_count": 56,
     "metadata": {},
     "output_type": "execute_result"
    }
   ],
   "execution_count": 56
  },
  {
   "metadata": {},
   "cell_type": "markdown",
   "source": [
    "### Vraag 9\n",
    "In een klas is de gemiddelde haarlengte normaal verdeeld μ=20cm en ơ=4. Wat zijn de volgende kansen?<br>\n",
    "a. De kans dat iemands haar langer is dan 28cm <br>\n",
    "b. De kans dat iemands haar korter is dan 16cm<br>\n",
    "c. De kans dat iemand haar een lengte heeft tussen 18cm en 22cm"
   ],
   "id": "3e2c582bfcd7169f"
  },
  {
   "metadata": {
    "ExecuteTime": {
     "end_time": "2024-08-26T11:18:30.610687Z",
     "start_time": "2024-08-26T11:18:30.607446Z"
    }
   },
   "cell_type": "code",
   "source": [
    "# Given values\n",
    "mu = 20\n",
    "sigma = 4"
   ],
   "id": "6984b9c5b9651b3",
   "outputs": [],
   "execution_count": 57
  },
  {
   "metadata": {
    "ExecuteTime": {
     "end_time": "2024-08-26T11:19:07.298975Z",
     "start_time": "2024-08-26T11:19:07.292224Z"
    }
   },
   "cell_type": "code",
   "source": [
    "# a. Probability that hair length is longer than 28cm\n",
    "1 - stats.norm.cdf(28, mu, sigma)"
   ],
   "id": "ca51edd1e64e9d77",
   "outputs": [
    {
     "data": {
      "text/plain": [
       "0.02275013194817921"
      ]
     },
     "execution_count": 58,
     "metadata": {},
     "output_type": "execute_result"
    }
   ],
   "execution_count": 58
  },
  {
   "metadata": {
    "ExecuteTime": {
     "end_time": "2024-08-26T11:19:08.749192Z",
     "start_time": "2024-08-26T11:19:08.742754Z"
    }
   },
   "cell_type": "code",
   "source": [
    "# b. Probability that hair length is shorter than 16cm\n",
    "stats.norm.cdf(16, mu, sigma)"
   ],
   "id": "b842d961f8f9c663",
   "outputs": [
    {
     "data": {
      "text/plain": [
       "0.15865525393145707"
      ]
     },
     "execution_count": 59,
     "metadata": {},
     "output_type": "execute_result"
    }
   ],
   "execution_count": 59
  },
  {
   "metadata": {
    "ExecuteTime": {
     "end_time": "2024-08-26T11:19:10.475562Z",
     "start_time": "2024-08-26T11:19:10.467891Z"
    }
   },
   "cell_type": "code",
   "source": [
    "# c. Probability that hair length is between 18cm and 22cm\n",
    "stats.norm.cdf(22, mu, sigma) - stats.norm.cdf(18, mu, sigma)"
   ],
   "id": "9dd4c574e4c0f13e",
   "outputs": [
    {
     "data": {
      "text/plain": [
       "0.38292492254802624"
      ]
     },
     "execution_count": 60,
     "metadata": {},
     "output_type": "execute_result"
    }
   ],
   "execution_count": 60
  },
  {
   "metadata": {},
   "cell_type": "markdown",
   "source": [
    "### Vraag 10\n",
    "We bouwen een website met een wedstrijd met verschillende vragen. De scores op de wedstrijd zijn normaal verdeeld met μ=50 en ơ=5. <br>\n",
    "a. Wat is de kans dat een aselect gekozen score op deze wedstrijd lager is dan 40? <br>\n",
    "b. Wat is de kans dat een aselect gekozen score op deze wedstrijd tussen de 42 en 52 valt?<br>\n",
    "c. Iedereen die een score behaalt hoger dan 58,75 krijgt een bijzondere prijs met vermelding in de krant. Als 75 mensen deelnemen, hoeveel winnen er dan een bijzondere prijs?"
   ],
   "id": "1ec3f68f6a2d5503"
  },
  {
   "metadata": {
    "ExecuteTime": {
     "end_time": "2024-08-26T11:20:42.190274Z",
     "start_time": "2024-08-26T11:20:42.186742Z"
    }
   },
   "cell_type": "code",
   "source": [
    "# Given values\n",
    "mu = 50\n",
    "sigma = 5"
   ],
   "id": "114592afb9ca6353",
   "outputs": [],
   "execution_count": 61
  },
  {
   "metadata": {
    "ExecuteTime": {
     "end_time": "2024-08-26T11:21:53.790088Z",
     "start_time": "2024-08-26T11:21:53.784939Z"
    }
   },
   "cell_type": "code",
   "source": [
    "# a. Probability that score is lower than 40\n",
    "stats.norm.cdf(40, mu, sigma)"
   ],
   "id": "15a070663ede9d4",
   "outputs": [
    {
     "data": {
      "text/plain": [
       "0.0227501319481792"
      ]
     },
     "execution_count": 64,
     "metadata": {},
     "output_type": "execute_result"
    }
   ],
   "execution_count": 64
  },
  {
   "metadata": {
    "ExecuteTime": {
     "end_time": "2024-08-26T11:21:52.321763Z",
     "start_time": "2024-08-26T11:21:52.315074Z"
    }
   },
   "cell_type": "code",
   "source": [
    "# b. Probability that score is between 42 and 52\n",
    "stats.norm.cdf(52, mu, sigma) - stats.norm.cdf(42, mu, sigma)"
   ],
   "id": "9d63491d566d8c7c",
   "outputs": [
    {
     "data": {
      "text/plain": [
       "0.6006224499107662"
      ]
     },
     "execution_count": 63,
     "metadata": {},
     "output_type": "execute_result"
    }
   ],
   "execution_count": 63
  },
  {
   "metadata": {
    "ExecuteTime": {
     "end_time": "2024-08-26T11:21:50.125098Z",
     "start_time": "2024-08-26T11:21:50.119231Z"
    }
   },
   "cell_type": "code",
   "source": [
    "# c. Number of winners with score higher than 58.75\n",
    "(1 - stats.norm.cdf(58.75, mu, sigma)) * 75"
   ],
   "id": "99b039798aa67fdd",
   "outputs": [
    {
     "data": {
      "text/plain": [
       "3.0044367647862833"
      ]
     },
     "execution_count": 62,
     "metadata": {},
     "output_type": "execute_result"
    }
   ],
   "execution_count": 62
  },
  {
   "metadata": {},
   "cell_type": "markdown",
   "source": [
    "### Vraag 11\n",
    "Bij een IQ-test is de verwachte waarde 100 (normaal verdeeld). In Antwerpen is de standaardafwijking 15, in Gent is deze 18. <br>\n",
    "a. Wat is de kans dat iemand in Antwerpen een IQ heeft dat groter is dan 120? <br>\n",
    "b. Met welk IQ behoor je in Antwerpen tot de mensen die de 16% laagste scores hebben? hint: experimenteer tot je het vindt<br>\n",
    "c. Welk IQ (of meer) hebben de 5% slimste mensen in Gent? (zelfde hint) <br>\n",
    "d. Wat is de verhouding van Antwerpenaren en Gentenaren voor scores boven de 130? \n",
    "1. 1:1\n",
    "2. 1:2\n",
    "3. 1:3\n",
    "4. 5:6"
   ],
   "id": "8c092615383335a2"
  },
  {
   "metadata": {
    "ExecuteTime": {
     "end_time": "2024-08-26T11:23:56.111188Z",
     "start_time": "2024-08-26T11:23:56.106326Z"
    }
   },
   "cell_type": "code",
   "source": [
    "# Given values for Antwerpen\n",
    "mu_antwerpen = 100\n",
    "sigma_antwerpen = 15\n",
    "\n",
    "# Given values for Gent\n",
    "mu_gent = 100\n",
    "sigma_gent = 18"
   ],
   "id": "b5589661ddc90488",
   "outputs": [],
   "execution_count": 65
  },
  {
   "metadata": {
    "ExecuteTime": {
     "end_time": "2024-08-26T11:25:05.606277Z",
     "start_time": "2024-08-26T11:25:05.600449Z"
    }
   },
   "cell_type": "code",
   "source": [
    "# a. Probability that IQ is greater than 120 in Antwerpen\n",
    "1 - stats.norm.cdf(120, mu_antwerpen, sigma_antwerpen)"
   ],
   "id": "d160314e6ff044d",
   "outputs": [
    {
     "data": {
      "text/plain": [
       "0.09121121972586788"
      ]
     },
     "execution_count": 66,
     "metadata": {},
     "output_type": "execute_result"
    }
   ],
   "execution_count": 66
  },
  {
   "metadata": {
    "ExecuteTime": {
     "end_time": "2024-08-26T11:25:06.815816Z",
     "start_time": "2024-08-26T11:25:06.809466Z"
    }
   },
   "cell_type": "code",
   "source": [
    "# b. IQ for the lowest 16% in Antwerpen\n",
    "stats.norm.ppf(0.16, mu_antwerpen, sigma_antwerpen)"
   ],
   "id": "ba4c104df5c5cfe1",
   "outputs": [
    {
     "data": {
      "text/plain": [
       "85.0831317518537"
      ]
     },
     "execution_count": 67,
     "metadata": {},
     "output_type": "execute_result"
    }
   ],
   "execution_count": 67
  },
  {
   "metadata": {
    "ExecuteTime": {
     "end_time": "2024-08-26T11:25:07.738915Z",
     "start_time": "2024-08-26T11:25:07.734306Z"
    }
   },
   "cell_type": "code",
   "source": [
    "# c. IQ for the top 5% in Gent\n",
    "stats.norm.ppf(0.95, mu_gent, sigma_gent)"
   ],
   "id": "a5058447a12eae02",
   "outputs": [
    {
     "data": {
      "text/plain": [
       "129.6073652851265"
      ]
     },
     "execution_count": 68,
     "metadata": {},
     "output_type": "execute_result"
    }
   ],
   "execution_count": 68
  },
  {
   "metadata": {
    "ExecuteTime": {
     "end_time": "2024-08-26T11:26:13.565453Z",
     "start_time": "2024-08-26T11:26:13.560878Z"
    }
   },
   "cell_type": "code",
   "source": [
    "# d. Ratio of Antwerpenaren to Gentenaren for scores above 130\n",
    "prob_d_antwerpen = 1 - stats.norm.cdf(130, mu_antwerpen, sigma_antwerpen)\n",
    "prob_d_gent = 1 - stats.norm.cdf(130, mu_gent, sigma_gent)\n",
    "ratio_d = prob_d_antwerpen / prob_d_gent\n",
    "print(f\"Ratio of Antwerpenaren to Gentenaren for IQ > 130: {ratio_d}\")"
   ],
   "id": "7d5b765736d201d8",
   "outputs": [
    {
     "name": "stdout",
     "output_type": "stream",
     "text": [
      "Ratio of Antwerpenaren to Gentenaren for IQ > 130: 0.4760402647444076\n"
     ]
    }
   ],
   "execution_count": 70
  },
  {
   "metadata": {},
   "cell_type": "markdown",
   "source": [
    "### Vraag 12\n",
    "Uit onderzoek is gebleken dat de levensduur van lampen normaal verdeeld is. Een bepaald type lampen heeft een levensduur van 500 uur, met een standaardafwijking van 100 uur. Een grootwinkelbedrijf koopt 50 000 lampen van dit type in. <br>\n",
    "a. Hoeveel van deze lampen branden langer dan 400 uur?<br>\n",
    "b. Hoeveel van deze lampen hebben een levenduur die ligt tussen 400 en 700 uur?<br> \n",
    "c. Hoeveel van deze lampen hebben een levenduur die onder de 600 uur ligt? Vergelijk dit resultaat met dat van vraag 12a. Wat zie je? Hoe komt dit?"
   ],
   "id": "93019070d7be7361"
  },
  {
   "metadata": {
    "ExecuteTime": {
     "end_time": "2024-08-26T11:27:33.856436Z",
     "start_time": "2024-08-26T11:27:33.852133Z"
    }
   },
   "cell_type": "code",
   "source": [
    "# Given values\n",
    "mu = 500\n",
    "sigma = 100\n",
    "num_lamps = 50000"
   ],
   "id": "8e081df0edcebb9e",
   "outputs": [],
   "execution_count": 71
  },
  {
   "metadata": {
    "ExecuteTime": {
     "end_time": "2024-08-26T11:28:49.908059Z",
     "start_time": "2024-08-26T11:28:49.901169Z"
    }
   },
   "cell_type": "code",
   "source": [
    "# a. Number of lamps burning longer than 400 hours\n",
    "prob_a = 1 - stats.norm.cdf(400, mu, sigma)\n",
    "prob_a * num_lamps"
   ],
   "id": "397e67c7c3077796",
   "outputs": [
    {
     "data": {
      "text/plain": [
       "42067.237303427144"
      ]
     },
     "execution_count": 73,
     "metadata": {},
     "output_type": "execute_result"
    }
   ],
   "execution_count": 73
  },
  {
   "metadata": {
    "ExecuteTime": {
     "end_time": "2024-08-26T11:28:51.268758Z",
     "start_time": "2024-08-26T11:28:51.261996Z"
    }
   },
   "cell_type": "code",
   "source": [
    "# b. Number of lamps with lifespan between 400 and 700 hours\n",
    "prob_b = stats.norm.cdf(700, mu, sigma) - stats.norm.cdf(400, mu, sigma)\n",
    "prob_b * num_lamps"
   ],
   "id": "8ae6dbe6b40a933e",
   "outputs": [
    {
     "data": {
      "text/plain": [
       "40929.730706018185"
      ]
     },
     "execution_count": 74,
     "metadata": {},
     "output_type": "execute_result"
    }
   ],
   "execution_count": 74
  },
  {
   "metadata": {
    "ExecuteTime": {
     "end_time": "2024-08-26T11:28:48.425485Z",
     "start_time": "2024-08-26T11:28:48.417943Z"
    }
   },
   "cell_type": "code",
   "source": [
    "# c. Number of lamps with lifespan less than 600 hours\n",
    "prob_c = stats.norm.cdf(600, mu, sigma)\n",
    "prob_c * num_lamps"
   ],
   "id": "c66758b6febf3b5",
   "outputs": [
    {
     "data": {
      "text/plain": [
       "42067.237303427144"
      ]
     },
     "execution_count": 72,
     "metadata": {},
     "output_type": "execute_result"
    }
   ],
   "execution_count": 72
  },
  {
   "metadata": {},
   "cell_type": "markdown",
   "source": [
    "### Vraag 13\n",
    "Bij een eenvoudige prijsvraag op de website geven 8 van de 10 mensen het juiste antwoord.\n",
    "Hoe groot is de kans dat ten minste 55 deelnemers uit een aselecte steekproef van 60\n",
    "personen correct geantwoord hebben (2 beduidende cijfers)?"
   ],
   "id": "169578104501f9b3"
  },
  {
   "metadata": {
    "ExecuteTime": {
     "end_time": "2024-08-26T11:29:30.805713Z",
     "start_time": "2024-08-26T11:29:30.798094Z"
    }
   },
   "cell_type": "code",
   "source": [
    "# Given values\n",
    "n = 60\n",
    "p = 0.8\n",
    "\n",
    "1 - stats.binom.cdf(54, n, p)"
   ],
   "id": "979a352fbdae1cd2",
   "outputs": [
    {
     "data": {
      "text/plain": [
       "0.012106170018566287"
      ]
     },
     "execution_count": 75,
     "metadata": {},
     "output_type": "execute_result"
    }
   ],
   "execution_count": 75
  },
  {
   "metadata": {},
   "cell_type": "markdown",
   "source": [
    "### Vraag 14\n",
    "Een nieuwe machine maakt volledig autonoom processoren. Slechts 2 op de 5 processoren voldoen aan de kwaliteitsnorm. <br>\n",
    "a. We nemen 10 processoren gemaakt door deze machine. Wat is de kans dat er minder dan 2 goed zijn?<br>\n",
    "b. We nemen 100 processoren gemaakt door deze machine. Wat is de kans dat er minder dan 20 goed zijn?<br>\n",
    "c. In beide bovenstaande vragen wordt gevraagd naar minder dan 20% van het totaal aantal processoren. Welk verschil merk je? Wat kan de oorzaak zijn?"
   ],
   "id": "22b8b85dfcf616fc"
  },
  {
   "metadata": {
    "ExecuteTime": {
     "end_time": "2024-08-26T11:31:19.485880Z",
     "start_time": "2024-08-26T11:31:19.481603Z"
    }
   },
   "cell_type": "code",
   "source": [
    "# Given values\n",
    "p = 0.4"
   ],
   "id": "e24a208b5a15bc0a",
   "outputs": [],
   "execution_count": 76
  },
  {
   "metadata": {
    "ExecuteTime": {
     "end_time": "2024-08-26T11:33:14.536252Z",
     "start_time": "2024-08-26T11:33:14.530966Z"
    }
   },
   "cell_type": "code",
   "source": [
    "# a. Probability of fewer than 2 good processors out of 10\n",
    "stats.binom.cdf(1, 10, p)"
   ],
   "id": "b9448e8d175e9b03",
   "outputs": [
    {
     "data": {
      "text/plain": [
       "0.046357401599999994"
      ]
     },
     "execution_count": 80,
     "metadata": {},
     "output_type": "execute_result"
    }
   ],
   "execution_count": 80
  },
  {
   "metadata": {
    "ExecuteTime": {
     "end_time": "2024-08-26T11:33:12.521885Z",
     "start_time": "2024-08-26T11:33:12.513029Z"
    }
   },
   "cell_type": "code",
   "source": [
    "# b. Probability of fewer than 20 good processors out of 100\n",
    "stats.binom.cdf(19, 100, p)"
   ],
   "id": "28e6ca9210d7e159",
   "outputs": [
    {
     "data": {
      "text/plain": [
       "5.881325039734313e-06"
      ]
     },
     "execution_count": 79,
     "metadata": {},
     "output_type": "execute_result"
    }
   ],
   "execution_count": 79
  },
  {
   "metadata": {},
   "cell_type": "markdown",
   "source": [
    "### Vraag 15\n",
    "Tijdens een laptopexamen kan er van alles mis gaan. We weten dat een computer met Windows 2% kans heeft om te crashen tijdens het examen.\n",
    "Bij Mac OSX is dat 0,2% en bij Linux is dat 0,1%.\n",
    "Stel dat een klas van 40 studenten examen komt afleggen.\n",
    "#### Situatie 1: iedereen draait Windows:\n",
    "1a) wat is het verwachte aantal crashes (ombudsdossiers ;-) ) tijdens het examen? <br>\n",
    "1b) hoeveel kans is er dat er 1 computer crasht tijdens het examen?<br>\n",
    "1c) hoeveel kans is er dat er 2 computers crashen tijdens het examen?\n",
    "#### Situatie 2: 10 studenten draaien Windows, 10 studenten draaien Mac OSX en 20 draaien Linux\n",
    "2a) wat is het verwachte aantal crashes tijdens het examen?<br>\n",
    "2b) hoeveel kans is er dat er 1 computer crasht tijdens het examen?<br>\n",
    "2c) hoeveel kans is er dat er 2 computers crashen tijdens het examen?"
   ],
   "id": "de8f1c75404f4cca"
  },
  {
   "metadata": {
    "ExecuteTime": {
     "end_time": "2024-08-26T11:35:38.445996Z",
     "start_time": "2024-08-26T11:35:38.441933Z"
    }
   },
   "cell_type": "code",
   "source": [
    "# Given values\n",
    "n_windows = 40\n",
    "p_windows = 0.02"
   ],
   "id": "e01447adb1a3f47f",
   "outputs": [],
   "execution_count": 81
  },
  {
   "metadata": {
    "ExecuteTime": {
     "end_time": "2024-08-26T11:38:13.592020Z",
     "start_time": "2024-08-26T11:38:13.586078Z"
    }
   },
   "cell_type": "code",
   "source": [
    "# Situation 1\n",
    "# a. Expected number of crashes\n",
    "n_windows * p_windows"
   ],
   "id": "c33483cbcd3a5724",
   "outputs": [
    {
     "data": {
      "text/plain": [
       "0.2"
      ]
     },
     "execution_count": 85,
     "metadata": {},
     "output_type": "execute_result"
    }
   ],
   "execution_count": 85
  },
  {
   "metadata": {
    "ExecuteTime": {
     "end_time": "2024-08-26T11:38:15.109400Z",
     "start_time": "2024-08-26T11:38:15.104539Z"
    }
   },
   "cell_type": "code",
   "source": [
    "# b. Probability of 1 crash\n",
    "stats.binom.pmf(1, n_windows, p_windows)"
   ],
   "id": "4e28d0df6bf5c36",
   "outputs": [
    {
     "data": {
      "text/plain": [
       "0.16674955242602987"
      ]
     },
     "execution_count": 86,
     "metadata": {},
     "output_type": "execute_result"
    }
   ],
   "execution_count": 86
  },
  {
   "metadata": {
    "ExecuteTime": {
     "end_time": "2024-08-26T11:38:16.486878Z",
     "start_time": "2024-08-26T11:38:16.479865Z"
    }
   },
   "cell_type": "code",
   "source": [
    "# c. Probability of 2 crashes\n",
    "stats.binom.pmf(2, n_windows, p_windows)"
   ],
   "id": "f209ad3325dd58a2",
   "outputs": [
    {
     "data": {
      "text/plain": [
       "0.015313734406472152"
      ]
     },
     "execution_count": 87,
     "metadata": {},
     "output_type": "execute_result"
    }
   ],
   "execution_count": 87
  },
  {
   "metadata": {
    "ExecuteTime": {
     "end_time": "2024-08-26T11:39:32.596522Z",
     "start_time": "2024-08-26T11:39:32.592439Z"
    }
   },
   "cell_type": "code",
   "source": [
    "# Situation 2\n",
    "n_windows = 10\n",
    "n_mac = 10\n",
    "n_linux = 20\n",
    "p_windows = 0.02\n",
    "p_mac = 0.002\n",
    "p_linux = 0.001"
   ],
   "id": "da5ba547c0867de1",
   "outputs": [],
   "execution_count": 89
  },
  {
   "metadata": {
    "ExecuteTime": {
     "end_time": "2024-08-26T11:39:34.713837Z",
     "start_time": "2024-08-26T11:39:34.708931Z"
    }
   },
   "cell_type": "code",
   "source": [
    "# a. Expected number of crashes\n",
    "(n_windows * p_windows) + (n_mac * p_mac) + (n_linux * p_linux)"
   ],
   "id": "5f4ab5d50950e996",
   "outputs": [
    {
     "data": {
      "text/plain": [
       "0.24"
      ]
     },
     "execution_count": 90,
     "metadata": {},
     "output_type": "execute_result"
    }
   ],
   "execution_count": 90
  },
  {
   "metadata": {
    "ExecuteTime": {
     "end_time": "2024-08-26T11:39:36.336575Z",
     "start_time": "2024-08-26T11:39:36.329656Z"
    }
   },
   "cell_type": "code",
   "source": [
    "# b. Probability of 1 crash\n",
    "(stats.binom.pmf(1, n_windows, p_windows) * stats.binom.pmf(0, n_mac, p_mac) * stats.binom.pmf(0, n_linux, p_linux)) + \\\n",
    "(stats.binom.pmf(0, n_windows, p_windows) * stats.binom.pmf(1, n_mac, p_mac) * stats.binom.pmf(0, n_linux, p_linux)) + \\\n",
    "(stats.binom.pmf(0, n_windows, p_windows) * stats.binom.pmf(0, n_mac, p_mac) * stats.binom.pmf(1, n_linux, p_linux))"
   ],
   "id": "8526e62f5fc7cede",
   "outputs": [
    {
     "data": {
      "text/plain": [
       "0.19165403054539018"
      ]
     },
     "execution_count": 91,
     "metadata": {},
     "output_type": "execute_result"
    }
   ],
   "execution_count": 91
  },
  {
   "metadata": {
    "ExecuteTime": {
     "end_time": "2024-08-26T11:39:38.693611Z",
     "start_time": "2024-08-26T11:39:38.683946Z"
    }
   },
   "cell_type": "code",
   "source": [
    "# c. Probability of 2 crashes\n",
    "(stats.binom.pmf(2, n_windows, p_windows) * stats.binom.pmf(0, n_mac, p_mac) * stats.binom.pmf(0, n_linux, p_linux)) + \\\n",
    "(stats.binom.pmf(1, n_windows, p_windows) * stats.binom.pmf(1, n_mac, p_mac) * stats.binom.pmf(0, n_linux, p_linux)) + \\\n",
    "(stats.binom.pmf(1, n_windows, p_windows) * stats.binom.pmf(0, n_mac, p_mac) * stats.binom.pmf(1, n_linux, p_linux)) + \\\n",
    "(stats.binom.pmf(0, n_windows, p_windows) * stats.binom.pmf(2, n_mac, p_mac) * stats.binom.pmf(0, n_linux, p_linux)) + \\\n",
    "(stats.binom.pmf(0, n_windows, p_windows) * stats.binom.pmf(1, n_mac, p_mac) * stats.binom.pmf(1, n_linux, p_linux)) + \\\n",
    "(stats.binom.pmf(0, n_windows, p_windows) * stats.binom.pmf(0, n_mac, p_mac) * stats.binom.pmf(2, n_linux, p_linux))"
   ],
   "id": "ce0a2f994ef24f54",
   "outputs": [
    {
     "data": {
      "text/plain": [
       "0.02173698535033827"
      ]
     },
     "execution_count": 92,
     "metadata": {},
     "output_type": "execute_result"
    }
   ],
   "execution_count": 92
  },
  {
   "metadata": {},
   "cell_type": "markdown",
   "source": [
    "### Vraag 16\n",
    "In een textielfabriek worden rollen stof vervaardigd met een lengte van 50 meter per rol. Het aantal weeffouten per rol is Poisson-verdeeld met een bijbehorende verwachtingswaarde van 1 weeffout per rol. Bij de kwalitatieve keuring van de rollen stof worden deze gescheiden in rollen van “A kwaliteit” (met 0 of 1 weeffout per rol) en rollen van “B-kwaliteit” (met twee of meer\n",
    "weeffouten per rol). <br>\n",
    "a. Bereken de kans dat een willekeurige rol de aanduiding “B-kwaliteit” krijgt.<br> \n",
    "b. De productieomvang per dag is gelijk aan 2000 meter stof. Hoe groot is de kans dat er op een willekeurige dag tenminste 30 rollen met “A-kwaliteit” worden gemaakt?"
   ],
   "id": "d728c2880b45de94"
  },
  {
   "metadata": {
    "ExecuteTime": {
     "end_time": "2024-08-26T11:43:05.034507Z",
     "start_time": "2024-08-26T11:43:05.030442Z"
    }
   },
   "cell_type": "code",
   "source": [
    "# Given values\n",
    "lambda_ = 1  # Expected number of weeffouten per roll\n",
    "rolls_per_day = 2000 / 50  # Number of rolls produced per day"
   ],
   "id": "35a8cf8e3c079160",
   "outputs": [],
   "execution_count": 93
  },
  {
   "metadata": {
    "ExecuteTime": {
     "end_time": "2024-08-26T11:43:06.384408Z",
     "start_time": "2024-08-26T11:43:06.379241Z"
    }
   },
   "cell_type": "code",
   "source": [
    "# a. Probability that a roll is of \"B-kwaliteit\" (2 or more weeffouten)\n",
    "1 - (stats.poisson.cdf(1, lambda_))"
   ],
   "id": "e80a88a09b2b527e",
   "outputs": [
    {
     "data": {
      "text/plain": [
       "0.26424111765711533"
      ]
     },
     "execution_count": 94,
     "metadata": {},
     "output_type": "execute_result"
    }
   ],
   "execution_count": 94
  },
  {
   "metadata": {
    "ExecuteTime": {
     "end_time": "2024-08-26T11:43:07.831764Z",
     "start_time": "2024-08-26T11:43:07.826080Z"
    }
   },
   "cell_type": "code",
   "source": [
    "# b. Probability that a roll is of \"A-kwaliteit\" (0 or 1 weeffout)\n",
    "prob_a_kwaliteit = stats.poisson.cdf(1, lambda_)\n",
    "prob_a_kwaliteit"
   ],
   "id": "16399fc225a5be90",
   "outputs": [
    {
     "data": {
      "text/plain": [
       "0.7357588823428847"
      ]
     },
     "execution_count": 95,
     "metadata": {},
     "output_type": "execute_result"
    }
   ],
   "execution_count": 95
  },
  {
   "metadata": {
    "ExecuteTime": {
     "end_time": "2024-08-26T11:43:09.351396Z",
     "start_time": "2024-08-26T11:43:09.345600Z"
    }
   },
   "cell_type": "code",
   "source": [
    "# Probability of having at least 30 rolls of \"A-kwaliteit\" in a day\n",
    "1 - stats.binom.cdf(29, rolls_per_day, prob_a_kwaliteit)"
   ],
   "id": "d509d67d7daf930f",
   "outputs": [
    {
     "data": {
      "text/plain": [
       "0.5014637609233916"
      ]
     },
     "execution_count": 96,
     "metadata": {},
     "output_type": "execute_result"
    }
   ],
   "execution_count": 96
  }
 ],
 "metadata": {
  "kernelspec": {
   "display_name": "Python 3",
   "language": "python",
   "name": "python3"
  },
  "language_info": {
   "codemirror_mode": {
    "name": "ipython",
    "version": 2
   },
   "file_extension": ".py",
   "mimetype": "text/x-python",
   "name": "python",
   "nbconvert_exporter": "python",
   "pygments_lexer": "ipython2",
   "version": "2.7.6"
  }
 },
 "nbformat": 4,
 "nbformat_minor": 5
}
