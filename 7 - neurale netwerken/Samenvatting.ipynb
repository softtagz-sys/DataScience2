{
 "cells": [
  {
   "metadata": {},
   "cell_type": "markdown",
   "source": "# Neurale netwerken",
   "id": "c04b5a84f457db12"
  },
  {
   "metadata": {},
   "cell_type": "markdown",
   "source": "## Wat?",
   "id": "862c7d469955422c"
  },
  {
   "metadata": {},
   "cell_type": "markdown",
   "source": [
    "### Biologisch\n",
    "Menselijke hersenen bestaan uit zenuwcellen of neuronen.\n",
    "Een neuron combineert binnenkomende signalen van andere neuronen en geeft dit signaal op zijn beurt weer door aan andere neuronen. **Versterking of verzwakking** van het signaal gebeurt in de dendrieten "
   ],
   "id": "2e02bd9c9ad48147"
  },
  {
   "metadata": {},
   "cell_type": "markdown",
   "source": [
    "### Artificieel\n",
    "<p align=\"center\">\n",
    "<img src=\"rsc/img/1_SJPacPhP4KDEB1AdhOFy_Q.png\">\n",
    "</p>\n",
    "\n",
    "#### Activatie functie\n",
    "Iedere neuron bevat een functie $g$ om zijn gewogen input $z$ te mappen op een nieuwe waarde.\n",
    "Veel gebruikte functies zijn:\n",
    "* lineaire functie\n",
    "* sigmoid functie\n",
    "* relu functie\n",
    "* leaky relu functie\n",
    "* tanh functie\n",
    "* elu functie\n",
    "\n",
    "Een **Atrificial Neural Network (ANN)** is een netwerk van neuronen die met elkaar verbonden zijn.\n",
    "Ieder netwerk heeft bepaalde lagen:\n",
    "* input layer\n",
    "* hidden layers\n",
    "* output layer\n",
    "\n",
    "Iedere laag bevat een aantal neuronen. De input layer bevat evenveel neuronen als er features zijn in de dataset. De output layer bevat evenveel neuronen als er classes zijn in de dataset. De hidden layers kunnen een willekeurig aantal neuronen bevatten en kunnen met een willekeurig aantal lagen zijn.Iedere neuron in een laag is verbonden met iedere neuron in de volgende laag. Deze connectie heeft een gewicht en een bias.\n",
    "\n",
    "<img src=\"rsc/img/Schermafbeelding 2024-06-07 131056.png\">\n",
    "\n",
    "Een **ANN** kan verschillende architecturen hebben:\n",
    "* Feedforward Neural Network\n",
    "* Recurrent Neural Network\n",
    "* LSTM\n",
    "* Autoencoder\n",
    "* Convolutional Neural Network\n",
    "* Kohonen Network\n",
    "* ...\n",
    "Ieder van deze architecturen heeft zijn eigen toepassingen en voordelen. Hier gaan we dieper in op het **Feedforward Neural Network** (**Feedforward NN**). "
   ],
   "id": "c7ab677fc403c46d"
  },
  {
   "metadata": {},
   "cell_type": "markdown",
   "source": [
    "## Feedforward Neural Network\n",
    "### Voorbeeld\n",
    "XOR gate:\n",
    "\n",
    "|  A  |  B  |  A XOR B  |\n",
    "|:---:|:---:|:---------:|\n",
    "|  0  |  0  |     0     |\n",
    "|  0  |  1  |     1     |\n",
    "|  1  |  0  |     1     |\n",
    "|  1  |  1  |     0     |\n",
    "\n",
    "- 2 inputs (**covariaten**)\n",
    "- 1 output (**response variabele**)\n",
    "- ⇒\n",
    "- 2 ingangneuronen\n",
    "- 1 uitgangsneuron\n",
    "\n",
    "Bij een **Feedforward NN** ligt het aantal hidden neuronen meestal ergens tussen het aantal input en output neuronen. In dit geval nemen we 2 hidden neuronen.\n",
    "- We voegen aan de inputlaag en hidden layer een extra neuron toe die altijd een waarde van 1 heeft. Dit is de **bias**.\n",
    "    - De constante neuronen kunnen geen input krijgen, maar geven altijd een ouput aan alle niet constante neuronen in de volgende laag. \n",
    "\n",
    "<img src=\"rsc/img/Schermafbeelding 2024-06-07 132102.png\">"
   ],
   "id": "44560dabed45a213"
  },
  {
   "metadata": {},
   "cell_type": "markdown",
   "source": [
    "## ANN in Python\n",
    "\n",
    "### Stap 0: Importeren van de nodige libraries"
   ],
   "id": "7ac84f2cd84e403b"
  },
  {
   "metadata": {
    "ExecuteTime": {
     "end_time": "2024-06-11T09:09:51.810192Z",
     "start_time": "2024-06-11T09:09:40.057921Z"
    }
   },
   "cell_type": "code",
   "source": [
    "import numpy as np\n",
    "import pandas as pd\n",
    "from tensorflow import keras\n",
    "from tensorflow.keras import Model\n",
    "from tensorflow.keras.layers import Input, Dense, BatchNormalization\n",
    "from tensorflow.keras.utils import to_categorical\n",
    "from tensorflow.keras.optimizers import Adam\n",
    "from livelossplot import PlotLossesKeras\n",
    "from keras.src.utils import plot_model\n",
    "\n",
    "from IPython import InteractiveShell\n",
    "\n",
    "InteractiveShell.ast_node_interactivity = \"all\""
   ],
   "id": "2b032cb6b10806b2",
   "outputs": [],
   "execution_count": 1
  },
  {
   "metadata": {},
   "cell_type": "markdown",
   "source": "### Stap 1: Laad de dataset en inspecteer de gegevens",
   "id": "e08a2f2916f6ad32"
  },
  {
   "metadata": {
    "ExecuteTime": {
     "end_time": "2024-06-10T19:31:40.261084Z",
     "start_time": "2024-06-10T19:31:40.232136Z"
    }
   },
   "cell_type": "code",
   "source": [
    "xor_data = pd.DataFrame({'P1': [0, 1, 0, 1], 'P2': [0, 0, 1, 1], 'Q': [0, 1, 1, 0]})\n",
    "x_xor_data = xor_data[['P1', 'P2']]\n",
    "y_xor_data = xor_data[['Q']]\n",
    "\n",
    "xor_data\n",
    "x_xor_data\n",
    "y_xor_data"
   ],
   "id": "fadf70b4e571c71e",
   "outputs": [
    {
     "data": {
      "text/plain": [
       "   P1  P2  Q\n",
       "0   0   0  0\n",
       "1   1   0  1\n",
       "2   0   1  1\n",
       "3   1   1  0"
      ],
      "text/html": [
       "<div>\n",
       "<style scoped>\n",
       "    .dataframe tbody tr th:only-of-type {\n",
       "        vertical-align: middle;\n",
       "    }\n",
       "\n",
       "    .dataframe tbody tr th {\n",
       "        vertical-align: top;\n",
       "    }\n",
       "\n",
       "    .dataframe thead th {\n",
       "        text-align: right;\n",
       "    }\n",
       "</style>\n",
       "<table border=\"1\" class=\"dataframe\">\n",
       "  <thead>\n",
       "    <tr style=\"text-align: right;\">\n",
       "      <th></th>\n",
       "      <th>P1</th>\n",
       "      <th>P2</th>\n",
       "      <th>Q</th>\n",
       "    </tr>\n",
       "  </thead>\n",
       "  <tbody>\n",
       "    <tr>\n",
       "      <th>0</th>\n",
       "      <td>0</td>\n",
       "      <td>0</td>\n",
       "      <td>0</td>\n",
       "    </tr>\n",
       "    <tr>\n",
       "      <th>1</th>\n",
       "      <td>1</td>\n",
       "      <td>0</td>\n",
       "      <td>1</td>\n",
       "    </tr>\n",
       "    <tr>\n",
       "      <th>2</th>\n",
       "      <td>0</td>\n",
       "      <td>1</td>\n",
       "      <td>1</td>\n",
       "    </tr>\n",
       "    <tr>\n",
       "      <th>3</th>\n",
       "      <td>1</td>\n",
       "      <td>1</td>\n",
       "      <td>0</td>\n",
       "    </tr>\n",
       "  </tbody>\n",
       "</table>\n",
       "</div>"
      ]
     },
     "execution_count": 5,
     "metadata": {},
     "output_type": "execute_result"
    },
    {
     "data": {
      "text/plain": [
       "   P1  P2\n",
       "0   0   0\n",
       "1   1   0\n",
       "2   0   1\n",
       "3   1   1"
      ],
      "text/html": [
       "<div>\n",
       "<style scoped>\n",
       "    .dataframe tbody tr th:only-of-type {\n",
       "        vertical-align: middle;\n",
       "    }\n",
       "\n",
       "    .dataframe tbody tr th {\n",
       "        vertical-align: top;\n",
       "    }\n",
       "\n",
       "    .dataframe thead th {\n",
       "        text-align: right;\n",
       "    }\n",
       "</style>\n",
       "<table border=\"1\" class=\"dataframe\">\n",
       "  <thead>\n",
       "    <tr style=\"text-align: right;\">\n",
       "      <th></th>\n",
       "      <th>P1</th>\n",
       "      <th>P2</th>\n",
       "    </tr>\n",
       "  </thead>\n",
       "  <tbody>\n",
       "    <tr>\n",
       "      <th>0</th>\n",
       "      <td>0</td>\n",
       "      <td>0</td>\n",
       "    </tr>\n",
       "    <tr>\n",
       "      <th>1</th>\n",
       "      <td>1</td>\n",
       "      <td>0</td>\n",
       "    </tr>\n",
       "    <tr>\n",
       "      <th>2</th>\n",
       "      <td>0</td>\n",
       "      <td>1</td>\n",
       "    </tr>\n",
       "    <tr>\n",
       "      <th>3</th>\n",
       "      <td>1</td>\n",
       "      <td>1</td>\n",
       "    </tr>\n",
       "  </tbody>\n",
       "</table>\n",
       "</div>"
      ]
     },
     "execution_count": 5,
     "metadata": {},
     "output_type": "execute_result"
    },
    {
     "data": {
      "text/plain": [
       "   Q\n",
       "0  0\n",
       "1  1\n",
       "2  1\n",
       "3  0"
      ],
      "text/html": [
       "<div>\n",
       "<style scoped>\n",
       "    .dataframe tbody tr th:only-of-type {\n",
       "        vertical-align: middle;\n",
       "    }\n",
       "\n",
       "    .dataframe tbody tr th {\n",
       "        vertical-align: top;\n",
       "    }\n",
       "\n",
       "    .dataframe thead th {\n",
       "        text-align: right;\n",
       "    }\n",
       "</style>\n",
       "<table border=\"1\" class=\"dataframe\">\n",
       "  <thead>\n",
       "    <tr style=\"text-align: right;\">\n",
       "      <th></th>\n",
       "      <th>Q</th>\n",
       "    </tr>\n",
       "  </thead>\n",
       "  <tbody>\n",
       "    <tr>\n",
       "      <th>0</th>\n",
       "      <td>0</td>\n",
       "    </tr>\n",
       "    <tr>\n",
       "      <th>1</th>\n",
       "      <td>1</td>\n",
       "    </tr>\n",
       "    <tr>\n",
       "      <th>2</th>\n",
       "      <td>1</td>\n",
       "    </tr>\n",
       "    <tr>\n",
       "      <th>3</th>\n",
       "      <td>0</td>\n",
       "    </tr>\n",
       "  </tbody>\n",
       "</table>\n",
       "</div>"
      ]
     },
     "execution_count": 5,
     "metadata": {},
     "output_type": "execute_result"
    }
   ],
   "execution_count": 5
  },
  {
   "metadata": {},
   "cell_type": "markdown",
   "source": "### Stap 2: Voer de nodige data management manipulaties uit om de data verwerkingsklaar te maken",
   "id": "b389a528abd650f7"
  },
  {
   "metadata": {},
   "cell_type": "markdown",
   "source": "### Stap 3: Normaliseer de data (alleen indien nodig en indien normalisatie geen deel uit maakt van het gekozen ANN model)",
   "id": "3655fe3eef1d9a09"
  },
  {
   "metadata": {},
   "cell_type": "markdown",
   "source": "### Stap 4: Indien vereist, splits de dataset op in een training- en test dataset",
   "id": "532b5f4c402fee57"
  },
  {
   "metadata": {},
   "cell_type": "markdown",
   "source": "### Stap 5: Bouw het model",
   "id": "f15997428df029fb"
  },
  {
   "metadata": {
    "ExecuteTime": {
     "end_time": "2024-06-10T19:31:40.541877Z",
     "start_time": "2024-06-10T19:31:40.324184Z"
    }
   },
   "cell_type": "code",
   "source": [
    "inputs_xor = Input(shape=(2,))\n",
    "x_xor = Dense(2, activation='sigmoid')(inputs_xor)  #sigmoid(x) = 1 / (1 + exp(-x))\n",
    "outputs_xor = Dense(1, activation='sigmoid')(x_xor)\n",
    "model_xor = Model(inputs_xor, outputs_xor, name='XOR_NN')\n",
    "\n",
    "model_xor.compile(optimizer=Adam(learning_rate=0.00001),\n",
    "                  loss=keras.losses.binary_crossentropy,\n",
    "                  metrics=['accuracy'])"
   ],
   "id": "e8c7f5897b9118e1",
   "outputs": [],
   "execution_count": 6
  },
  {
   "metadata": {},
   "cell_type": "markdown",
   "source": [
    "#### Parameters\n",
    "##### Dense\n",
    "- activation: \n",
    "    - *sigmoid*: Past de **sigmoid** activatie functie toe: $sigmoid(x) = 1/1(1+exp(-x))$. Geeft een waarde tussen 0 en 1 terug, niet zinvol in een regressie ANN\n",
    "    - *relu*: **Past de rectified linear unit** activation functie toe: $max(x, 0)$\n",
    "    - *linear*: **Lineaire** activatie functie (pass-through). Bruikbaar in een regression ANN\n",
    "    - *softmax*: Converteer een vector met waarden in een kansverdeling. Bruikbaar wanneer de output laag bestaat uit nodes voor verschillende uitkomstcategorieën\n",
    "\n",
    "##### *model*.compile\n",
    "- optimizer:\n",
    "    - *Adam(learning_rate=LR)*\n",
    "        - LR ∈ {0.1,0.01,0.001,0.0001,0.00001,0.000001}\n",
    "    - *RMSprop(learning_rate=LR)* Zinvol in een regressie ANN\n",
    "- loss:\n",
    "    - *keras.losses.binary_crossentropy* wanneer de ANN een binaire classificatie beoogd\n",
    "    - *keras.losses.categorical_crossentropy* wanneer de ANN een multiclass classificatie beoogd\n",
    "    - *keras.losses.MeanAbsoluteError()* wanneer de verwachte uitkomst een numerieke waarde is\n",
    "- metrics:\n",
    "    - *['accuracy']* Zinvol in een classificatie ANN\n",
    "    - *keras.metrics.MeanAbsolutePercentageError()* Zinvol in een regressie ANN"
   ],
   "id": "6212ad55e961228c"
  },
  {
   "metadata": {},
   "cell_type": "markdown",
   "source": "### Stap 6: Train het model",
   "id": "7371922c81cb3cb6"
  },
  {
   "metadata": {},
   "cell_type": "code",
   "source": "history_xor = model_xor.fit(x_xor_data, y_xor_data, epochs=200, callbacks=[PlotLossesKeras()], verbose=False)",
   "id": "3dfaa8c98b4f6c26",
   "execution_count": 7,
   "outputs": [
    {
     "name": "stdout",
     "output_type": "stream",
     "text": [
      "accuracy\n",
      "\taccuracy         \t (min:    0.500, max:    0.500, cur:    0.500)\n",
      "Loss\n",
      "\tloss             \t (min:    0.697, max:    0.697, cur:    0.697)\n"
     ]
    }
   ]
  },
  {
   "metadata": {},
   "cell_type": "markdown",
   "source": [
    "#### Paramters\n",
    "##### *model*.fit()\n",
    "- epoch=*n*: Het aantal keren dat de trainingsvoorbeelden worden aangeboden aan de ANN"
   ],
   "id": "a89603ba0113b95f"
  },
  {
   "metadata": {},
   "cell_type": "markdown",
   "source": "### Stap 6.2: Visualiseer het ANN model",
   "id": "3aec09b68da25bbb"
  },
  {
   "metadata": {
    "ExecuteTime": {
     "end_time": "2024-06-10T19:33:12.971332Z",
     "start_time": "2024-06-10T19:33:12.945305Z"
    }
   },
   "cell_type": "code",
   "source": "model_xor.summary()",
   "id": "7864922a140fcd0d",
   "outputs": [
    {
     "data": {
      "text/plain": [
       "\u001B[1mModel: \"XOR_NN\"\u001B[0m\n"
      ],
      "text/html": [
       "<pre style=\"white-space:pre;overflow-x:auto;line-height:normal;font-family:Menlo,'DejaVu Sans Mono',consolas,'Courier New',monospace\"><span style=\"font-weight: bold\">Model: \"XOR_NN\"</span>\n",
       "</pre>\n"
      ]
     },
     "metadata": {},
     "output_type": "display_data"
    },
    {
     "data": {
      "text/plain": [
       "┏━━━━━━━━━━━━━━━━━━━━━━━━━━━━━━━━━┳━━━━━━━━━━━━━━━━━━━━━━━━┳━━━━━━━━━━━━━━━┓\n",
       "┃\u001B[1m \u001B[0m\u001B[1mLayer (type)                   \u001B[0m\u001B[1m \u001B[0m┃\u001B[1m \u001B[0m\u001B[1mOutput Shape          \u001B[0m\u001B[1m \u001B[0m┃\u001B[1m \u001B[0m\u001B[1m      Param #\u001B[0m\u001B[1m \u001B[0m┃\n",
       "┡━━━━━━━━━━━━━━━━━━━━━━━━━━━━━━━━━╇━━━━━━━━━━━━━━━━━━━━━━━━╇━━━━━━━━━━━━━━━┩\n",
       "│ input_layer (\u001B[38;5;33mInputLayer\u001B[0m)        │ (\u001B[38;5;45mNone\u001B[0m, \u001B[38;5;34m2\u001B[0m)              │             \u001B[38;5;34m0\u001B[0m │\n",
       "├─────────────────────────────────┼────────────────────────┼───────────────┤\n",
       "│ dense (\u001B[38;5;33mDense\u001B[0m)                   │ (\u001B[38;5;45mNone\u001B[0m, \u001B[38;5;34m2\u001B[0m)              │             \u001B[38;5;34m6\u001B[0m │\n",
       "├─────────────────────────────────┼────────────────────────┼───────────────┤\n",
       "│ dense_1 (\u001B[38;5;33mDense\u001B[0m)                 │ (\u001B[38;5;45mNone\u001B[0m, \u001B[38;5;34m1\u001B[0m)              │             \u001B[38;5;34m3\u001B[0m │\n",
       "└─────────────────────────────────┴────────────────────────┴───────────────┘\n"
      ],
      "text/html": [
       "<pre style=\"white-space:pre;overflow-x:auto;line-height:normal;font-family:Menlo,'DejaVu Sans Mono',consolas,'Courier New',monospace\">┏━━━━━━━━━━━━━━━━━━━━━━━━━━━━━━━━━┳━━━━━━━━━━━━━━━━━━━━━━━━┳━━━━━━━━━━━━━━━┓\n",
       "┃<span style=\"font-weight: bold\"> Layer (type)                    </span>┃<span style=\"font-weight: bold\"> Output Shape           </span>┃<span style=\"font-weight: bold\">       Param # </span>┃\n",
       "┡━━━━━━━━━━━━━━━━━━━━━━━━━━━━━━━━━╇━━━━━━━━━━━━━━━━━━━━━━━━╇━━━━━━━━━━━━━━━┩\n",
       "│ input_layer (<span style=\"color: #0087ff; text-decoration-color: #0087ff\">InputLayer</span>)        │ (<span style=\"color: #00d7ff; text-decoration-color: #00d7ff\">None</span>, <span style=\"color: #00af00; text-decoration-color: #00af00\">2</span>)              │             <span style=\"color: #00af00; text-decoration-color: #00af00\">0</span> │\n",
       "├─────────────────────────────────┼────────────────────────┼───────────────┤\n",
       "│ dense (<span style=\"color: #0087ff; text-decoration-color: #0087ff\">Dense</span>)                   │ (<span style=\"color: #00d7ff; text-decoration-color: #00d7ff\">None</span>, <span style=\"color: #00af00; text-decoration-color: #00af00\">2</span>)              │             <span style=\"color: #00af00; text-decoration-color: #00af00\">6</span> │\n",
       "├─────────────────────────────────┼────────────────────────┼───────────────┤\n",
       "│ dense_1 (<span style=\"color: #0087ff; text-decoration-color: #0087ff\">Dense</span>)                 │ (<span style=\"color: #00d7ff; text-decoration-color: #00d7ff\">None</span>, <span style=\"color: #00af00; text-decoration-color: #00af00\">1</span>)              │             <span style=\"color: #00af00; text-decoration-color: #00af00\">3</span> │\n",
       "└─────────────────────────────────┴────────────────────────┴───────────────┘\n",
       "</pre>\n"
      ]
     },
     "metadata": {},
     "output_type": "display_data"
    },
    {
     "data": {
      "text/plain": [
       "\u001B[1m Total params: \u001B[0m\u001B[38;5;34m29\u001B[0m (120.00 B)\n"
      ],
      "text/html": [
       "<pre style=\"white-space:pre;overflow-x:auto;line-height:normal;font-family:Menlo,'DejaVu Sans Mono',consolas,'Courier New',monospace\"><span style=\"font-weight: bold\"> Total params: </span><span style=\"color: #00af00; text-decoration-color: #00af00\">29</span> (120.00 B)\n",
       "</pre>\n"
      ]
     },
     "metadata": {},
     "output_type": "display_data"
    },
    {
     "data": {
      "text/plain": [
       "\u001B[1m Trainable params: \u001B[0m\u001B[38;5;34m9\u001B[0m (36.00 B)\n"
      ],
      "text/html": [
       "<pre style=\"white-space:pre;overflow-x:auto;line-height:normal;font-family:Menlo,'DejaVu Sans Mono',consolas,'Courier New',monospace\"><span style=\"font-weight: bold\"> Trainable params: </span><span style=\"color: #00af00; text-decoration-color: #00af00\">9</span> (36.00 B)\n",
       "</pre>\n"
      ]
     },
     "metadata": {},
     "output_type": "display_data"
    },
    {
     "data": {
      "text/plain": [
       "\u001B[1m Non-trainable params: \u001B[0m\u001B[38;5;34m0\u001B[0m (0.00 B)\n"
      ],
      "text/html": [
       "<pre style=\"white-space:pre;overflow-x:auto;line-height:normal;font-family:Menlo,'DejaVu Sans Mono',consolas,'Courier New',monospace\"><span style=\"font-weight: bold\"> Non-trainable params: </span><span style=\"color: #00af00; text-decoration-color: #00af00\">0</span> (0.00 B)\n",
       "</pre>\n"
      ]
     },
     "metadata": {},
     "output_type": "display_data"
    },
    {
     "data": {
      "text/plain": [
       "\u001B[1m Optimizer params: \u001B[0m\u001B[38;5;34m20\u001B[0m (84.00 B)\n"
      ],
      "text/html": [
       "<pre style=\"white-space:pre;overflow-x:auto;line-height:normal;font-family:Menlo,'DejaVu Sans Mono',consolas,'Courier New',monospace\"><span style=\"font-weight: bold\"> Optimizer params: </span><span style=\"color: #00af00; text-decoration-color: #00af00\">20</span> (84.00 B)\n",
       "</pre>\n"
      ]
     },
     "metadata": {},
     "output_type": "display_data"
    }
   ],
   "execution_count": 8
  },
  {
   "metadata": {
    "ExecuteTime": {
     "end_time": "2024-06-10T19:33:12.979048Z",
     "start_time": "2024-06-10T19:33:12.973359Z"
    }
   },
   "cell_type": "code",
   "source": "plot_model(model_xor, to_file='model_xor_plot.png', show_shapes=True, show_layer_names=True)",
   "id": "7f38860df4e79f32",
   "outputs": [
    {
     "name": "stdout",
     "output_type": "stream",
     "text": [
      "You must install pydot (`pip install pydot`) for `plot_model` to work.\n"
     ]
    }
   ],
   "execution_count": 9
  },
  {
   "metadata": {
    "ExecuteTime": {
     "end_time": "2024-06-10T19:33:12.993876Z",
     "start_time": "2024-06-10T19:33:12.981059Z"
    }
   },
   "cell_type": "code",
   "source": [
    "#Visualisatie van de waarden van het getrainde ANN-model\n",
    "for lay in model_xor.layers:\n",
    "    print(lay.name)\n",
    "    print(lay.get_weights())"
   ],
   "id": "254303f4eb032ae0",
   "outputs": [
    {
     "name": "stdout",
     "output_type": "stream",
     "text": [
      "input_layer\n",
      "[]\n",
      "dense\n",
      "[array([[ 0.58756554,  0.71546817],\n",
      "       [-1.0614053 ,  0.34889457]], dtype=float32), array([ 0.00179842, -0.00198887], dtype=float32)]\n",
      "dense_1\n",
      "[array([[ 0.30813554],\n",
      "       [-0.4729228 ]], dtype=float32), array([0.00198785], dtype=float32)]\n"
     ]
    }
   ],
   "execution_count": 10
  },
  {
   "metadata": {},
   "cell_type": "markdown",
   "source": "### Stap 7: Evalueer de kwaliteit van het ANN-Model",
   "id": "a28d462fb37e9f71"
  },
  {
   "metadata": {
    "ExecuteTime": {
     "end_time": "2024-06-10T19:33:13.137057Z",
     "start_time": "2024-06-10T19:33:12.994398Z"
    }
   },
   "cell_type": "code",
   "source": "model_xor.predict(x_xor_data)",
   "id": "c43fbd001fc12d93",
   "outputs": [
    {
     "name": "stdout",
     "output_type": "stream",
     "text": [
      "\u001B[1m1/1\u001B[0m \u001B[32m━━━━━━━━━━━━━━━━━━━━\u001B[0m\u001B[37m\u001B[0m \u001B[1m0s\u001B[0m 71ms/step\n"
     ]
    },
    {
     "data": {
      "text/plain": [
       "array([[0.48000267],\n",
       "       [0.47072726],\n",
       "       [0.45121253],\n",
       "       [0.44248158]], dtype=float32)"
      ]
     },
     "execution_count": 11,
     "metadata": {},
     "output_type": "execute_result"
    }
   ],
   "execution_count": 11
  },
  {
   "metadata": {
    "ExecuteTime": {
     "end_time": "2024-06-10T19:33:13.381660Z",
     "start_time": "2024-06-10T19:33:13.138071Z"
    }
   },
   "cell_type": "code",
   "source": "model_xor.evaluate(x_xor_data, y_xor_data)",
   "id": "6438986337a0fc8a",
   "outputs": [
    {
     "name": "stdout",
     "output_type": "stream",
     "text": [
      "\u001B[1m1/1\u001B[0m \u001B[32m━━━━━━━━━━━━━━━━━━━━\u001B[0m\u001B[37m\u001B[0m \u001B[1m0s\u001B[0m 185ms/step - accuracy: 0.5000 - loss: 0.6969\n"
     ]
    },
    {
     "data": {
      "text/plain": [
       "[0.6968711018562317, 0.5]"
      ]
     },
     "execution_count": 12,
     "metadata": {},
     "output_type": "execute_result"
    }
   ],
   "execution_count": 12
  },
  {
   "metadata": {},
   "cell_type": "markdown",
   "source": "### Voorbeeld MNIST",
   "id": "21ae40c6f9350e86"
  },
  {
   "metadata": {
    "ExecuteTime": {
     "end_time": "2024-06-10T19:33:15.790667Z",
     "start_time": "2024-06-10T19:33:13.384344Z"
    }
   },
   "cell_type": "code",
   "source": [
    "#Stap 1 & 4\n",
    "import keras.src.datasets\n",
    "\n",
    "(x_train, y_train), (x_test, y_test) = keras.datasets.mnist.load_data()"
   ],
   "id": "91eb7ec01981be9a",
   "outputs": [
    {
     "name": "stdout",
     "output_type": "stream",
     "text": [
      "Downloading data from https://storage.googleapis.com/tensorflow/tf-keras-datasets/mnist.npz\n",
      "\u001B[1m11490434/11490434\u001B[0m \u001B[32m━━━━━━━━━━━━━━━━━━━━\u001B[0m\u001B[37m\u001B[0m \u001B[1m2s\u001B[0m 0us/step\n"
     ]
    }
   ],
   "execution_count": 13
  },
  {
   "metadata": {
    "ExecuteTime": {
     "end_time": "2024-06-10T19:33:15.800343Z",
     "start_time": "2024-06-10T19:33:15.792680Z"
    }
   },
   "cell_type": "code",
   "source": [
    "#stap 2\n",
    "# 60,000 training images met 28x28 pixels en hun geassocieerd nummer\n",
    "x_train.shape\n",
    "y_train.shape"
   ],
   "id": "7abf72fa0e88a398",
   "outputs": [
    {
     "data": {
      "text/plain": [
       "(60000, 28, 28)"
      ]
     },
     "execution_count": 14,
     "metadata": {},
     "output_type": "execute_result"
    },
    {
     "data": {
      "text/plain": [
       "(60000,)"
      ]
     },
     "execution_count": 14,
     "metadata": {},
     "output_type": "execute_result"
    }
   ],
   "execution_count": 14
  },
  {
   "metadata": {
    "ExecuteTime": {
     "end_time": "2024-06-10T19:33:15.811098Z",
     "start_time": "2024-06-10T19:33:15.802923Z"
    }
   },
   "cell_type": "code",
   "source": [
    "#transformeer de 2D-images in 1D-vectoren\n",
    "x_train = x_train.reshape((-1, 784))  # 28 x 28 = 784\n",
    "x_test = x_test.reshape((-1, 784))\n",
    "\n",
    "x_train.shape"
   ],
   "id": "22747bb6fb8c6463",
   "outputs": [
    {
     "data": {
      "text/plain": [
       "(60000, 784)"
      ]
     },
     "execution_count": 15,
     "metadata": {},
     "output_type": "execute_result"
    }
   ],
   "execution_count": 15
  },
  {
   "metadata": {
    "ExecuteTime": {
     "end_time": "2024-06-10T19:33:15.818315Z",
     "start_time": "2024-06-10T19:33:15.811985Z"
    }
   },
   "cell_type": "code",
   "source": [
    "#Target waarden getransformeerd in One-hot encoding\n",
    "y_train = to_categorical(y_train)\n",
    "y_test = to_categorical(y_test)"
   ],
   "id": "8ed98391b4406933",
   "outputs": [],
   "execution_count": 16
  },
  {
   "metadata": {
    "ExecuteTime": {
     "end_time": "2024-06-10T19:33:15.856949Z",
     "start_time": "2024-06-10T19:33:15.819323Z"
    }
   },
   "cell_type": "code",
   "source": [
    "inputs = Input(shape=(784,))\n",
    "x = BatchNormalization()(inputs)\n",
    "x = Dense(64, activation='relu')(x)\n",
    "x = Dense(64, activation='relu')(x)\n",
    "outputs = Dense(10, activation='softmax')(x)"
   ],
   "id": "b13db3923bf7323a",
   "outputs": [],
   "execution_count": 17
  },
  {
   "metadata": {
    "ExecuteTime": {
     "end_time": "2024-06-10T19:33:15.884160Z",
     "start_time": "2024-06-10T19:33:15.857962Z"
    }
   },
   "cell_type": "code",
   "source": [
    "#Construct the model\n",
    "model = Model(inputs, outputs, name='MNIST_Crusher')\n",
    "model.summary()\n",
    "model.compile(optimizer=keras.optimizers.Adam(learning_rate=0.001),\n",
    "              loss=keras.losses.categorical_crossentropy,\n",
    "              metrics=['accuracy'])"
   ],
   "id": "4a2480aeb9cf9b8e",
   "outputs": [
    {
     "data": {
      "text/plain": [
       "\u001B[1mModel: \"MNIST_Crusher\"\u001B[0m\n"
      ],
      "text/html": [
       "<pre style=\"white-space:pre;overflow-x:auto;line-height:normal;font-family:Menlo,'DejaVu Sans Mono',consolas,'Courier New',monospace\"><span style=\"font-weight: bold\">Model: \"MNIST_Crusher\"</span>\n",
       "</pre>\n"
      ]
     },
     "metadata": {},
     "output_type": "display_data"
    },
    {
     "data": {
      "text/plain": [
       "┏━━━━━━━━━━━━━━━━━━━━━━━━━━━━━━━━━┳━━━━━━━━━━━━━━━━━━━━━━━━┳━━━━━━━━━━━━━━━┓\n",
       "┃\u001B[1m \u001B[0m\u001B[1mLayer (type)                   \u001B[0m\u001B[1m \u001B[0m┃\u001B[1m \u001B[0m\u001B[1mOutput Shape          \u001B[0m\u001B[1m \u001B[0m┃\u001B[1m \u001B[0m\u001B[1m      Param #\u001B[0m\u001B[1m \u001B[0m┃\n",
       "┡━━━━━━━━━━━━━━━━━━━━━━━━━━━━━━━━━╇━━━━━━━━━━━━━━━━━━━━━━━━╇━━━━━━━━━━━━━━━┩\n",
       "│ input_layer_1 (\u001B[38;5;33mInputLayer\u001B[0m)      │ (\u001B[38;5;45mNone\u001B[0m, \u001B[38;5;34m784\u001B[0m)            │             \u001B[38;5;34m0\u001B[0m │\n",
       "├─────────────────────────────────┼────────────────────────┼───────────────┤\n",
       "│ batch_normalization             │ (\u001B[38;5;45mNone\u001B[0m, \u001B[38;5;34m784\u001B[0m)            │         \u001B[38;5;34m3,136\u001B[0m │\n",
       "│ (\u001B[38;5;33mBatchNormalization\u001B[0m)            │                        │               │\n",
       "├─────────────────────────────────┼────────────────────────┼───────────────┤\n",
       "│ dense_2 (\u001B[38;5;33mDense\u001B[0m)                 │ (\u001B[38;5;45mNone\u001B[0m, \u001B[38;5;34m64\u001B[0m)             │        \u001B[38;5;34m50,240\u001B[0m │\n",
       "├─────────────────────────────────┼────────────────────────┼───────────────┤\n",
       "│ dense_3 (\u001B[38;5;33mDense\u001B[0m)                 │ (\u001B[38;5;45mNone\u001B[0m, \u001B[38;5;34m64\u001B[0m)             │         \u001B[38;5;34m4,160\u001B[0m │\n",
       "├─────────────────────────────────┼────────────────────────┼───────────────┤\n",
       "│ dense_4 (\u001B[38;5;33mDense\u001B[0m)                 │ (\u001B[38;5;45mNone\u001B[0m, \u001B[38;5;34m10\u001B[0m)             │           \u001B[38;5;34m650\u001B[0m │\n",
       "└─────────────────────────────────┴────────────────────────┴───────────────┘\n"
      ],
      "text/html": [
       "<pre style=\"white-space:pre;overflow-x:auto;line-height:normal;font-family:Menlo,'DejaVu Sans Mono',consolas,'Courier New',monospace\">┏━━━━━━━━━━━━━━━━━━━━━━━━━━━━━━━━━┳━━━━━━━━━━━━━━━━━━━━━━━━┳━━━━━━━━━━━━━━━┓\n",
       "┃<span style=\"font-weight: bold\"> Layer (type)                    </span>┃<span style=\"font-weight: bold\"> Output Shape           </span>┃<span style=\"font-weight: bold\">       Param # </span>┃\n",
       "┡━━━━━━━━━━━━━━━━━━━━━━━━━━━━━━━━━╇━━━━━━━━━━━━━━━━━━━━━━━━╇━━━━━━━━━━━━━━━┩\n",
       "│ input_layer_1 (<span style=\"color: #0087ff; text-decoration-color: #0087ff\">InputLayer</span>)      │ (<span style=\"color: #00d7ff; text-decoration-color: #00d7ff\">None</span>, <span style=\"color: #00af00; text-decoration-color: #00af00\">784</span>)            │             <span style=\"color: #00af00; text-decoration-color: #00af00\">0</span> │\n",
       "├─────────────────────────────────┼────────────────────────┼───────────────┤\n",
       "│ batch_normalization             │ (<span style=\"color: #00d7ff; text-decoration-color: #00d7ff\">None</span>, <span style=\"color: #00af00; text-decoration-color: #00af00\">784</span>)            │         <span style=\"color: #00af00; text-decoration-color: #00af00\">3,136</span> │\n",
       "│ (<span style=\"color: #0087ff; text-decoration-color: #0087ff\">BatchNormalization</span>)            │                        │               │\n",
       "├─────────────────────────────────┼────────────────────────┼───────────────┤\n",
       "│ dense_2 (<span style=\"color: #0087ff; text-decoration-color: #0087ff\">Dense</span>)                 │ (<span style=\"color: #00d7ff; text-decoration-color: #00d7ff\">None</span>, <span style=\"color: #00af00; text-decoration-color: #00af00\">64</span>)             │        <span style=\"color: #00af00; text-decoration-color: #00af00\">50,240</span> │\n",
       "├─────────────────────────────────┼────────────────────────┼───────────────┤\n",
       "│ dense_3 (<span style=\"color: #0087ff; text-decoration-color: #0087ff\">Dense</span>)                 │ (<span style=\"color: #00d7ff; text-decoration-color: #00d7ff\">None</span>, <span style=\"color: #00af00; text-decoration-color: #00af00\">64</span>)             │         <span style=\"color: #00af00; text-decoration-color: #00af00\">4,160</span> │\n",
       "├─────────────────────────────────┼────────────────────────┼───────────────┤\n",
       "│ dense_4 (<span style=\"color: #0087ff; text-decoration-color: #0087ff\">Dense</span>)                 │ (<span style=\"color: #00d7ff; text-decoration-color: #00d7ff\">None</span>, <span style=\"color: #00af00; text-decoration-color: #00af00\">10</span>)             │           <span style=\"color: #00af00; text-decoration-color: #00af00\">650</span> │\n",
       "└─────────────────────────────────┴────────────────────────┴───────────────┘\n",
       "</pre>\n"
      ]
     },
     "metadata": {},
     "output_type": "display_data"
    },
    {
     "data": {
      "text/plain": [
       "\u001B[1m Total params: \u001B[0m\u001B[38;5;34m58,186\u001B[0m (227.29 KB)\n"
      ],
      "text/html": [
       "<pre style=\"white-space:pre;overflow-x:auto;line-height:normal;font-family:Menlo,'DejaVu Sans Mono',consolas,'Courier New',monospace\"><span style=\"font-weight: bold\"> Total params: </span><span style=\"color: #00af00; text-decoration-color: #00af00\">58,186</span> (227.29 KB)\n",
       "</pre>\n"
      ]
     },
     "metadata": {},
     "output_type": "display_data"
    },
    {
     "data": {
      "text/plain": [
       "\u001B[1m Trainable params: \u001B[0m\u001B[38;5;34m56,618\u001B[0m (221.16 KB)\n"
      ],
      "text/html": [
       "<pre style=\"white-space:pre;overflow-x:auto;line-height:normal;font-family:Menlo,'DejaVu Sans Mono',consolas,'Courier New',monospace\"><span style=\"font-weight: bold\"> Trainable params: </span><span style=\"color: #00af00; text-decoration-color: #00af00\">56,618</span> (221.16 KB)\n",
       "</pre>\n"
      ]
     },
     "metadata": {},
     "output_type": "display_data"
    },
    {
     "data": {
      "text/plain": [
       "\u001B[1m Non-trainable params: \u001B[0m\u001B[38;5;34m1,568\u001B[0m (6.12 KB)\n"
      ],
      "text/html": [
       "<pre style=\"white-space:pre;overflow-x:auto;line-height:normal;font-family:Menlo,'DejaVu Sans Mono',consolas,'Courier New',monospace\"><span style=\"font-weight: bold\"> Non-trainable params: </span><span style=\"color: #00af00; text-decoration-color: #00af00\">1,568</span> (6.12 KB)\n",
       "</pre>\n"
      ]
     },
     "metadata": {},
     "output_type": "display_data"
    }
   ],
   "execution_count": 18
  },
  {
   "metadata": {
    "ExecuteTime": {
     "end_time": "2024-06-10T19:33:37.917120Z",
     "start_time": "2024-06-10T19:33:15.885713Z"
    }
   },
   "cell_type": "code",
   "source": [
    " #Stap 6: Train het ANN-model\n",
    "history = model.fit(\n",
    "    x_train,  # training data\n",
    "    y_train,  # training targets\n",
    "    epochs=5,\n",
    "    batch_size=32,\n",
    "    validation_split=0.2,\n",
    ")"
   ],
   "id": "d6a9c127792eb7d3",
   "outputs": [
    {
     "name": "stdout",
     "output_type": "stream",
     "text": [
      "Epoch 1/5\n",
      "\u001B[1m1500/1500\u001B[0m \u001B[32m━━━━━━━━━━━━━━━━━━━━\u001B[0m\u001B[37m\u001B[0m \u001B[1m6s\u001B[0m 3ms/step - accuracy: 0.8567 - loss: 0.4743 - val_accuracy: 0.9536 - val_loss: 0.2716\n",
      "Epoch 2/5\n",
      "\u001B[1m1500/1500\u001B[0m \u001B[32m━━━━━━━━━━━━━━━━━━━━\u001B[0m\u001B[37m\u001B[0m \u001B[1m4s\u001B[0m 3ms/step - accuracy: 0.9575 - loss: 0.1391 - val_accuracy: 0.9587 - val_loss: 0.3682\n",
      "Epoch 3/5\n",
      "\u001B[1m1500/1500\u001B[0m \u001B[32m━━━━━━━━━━━━━━━━━━━━\u001B[0m\u001B[37m\u001B[0m \u001B[1m4s\u001B[0m 3ms/step - accuracy: 0.9665 - loss: 0.1055 - val_accuracy: 0.9652 - val_loss: 0.2272\n",
      "Epoch 4/5\n",
      "\u001B[1m1500/1500\u001B[0m \u001B[32m━━━━━━━━━━━━━━━━━━━━\u001B[0m\u001B[37m\u001B[0m \u001B[1m4s\u001B[0m 3ms/step - accuracy: 0.9730 - loss: 0.0841 - val_accuracy: 0.9585 - val_loss: 0.2830\n",
      "Epoch 5/5\n",
      "\u001B[1m1500/1500\u001B[0m \u001B[32m━━━━━━━━━━━━━━━━━━━━\u001B[0m\u001B[37m\u001B[0m \u001B[1m4s\u001B[0m 3ms/step - accuracy: 0.9770 - loss: 0.0704 - val_accuracy: 0.9647 - val_loss: 0.2273\n"
     ]
    }
   ],
   "execution_count": 19
  },
  {
   "metadata": {
    "ExecuteTime": {
     "end_time": "2024-06-10T19:33:38.945117Z",
     "start_time": "2024-06-10T19:33:37.919156Z"
    }
   },
   "cell_type": "code",
   "source": [
    "# Stap 7: evalueer\n",
    "model.evaluate(x_test, y_test)\n",
    "\n",
    "np.argmax(model.predict(x_test[:5]), axis=1)\n",
    "\n",
    "np.argmax(y_test[:5], axis=1)"
   ],
   "id": "f38e9164ea3cba25",
   "outputs": [
    {
     "name": "stdout",
     "output_type": "stream",
     "text": [
      "\u001B[1m313/313\u001B[0m \u001B[32m━━━━━━━━━━━━━━━━━━━━\u001B[0m\u001B[37m\u001B[0m \u001B[1m1s\u001B[0m 2ms/step - accuracy: 0.9632 - loss: 0.2678\n"
     ]
    },
    {
     "data": {
      "text/plain": [
       "[0.39306411147117615, 0.965499997138977]"
      ]
     },
     "execution_count": 20,
     "metadata": {},
     "output_type": "execute_result"
    },
    {
     "name": "stdout",
     "output_type": "stream",
     "text": [
      "\u001B[1m1/1\u001B[0m \u001B[32m━━━━━━━━━━━━━━━━━━━━\u001B[0m\u001B[37m\u001B[0m \u001B[1m0s\u001B[0m 85ms/step\n"
     ]
    },
    {
     "data": {
      "text/plain": [
       "array([7, 2, 1, 0, 4], dtype=int64)"
      ]
     },
     "execution_count": 20,
     "metadata": {},
     "output_type": "execute_result"
    },
    {
     "data": {
      "text/plain": [
       "array([7, 2, 1, 0, 4], dtype=int64)"
      ]
     },
     "execution_count": 20,
     "metadata": {},
     "output_type": "execute_result"
    }
   ],
   "execution_count": 20
  }
 ],
 "metadata": {
  "kernelspec": {
   "display_name": "Python 3",
   "language": "python",
   "name": "python3"
  },
  "language_info": {
   "codemirror_mode": {
    "name": "ipython",
    "version": 2
   },
   "file_extension": ".py",
   "mimetype": "text/x-python",
   "name": "python",
   "nbconvert_exporter": "python",
   "pygments_lexer": "ipython2",
   "version": "2.7.6"
  }
 },
 "nbformat": 4,
 "nbformat_minor": 5
}
