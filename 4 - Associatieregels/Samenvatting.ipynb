{
 "cells": [
  {
   "metadata": {},
   "cell_type": "markdown",
   "source": [
    "We hebben gezien hoe we Associatie Regels kunnen vinden m.b.v. 3 stappen:\n",
    "\n",
    "1. Datamanagement\n",
    "    - de dataset moet in het correct formaat gezet worden.\n",
    "\n",
    "2. Frequenties tellen: de gegevens moeten geturfd worden. Dit betekent dat we de Support moeten berekenen. Dit kan met twee algoritmen:\n",
    "\n",
    "    - Apriori\n",
    "    - FP-growth\n",
    "\n",
    "3. Associatieregels bepalen. Verschillende soorten regels kunnen berekend worden uit de Supports:\n",
    "\n",
    "    - Confidence\n",
    "    - Lift\n",
    "    - Leverage\n",
    "    - Conviction\n",
    "\n",
    "Eens de gegevens in het juiste formaat staan, is het een koud kunstje om in Python met de mlxtend library op zoek te: gaan naar de interessantste verbanden in onze dataset.\n",
    "\n"
   ],
   "id": "55ebfdea04f8dbf6"
  },
  {
   "metadata": {},
   "cell_type": "markdown",
   "source": [
    "# Samenvatting: Inleiding tot Association Rules\n",
    "\n",
    "## Inleiding\n",
    "In deze cursus gaan we verder met het ontdekken van patronen, net zoals in Data Science 1, waar we tijdsgebonden patronen onderzochten met forecasting en attributen voorspelden met beslissingsbomen. Hier richten we ons echter op het identificeren van combinaties van items die vaak samen voorkomen, een techniek die bekendstaat als \"Association Rules\".\n",
    "\n",
    "## Voorbeelden van gebruik\n",
    "- **Webshops:** Wanneer je een product zoals \"Python for Dummies\" bekijkt, krijg je aanbevelingen voor andere producten die vaak samen met dat boek worden gekocht. Dit is een toepassing van association rules.\n",
    "  \n",
    "- **Sociale Media en Streamingdiensten:** Bedrijven zoals Spotify en Facebook gebruiken vergelijkbare algoritmes om gepersonaliseerde aanbevelingen te doen op basis van wat andere gebruikers samen met jouw gekozen inhoud hebben beluisterd of gelezen.\n",
    "\n",
    "## Gevaren van Association Rules\n",
    "Hoewel association rules nuttig zijn, hebben ze ook nadelen. Door alleen vaak voorkomende combinaties te tonen, kunnen platforms zoals Facebook een \"information bubble\" creëren. Dit betekent dat gebruikers voornamelijk inhoud te zien krijgen die overeenkomt met hun eerdere interacties. Een voorbeeld hiervan is hoe Amerikaanse gebruikers na het lezen van een conservatief artikel waarschijnlijk meer rechtsgerichte content zullen zien. Dit kan leiden tot een eenzijdige perceptie van de werkelijkheid.\n",
    "\n",
    "Het gevaar van deze informatiefiltering is niet te onderschatten, aangezien dergelijke algoritmes een grote impact kunnen hebben op maatschappelijke ontwikkelingen. Een dramatisch voorbeeld is de suggestie dat zulke algoritmes mogelijk hebben bijgedragen aan de verkiezing van Donald Trump.\n"
   ],
   "id": "ac37be4a5a3aafdf"
  },
  {
   "metadata": {},
   "cell_type": "markdown",
   "source": [
    "## Stappen voor het identificeren van Association Rules\n",
    "\n",
    "Het proces om Association Rules te identificeren verloopt in drie belangrijke stappen:\n",
    "\n",
    "### 1. Gegevens in het juiste formaat zetten\n",
    "- **Datamanagementtechnieken:** Voordat we associatieregels kunnen bepalen, moeten de gegevens worden voorbereid en geformatteerd. De Python library die we gebruiken, verwacht dat de gegevens in een specifiek formaat beschikbaar zijn.\n",
    "  \n",
    "### 2. Frequenties van combinaties berekenen\n",
    "- **Transacties:** We berekenen de frequentie van combinaties van items die in verschillende transacties voorkomen. Een transactie kan bijvoorbeeld een online verkoop zijn waarbij meerdere artikelen zijn gekocht, of een luistersessie op een streamingdienst waarbij een gebruiker meerdere nummers selecteert.\n",
    "  \n",
    "### 3. Associatieregels bepalen\n",
    "- **Bepalen van regels:** Op basis van de berekende frequenties kunnen we associatieregels identificeren. Voor eenvoudige datasets is het mogelijk om deze regels handmatig te bepalen, maar we zullen een Python library gebruiken om dit efficiënter te doen.\n"
   ],
   "id": "e26b50627a709f66"
  },
  {
   "metadata": {},
   "cell_type": "markdown",
   "source": [
    "# Stap 1 - Datamanagement\n",
    "\n",
    "## Gegevensvoorbereiding voor Association Rules\n",
    "\n",
    "### Transacties naar het juiste formaat omzetten\n",
    "- **Verkoopgegevens:** In ruwe vorm kunnen verkoopgegevens elke aankoop als een afzonderlijke rij weergeven, waarbij meerdere rijen een enkele transactie kunnen vertegenwoordigen.\n",
    "  \n",
    "- **Transactietabel:** Voor het toepassen van algoritmes moeten de gegevens worden omgezet naar een format waarbij elke rij overeenkomt met één transactie, met daarin de producten die bij die transactie zijn gekocht.\n",
    "\n",
    "### Implementatie in Python\n",
    "- **Gebruik van Pandas:** Door gebruik te maken van functies zoals `get_dummies` en `groupby`, kunnen de ruwe verkoopgegevens worden omgezet naar een transactietabel die geschikt is voor verdere analyse.\n",
    "\n",
    "### Itemsets\n",
    "- Een **itemset** is de verzameling producten die samen in één transactie voorkomen. Dit is cruciaal voor het volgende stappen in het proces van Association Rules.\n",
    "\n",
    "### Vooruitblik\n",
    "- Met de gegevens in het juiste transactionele formaat kunnen we doorgaan met het berekenen van de frequenties van combinaties en het zoeken naar associatieregels.\n"
   ],
   "id": "4cae8fe943314f98"
  },
  {
   "metadata": {},
   "cell_type": "markdown",
   "source": [
    "# Stap 2 - Frequente Patronen Identificeren\n",
    "\n",
    "## Support Berekenen\n",
    "- **Support:** De support meet hoe vaak een bepaalde itemset voorkomt in de dataset. Dit is de verhouding van transacties waarin een itemset aanwezig is ten opzichte van het totaal aantal transacties.\n",
    "\n",
    "## Uitdagingen\n",
    "- **Combinatorische Explosie:** Het aantal mogelijke combinaties van items kan enorm groot worden, waardoor handmatige berekeningen onpraktisch zijn. Dit probleem wordt verergerd naarmate het aantal producten toeneemt.\n",
    "\n",
    "## Apriori Algoritme\n",
    "- **Principe:** Maakt gebruik van de monotoniciteitseigenschap van support om het aantal combinaties te beperken. Het algoritme begint met het berekenen van de support voor 1-itemsets en breidt vervolgens uit naar grotere itemsets, terwijl het combinaties onder de minimum support elimineert.\n",
    "- **Gebruik in Python:** Met de `mlxtend` library kan het Apriori algoritme efficiënt worden geïmplementeerd om itemsets te identificeren die voldoen aan een minimale supportwaarde.\n",
    "\n",
    "## FP-Growth Algoritme\n",
    "- **Principe:** Biedt een efficiëntere benadering dan Apriori door gebruik te maken van een boomstructuur om frequentiecombinaties te identificeren. Het algoritme vereist slechts twee doorlopen van de dataset, wat het bijzonder geschikt maakt voor grote datasets.\n",
    "- **Gebruik in Python:** Ook dit algoritme kan worden geïmplementeerd met de `mlxtend` library, op een vergelijkbare manier als het Apriori algoritme.\n",
    "\n",
    "## Resultaten\n",
    "- Beide algoritmen kunnen dezelfde frequente itemsets identificeren, afhankelijk van de gekozen minimum supportwaarde. FP-Growth is echter efficiënter voor grote datasets.\n",
    "\n"
   ],
   "id": "66f0c286a1ee2ba6"
  },
  {
   "metadata": {},
   "cell_type": "markdown",
   "source": [
    "### Stap 3: Associatieregels vastleggen\n",
    "\n",
    "In deze stap gaan we associatieregels vastleggen door de verschillende metrics zoals **confidence**, **lift**, **leverage**, en **conviction** te berekenen. Deze metrics helpen ons om de sterkte en relevantie van de associaties tussen producten te bepalen.\n",
    "\n",
    "#### Confidence\n",
    "**Confidence** is de zekerheid waarmee we kunnen zeggen dat, als een klant item A koopt, deze ook item B zal kopen. Het is een voorwaardelijke kans\n",
    "\n",
    "Een hogere confidence betekent een sterkere associatie tussen de items.\n",
    "\n",
    "**Voorbeeld:**\n",
    "Als we willen berekenen wat de confidence is dat iemand een cartridge koopt gegeven dat hij een printer heeft gekocht\n",
    "\n",
    "#### Lift\n",
    "**Lift** meet hoe vaak item B voorkomt gegeven item A, in vergelijking met hoe vaak B sowieso voorkomt.\n",
    "\n",
    "Als de lift groter is dan 1, suggereert dit dat de aanwezigheid van A de kans op B verhoogt. Een lift van 1 betekent dat er geen verband is tussen A en B.\n",
    "\n",
    "#### Leverage\n",
    "**Leverage** bekijkt de afhankelijkheid tussen twee items A en B. Het is het verschil tussen de waargenomen frequentie van A en B samen, en de verwachte frequentie ervan als ze onafhankelijk van elkaar zouden zijn\n",
    "\n",
    "Een positieve leverage suggereert een positieve afhankelijkheid tussen A en B.\n",
    "\n",
    "#### Conviction\n",
    "**Conviction** corrigeert enkele problemen van confidence door rekening te houden met de kans dat A voorkomt zonder B.\n",
    "\n",
    "Een hogere conviction waarde suggereert een sterkere en meer betrouwbare associatie tussen A en B.\n",
    "\n",
    "### Python Implementatie\n",
    "\n",
    "In Python kunnen we deze metrics berekenen met de `association_rules` functie uit de `mlxtend` library. De code hieronder laat zien hoe je associatieregels kunt berekenen, sorteren en selecteren op basis van deze metrics:"
   ],
   "id": "1090dd1ab0a10c48"
  },
  {
   "metadata": {
    "ExecuteTime": {
     "end_time": "2024-08-13T12:30:29.657091Z",
     "start_time": "2024-08-13T12:30:29.599699Z"
    }
   },
   "cell_type": "code",
   "source": [
    "import pandas as pd\n",
    "from mlxtend.frequent_patterns import fpgrowth, association_rules\n",
    "\n",
    "# Stap 1 - Datamanagement\n",
    "kassatickets = pd.read_csv('./data/transactions.csv', sep=';', index_col=0)\n",
    "transacties = pd.get_dummies(kassatickets, columns=['Product'], prefix='', prefix_sep='').groupby(level='TransactionID').sum()\n",
    "\n",
    "# Stap 2 - Itemsets met support berekenen\n",
    "itemsets = fpgrowth(transacties, min_support=0.3, use_colnames=True)\n",
    "\n",
    "# Stap 3 - Association rules zoeken\n",
    "rules = association_rules(itemsets, min_threshold=0.5)\n",
    "\n",
    "# Resultaat - Associatieregels bekijken\n",
    "print(rules)"
   ],
   "id": "e1d2994cd86221c6",
   "outputs": [
    {
     "name": "stdout",
     "output_type": "stream",
     "text": [
      "  antecedents  consequents  antecedent support  consequent support  support  \\\n",
      "0   (Printer)  (Cartridge)                 0.4                 0.7      0.3   \n",
      "1     (Paper)  (Cartridge)                 0.4                 0.7      0.3   \n",
      "\n",
      "   confidence      lift  leverage  conviction  zhangs_metric  \n",
      "0        0.75  1.071429      0.02         1.2       0.111111  \n",
      "1        0.75  1.071429      0.02         1.2       0.111111  \n"
     ]
    },
    {
     "name": "stderr",
     "output_type": "stream",
     "text": [
      "C:\\pythonenvironments\\DS2\\Lib\\site-packages\\mlxtend\\frequent_patterns\\fpcommon.py:109: DeprecationWarning: DataFrames with non-bool types result in worse computationalperformance and their support might be discontinued in the future.Please use a DataFrame with bool type\n",
      "  warnings.warn(\n"
     ]
    }
   ],
   "execution_count": 8
  },
  {
   "metadata": {},
   "cell_type": "markdown",
   "source": [
    "### Resultaten en Interpretatie\n",
    "\n",
    "Bij het uitvoeren van bovenstaande code worden de associatieregels berekend en gefilterd op basis van een minimum support van 0.3 en een minimum confidence van 0.5. \n",
    "\n",
    "**Voorbeeld:**\n",
    "- **Rule 1**: (Printer → Cartridge) met een confidence van 0.75 en een lift van 1.071.\n",
    "- **Rule 2**: (Papier → Cartridge) met een confidence van 0.75 en een lift van 1.071.\n",
    "\n",
    "Deze regels geven aan dat de kans groot is dat als een klant een printer of papier koopt, ze ook een cartridge kopen.\n",
    "\n",
    "Door het minimum support te verlagen en te filteren op conviction, kunnen we meer regels ontdekken die wellicht minder frequent zijn, maar toch een sterk verband tonen."
   ],
   "id": "d02f27e87d6af395"
  },
  {
   "metadata": {
    "ExecuteTime": {
     "end_time": "2024-08-13T12:30:41.764378Z",
     "start_time": "2024-08-13T12:30:41.746683Z"
    }
   },
   "cell_type": "code",
   "source": [
    "# Meer associatieregels zoeken met lagere minimum support en selectie op conviction\n",
    "itemsets = fpgrowth(transacties, min_support=0.01, use_colnames=True)\n",
    "rules = association_rules(itemsets, metric='conviction', min_threshold=1.2)\n",
    "rules.sort_values(by='conviction', ascending=False)\n",
    "print(rules)"
   ],
   "id": "49818a6db85c31fd",
   "outputs": [
    {
     "name": "stdout",
     "output_type": "stream",
     "text": [
      "              antecedents  consequents  antecedent support  \\\n",
      "0             (Ballpoint)    (Printer)                 0.4   \n",
      "1               (Printer)  (Ballpoint)                 0.4   \n",
      "2  (Cartridge, Ballpoint)    (Printer)                 0.2   \n",
      "3  (Cartridge, Ballpoint)      (Paper)                 0.2   \n",
      "4      (Paper, Ballpoint)  (Cartridge)                 0.1   \n",
      "\n",
      "   consequent support  support  confidence      lift  leverage  conviction  \\\n",
      "0                 0.4      0.2         0.5  1.250000      0.04         1.2   \n",
      "1                 0.4      0.2         0.5  1.250000      0.04         1.2   \n",
      "2                 0.4      0.1         0.5  1.250000      0.02         1.2   \n",
      "3                 0.4      0.1         0.5  1.250000      0.02         1.2   \n",
      "4                 0.7      0.1         1.0  1.428571      0.03         inf   \n",
      "\n",
      "   zhangs_metric  \n",
      "0       0.333333  \n",
      "1       0.333333  \n",
      "2       0.250000  \n",
      "3       0.250000  \n",
      "4       0.333333  \n"
     ]
    },
    {
     "name": "stderr",
     "output_type": "stream",
     "text": [
      "C:\\pythonenvironments\\DS2\\Lib\\site-packages\\mlxtend\\frequent_patterns\\fpcommon.py:109: DeprecationWarning: DataFrames with non-bool types result in worse computationalperformance and their support might be discontinued in the future.Please use a DataFrame with bool type\n",
      "  warnings.warn(\n"
     ]
    }
   ],
   "execution_count": 9
  },
  {
   "metadata": {},
   "cell_type": "markdown",
   "source": "Met deze aanpak worden associatieregels gevonden die belangrijk kunnen zijn voor bijvoorbeeld productaanbevelingen in een winkelomgeving, zelfs als deze minder frequent voorkomen.\n",
   "id": "56356eedf4abf460"
  }
 ],
 "metadata": {
  "kernelspec": {
   "display_name": "Python 3",
   "language": "python",
   "name": "python3"
  },
  "language_info": {
   "codemirror_mode": {
    "name": "ipython",
    "version": 2
   },
   "file_extension": ".py",
   "mimetype": "text/x-python",
   "name": "python",
   "nbconvert_exporter": "python",
   "pygments_lexer": "ipython2",
   "version": "2.7.6"
  }
 },
 "nbformat": 4,
 "nbformat_minor": 5
}
