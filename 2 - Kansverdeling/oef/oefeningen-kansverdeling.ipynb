{
 "cells": [
  {
   "metadata": {},
   "cell_type": "markdown",
   "source": "# Oefeningen kansverdeling",
   "id": "fd77304e7140beaa"
  },
  {
   "metadata": {
    "ExecuteTime": {
     "end_time": "2024-08-04T17:37:07.058751Z",
     "start_time": "2024-08-04T17:37:06.075801Z"
    }
   },
   "cell_type": "code",
   "source": "#imports",
   "id": "ed326f6a961c87ab",
   "outputs": [],
   "execution_count": 1
  },
  {
   "metadata": {
    "ExecuteTime": {
     "end_time": "2024-08-04T17:37:07.564241Z",
     "start_time": "2024-08-04T17:37:07.060390Z"
    }
   },
   "cell_type": "code",
   "source": [
    "#functions\n",
    "from functions import kansverdeling"
   ],
   "id": "b6ed31044c599d22",
   "outputs": [],
   "execution_count": 2
  },
  {
   "metadata": {},
   "cell_type": "markdown",
   "source": [
    "### Vraag 1\n",
    "Luna gooit 4 keer met een dobbelsteen (antwoord met 4 beduidende cijfers): <br>\n",
    "a. Hoe groot is de kans op precies één 6? <br>\n",
    "b. Hoe groot is de kans op vier zessen? <br>\n",
    "c. Hoe groot is de kans op 2 worpen onder de 3 en 2 worpen 3 of hoger? <br>"
   ],
   "id": "5bf45bc715b02b1f"
  },
  {
   "metadata": {
    "ExecuteTime": {
     "end_time": "2024-08-04T17:37:07.575270Z",
     "start_time": "2024-08-04T17:37:07.565821Z"
    }
   },
   "cell_type": "code",
   "source": [
    "#a.\n",
    "#stats.binom.pmf(1, 4, 1/6)\n",
    "kansverdeling.binomial_pmf(4, 1, 1 / 6)"
   ],
   "id": "31ddcd7d7d814c9d",
   "outputs": [
    {
     "data": {
      "text/plain": [
       "0.0"
      ]
     },
     "execution_count": 3,
     "metadata": {},
     "output_type": "execute_result"
    }
   ],
   "execution_count": 3
  },
  {
   "metadata": {
    "ExecuteTime": {
     "end_time": "2024-08-04T17:37:07.583297Z",
     "start_time": "2024-08-04T17:37:07.576837Z"
    }
   },
   "cell_type": "code",
   "source": [
    "#b.\n",
    "#stats.binom.pmf(4, 4, 1/6)\n",
    "kansverdeling.binomial_pmf(4, 4, 1 / 6)"
   ],
   "id": "4b95dfc529489a7c",
   "outputs": [
    {
     "data": {
      "text/plain": [
       "nan"
      ]
     },
     "execution_count": 4,
     "metadata": {},
     "output_type": "execute_result"
    }
   ],
   "execution_count": 4
  },
  {
   "metadata": {
    "ExecuteTime": {
     "end_time": "2024-08-04T17:37:07.619686Z",
     "start_time": "2024-08-04T17:37:07.585928Z"
    }
   },
   "cell_type": "code",
   "source": [
    "#c.\n",
    "#stats.binom.pmf(2, 4, 2/6)\n",
    "kansverdeling.binomial_pmf(4, 2, 2 / 6)"
   ],
   "id": "e5d1dd03c3c4a531",
   "outputs": [
    {
     "data": {
      "text/plain": [
       "nan"
      ]
     },
     "execution_count": 5,
     "metadata": {},
     "output_type": "execute_result"
    }
   ],
   "execution_count": 5
  },
  {
   "metadata": {},
   "cell_type": "markdown",
   "source": [
    "### Vraag 2\n",
    "Zes studenten Toegepaste Informatica moeten een test “Engels” afleggen. De kans om voor het examen te slagen 0,75. <br>\n",
    "a. Hoe groot is de kans dat exact 4 van hen slagen?<br>\n",
    "b. Hoe groot is de kans dat exact 5 van hen slagen?<br>\n",
    "c. Hoe groot is de kans dat exact 6 van hen slagen?<br>\n",
    "d. Hoe groot is de kans dat minder dan 4 van hen slagen?<br>"
   ],
   "id": "435d812deca26982"
  },
  {
   "metadata": {
    "ExecuteTime": {
     "end_time": "2024-08-04T17:37:07.628323Z",
     "start_time": "2024-08-04T17:37:07.621827Z"
    }
   },
   "cell_type": "code",
   "source": [
    "#a.\n",
    "kansverdeling.binomial_pmf(6, 4, 3 / 4)"
   ],
   "id": "70fd38741a050f9c",
   "outputs": [
    {
     "data": {
      "text/plain": [
       "nan"
      ]
     },
     "execution_count": 6,
     "metadata": {},
     "output_type": "execute_result"
    }
   ],
   "execution_count": 6
  },
  {
   "metadata": {
    "ExecuteTime": {
     "end_time": "2024-08-04T17:37:07.636315Z",
     "start_time": "2024-08-04T17:37:07.629928Z"
    }
   },
   "cell_type": "code",
   "source": [
    "#b.\n",
    "kansverdeling.binomial_pmf(6, 5, 3 / 4)"
   ],
   "id": "60cee963c278812f",
   "outputs": [
    {
     "data": {
      "text/plain": [
       "nan"
      ]
     },
     "execution_count": 7,
     "metadata": {},
     "output_type": "execute_result"
    }
   ],
   "execution_count": 7
  },
  {
   "metadata": {
    "ExecuteTime": {
     "end_time": "2024-08-04T17:37:07.643887Z",
     "start_time": "2024-08-04T17:37:07.637909Z"
    }
   },
   "cell_type": "code",
   "source": [
    "#c.\n",
    "kansverdeling.binomial_pmf(6, 6, 3 / 4)"
   ],
   "id": "e87a1d6fe6d2f642",
   "outputs": [
    {
     "data": {
      "text/plain": [
       "nan"
      ]
     },
     "execution_count": 8,
     "metadata": {},
     "output_type": "execute_result"
    }
   ],
   "execution_count": 8
  },
  {
   "metadata": {
    "ExecuteTime": {
     "end_time": "2024-08-04T17:37:07.651358Z",
     "start_time": "2024-08-04T17:37:07.644929Z"
    }
   },
   "cell_type": "code",
   "source": [
    "#d.\n",
    "sum(kansverdeling.binomial_pmf(6, range(0, 4), 3 / 4))"
   ],
   "id": "81dedbbe3548987c",
   "outputs": [
    {
     "data": {
      "text/plain": [
       "nan"
      ]
     },
     "execution_count": 9,
     "metadata": {},
     "output_type": "execute_result"
    }
   ],
   "execution_count": 9
  },
  {
   "metadata": {},
   "cell_type": "markdown",
   "source": [
    "### Vraag 3\n",
    "Op weg naar de school, passeer je 6 verkeerslichten. Deze zijn jammer genoeg helemaal niet gesynchroniseerd. Ze werken totaal onafhankelijk van elkaar. De verkeerslichten staan ongeveer 40% van de tijd op rood. <br>\n",
    "a. Wat is de kans dat je geen enkel rood licht hebt, onderweg?<br>\n",
    "b. Wat is de kans dat alle verkeerslichten op rood staan?<br>\n",
    "c. Wat is de kans om meer dan 2 lichten op rood tegen te komen?<br>\n",
    "d. Als je weet dat je gemiddeld 2 minuten verliest per rood licht. Hoeveel tijd verwacht je dan gemiddeld te verliezen op een traject?<br>"
   ],
   "id": "5635905faafe5154"
  },
  {
   "metadata": {
    "ExecuteTime": {
     "end_time": "2024-08-04T17:37:07.660582Z",
     "start_time": "2024-08-04T17:37:07.653505Z"
    }
   },
   "cell_type": "code",
   "source": [
    "#a.\n",
    "kansverdeling.binomial_pmf(6, 0, 0.4)"
   ],
   "id": "3f4dcb99c56b8b3e",
   "outputs": [
    {
     "data": {
      "text/plain": [
       "0.0"
      ]
     },
     "execution_count": 10,
     "metadata": {},
     "output_type": "execute_result"
    }
   ],
   "execution_count": 10
  },
  {
   "metadata": {
    "ExecuteTime": {
     "end_time": "2024-08-04T17:37:07.669719Z",
     "start_time": "2024-08-04T17:37:07.662753Z"
    }
   },
   "cell_type": "code",
   "source": [
    "#b.\n",
    "kansverdeling.binomial_pmf(6, 6, 0.4)"
   ],
   "id": "8e3fe7131d8bf8da",
   "outputs": [
    {
     "data": {
      "text/plain": [
       "nan"
      ]
     },
     "execution_count": 11,
     "metadata": {},
     "output_type": "execute_result"
    }
   ],
   "execution_count": 11
  },
  {
   "metadata": {
    "ExecuteTime": {
     "end_time": "2024-08-04T17:37:07.677756Z",
     "start_time": "2024-08-04T17:37:07.671301Z"
    }
   },
   "cell_type": "code",
   "source": [
    "#c.\n",
    "sum(kansverdeling.binomial_pmf(6, range(0, 4), 0.6))"
   ],
   "id": "5f052f5e91cb5156",
   "outputs": [
    {
     "data": {
      "text/plain": [
       "nan"
      ]
     },
     "execution_count": 12,
     "metadata": {},
     "output_type": "execute_result"
    }
   ],
   "execution_count": 12
  },
  {
   "metadata": {
    "ExecuteTime": {
     "end_time": "2024-08-04T17:37:07.685738Z",
     "start_time": "2024-08-04T17:37:07.679924Z"
    }
   },
   "cell_type": "code",
   "source": [
    "#d.\n",
    "(6 * 0.4) * 2"
   ],
   "id": "6be6d61871c7011b",
   "outputs": [
    {
     "data": {
      "text/plain": [
       "4.800000000000001"
      ]
     },
     "execution_count": 13,
     "metadata": {},
     "output_type": "execute_result"
    }
   ],
   "execution_count": 13
  },
  {
   "metadata": {},
   "cell_type": "markdown",
   "source": [
    "### Vraag 4\n",
    "Als je met de fiets naar school fietst, heb je gemiddeld 2 maal per jaar een lekke band. <br>\n",
    "a. Wat is de kans dat je geen lekke band hebt in een gegeven jaar? <br>\n",
    "b. Wat is de kans dat je meer dan 3 lekke banden hebt in een jaar? <br>\n",
    "c. Wat is de kans dat je 2 lekke banden hebt in 1 maand tijd? <br>"
   ],
   "id": "dbb872099e39e"
  },
  {
   "metadata": {
    "ExecuteTime": {
     "end_time": "2024-08-04T17:37:07.694857Z",
     "start_time": "2024-08-04T17:37:07.688993Z"
    }
   },
   "cell_type": "code",
   "source": [
    "#a.\n",
    "round(kansverdeling.binomial_pmf(365, 0, 2 / 365), 4)"
   ],
   "id": "7c57c79032f3d968",
   "outputs": [
    {
     "data": {
      "text/plain": [
       "0.0"
      ]
     },
     "execution_count": 14,
     "metadata": {},
     "output_type": "execute_result"
    }
   ],
   "execution_count": 14
  },
  {
   "metadata": {
    "ExecuteTime": {
     "end_time": "2024-08-04T17:37:07.701728Z",
     "start_time": "2024-08-04T17:37:07.696442Z"
    }
   },
   "cell_type": "code",
   "source": [
    "#b.\n",
    "round(kansverdeling.poisson_survival_function(2, 3), 4)"
   ],
   "id": "3081ddf60715bb6c",
   "outputs": [
    {
     "data": {
      "text/plain": [
       "0.1429"
      ]
     },
     "execution_count": 15,
     "metadata": {},
     "output_type": "execute_result"
    }
   ],
   "execution_count": 15
  },
  {
   "metadata": {
    "ExecuteTime": {
     "end_time": "2024-08-04T17:37:07.709204Z",
     "start_time": "2024-08-04T17:37:07.703391Z"
    }
   },
   "cell_type": "code",
   "source": [
    "#c.\n",
    "kansverdeling.poisson_probability(2 / 12, 2)"
   ],
   "id": "7f00ce2bdc291af5",
   "outputs": [
    {
     "data": {
      "text/plain": [
       "0.011756690623480748"
      ]
     },
     "execution_count": 16,
     "metadata": {},
     "output_type": "execute_result"
    }
   ],
   "execution_count": 16
  },
  {
   "metadata": {},
   "cell_type": "markdown",
   "source": [
    "### Vraag 5\n",
    "Een gebruiker krijgt gemiddeld 20 emails per dag. Op een dag krijgt hij er 100 en vraagt zich af of dit nog wel normaal is. <br>\n",
    "a. Wat is de kans dat hij meer dan 100 emails op een dag krijgt?<br>\n",
    "b. Wat is de kans dat hij er meer dan 30 op een dag krijgt?<br>\n",
    "c. Wat is de kans dat hij er exact 20 op een dag krijgt?<br>\n",
    "d. Wat is de kans dat hij er 10 of minder op een dag krijgt?<br>\n",
    "e. Wat is de kans dat hij er 650 of minder op een maand (30 dagen) krijgt?<br>"
   ],
   "id": "286ec91e07edf474"
  },
  {
   "metadata": {
    "ExecuteTime": {
     "end_time": "2024-08-04T17:37:57.536183Z",
     "start_time": "2024-08-04T17:37:57.529180Z"
    }
   },
   "cell_type": "code",
   "source": [
    "#a.\n",
    "kansverdeling.poisson_survival_function(20, 100)"
   ],
   "id": "f25705dc7028e637",
   "outputs": [
    {
     "data": {
      "text/plain": [
       "0.0"
      ]
     },
     "execution_count": 18,
     "metadata": {},
     "output_type": "execute_result"
    }
   ],
   "execution_count": 18
  },
  {
   "metadata": {
    "ExecuteTime": {
     "end_time": "2024-08-04T17:38:56.468075Z",
     "start_time": "2024-08-04T17:38:56.461056Z"
    }
   },
   "cell_type": "code",
   "source": [
    "#b.\n",
    "kansverdeling.poisson_survival_function(20, 30)"
   ],
   "id": "bde1ab732bac3d4b",
   "outputs": [
    {
     "data": {
      "text/plain": [
       "0.01347468127992224"
      ]
     },
     "execution_count": 19,
     "metadata": {},
     "output_type": "execute_result"
    }
   ],
   "execution_count": 19
  },
  {
   "metadata": {
    "ExecuteTime": {
     "end_time": "2024-08-04T17:39:37.299599Z",
     "start_time": "2024-08-04T17:39:37.293214Z"
    }
   },
   "cell_type": "code",
   "source": [
    "#c.\n",
    "kansverdeling.poisson_probability(20, 20)"
   ],
   "id": "bebf07abdeffd74",
   "outputs": [
    {
     "data": {
      "text/plain": [
       "0.0888353173920848"
      ]
     },
     "execution_count": 20,
     "metadata": {},
     "output_type": "execute_result"
    }
   ],
   "execution_count": 20
  },
  {
   "metadata": {
    "ExecuteTime": {
     "end_time": "2024-08-04T17:42:27.352860Z",
     "start_time": "2024-08-04T17:42:27.345811Z"
    }
   },
   "cell_type": "code",
   "source": [
    "#d.\n",
    "kansverdeling.poisson_cdf(20, 10)"
   ],
   "id": "e9262a37497bdabc",
   "outputs": [
    {
     "data": {
      "text/plain": [
       "0.010811718826652723"
      ]
     },
     "execution_count": 21,
     "metadata": {},
     "output_type": "execute_result"
    }
   ],
   "execution_count": 21
  },
  {
   "metadata": {
    "ExecuteTime": {
     "end_time": "2024-08-04T17:43:28.698587Z",
     "start_time": "2024-08-04T17:43:28.691471Z"
    }
   },
   "cell_type": "code",
   "source": [
    "#e\n",
    "kansverdeling.poisson_cdf(20 * 30, 650)"
   ],
   "id": "866c3a2a6159b4d0",
   "outputs": [
    {
     "data": {
      "text/plain": [
       "0.9793455500281875"
      ]
     },
     "execution_count": 22,
     "metadata": {},
     "output_type": "execute_result"
    }
   ],
   "execution_count": 22
  }
 ],
 "metadata": {
  "kernelspec": {
   "display_name": "Python 3",
   "language": "python",
   "name": "python3"
  },
  "language_info": {
   "codemirror_mode": {
    "name": "ipython",
    "version": 2
   },
   "file_extension": ".py",
   "mimetype": "text/x-python",
   "name": "python",
   "nbconvert_exporter": "python",
   "pygments_lexer": "ipython2",
   "version": "2.7.6"
  }
 },
 "nbformat": 4,
 "nbformat_minor": 5
}
