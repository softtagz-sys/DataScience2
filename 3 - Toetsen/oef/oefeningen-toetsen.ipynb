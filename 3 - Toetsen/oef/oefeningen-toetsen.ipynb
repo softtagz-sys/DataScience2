{
 "cells": [
  {
   "metadata": {},
   "cell_type": "markdown",
   "source": "# Oefeningen toetsen",
   "id": "121a6579fc0bd9b6"
  },
  {
   "metadata": {},
   "cell_type": "markdown",
   "source": [
    "## Vraag 1 (Normale moeilijkheidsgraad)\n",
    "Open het bestand opgave \"gamerps.csv\". Schaar steen papier is een spelletje waarbij je zelf een keuze maakt tussen deze drie. Is er echter een voorkeur bij onze scoutsleden\n",
    "van de selectietest? De verwachte verdeling is evenredig. Ga na of onze telling afwijkt\n",
    "van de verwachte verdeling <br>\n",
    "a. Welke test ga je hiervoor gebruiken? <br>\n",
    "b. Hoe luidt H0? \"De telling in onze steekproef is wel/niet evenredig verdeeld.\" <br>\n",
    "c. Wat is de waarde van ²? (3 beduidende cijfers) <br>\n",
    "d. Wat is de kans dat een steekproef een hogere waarde dan ² zou hebben (p-waarde)? (3 beduidende cijfers) <br>\n",
    "e. Kan H0 met een betrouwbaarheid van 95% verworpen worden? <br>\n",
    "f. Kunnen we dus beweren dat de scoutsleden een voorkeur hebben? <br>"
   ],
   "id": "8b5b997ee0fcdde3"
  },
  {
   "metadata": {
    "ExecuteTime": {
     "end_time": "2024-08-12T18:25:53.194660Z",
     "start_time": "2024-08-12T18:25:52.158050Z"
    }
   },
   "cell_type": "code",
   "source": [
    "import pandas as pd\n",
    "import numpy as np\n",
    "from scipy import stats\n",
    "df = pd.read_csv('./data/gamerps.csv')\n",
    "df.head()"
   ],
   "id": "2a1fe9c6ff45d2ae",
   "outputs": [
    {
     "data": {
      "text/plain": [
       "       hand\n",
       "0  Scissors\n",
       "1     Paper\n",
       "2     Paper\n",
       "3  Scissors\n",
       "4  Scissors"
      ],
      "text/html": [
       "<div>\n",
       "<style scoped>\n",
       "    .dataframe tbody tr th:only-of-type {\n",
       "        vertical-align: middle;\n",
       "    }\n",
       "\n",
       "    .dataframe tbody tr th {\n",
       "        vertical-align: top;\n",
       "    }\n",
       "\n",
       "    .dataframe thead th {\n",
       "        text-align: right;\n",
       "    }\n",
       "</style>\n",
       "<table border=\"1\" class=\"dataframe\">\n",
       "  <thead>\n",
       "    <tr style=\"text-align: right;\">\n",
       "      <th></th>\n",
       "      <th>hand</th>\n",
       "    </tr>\n",
       "  </thead>\n",
       "  <tbody>\n",
       "    <tr>\n",
       "      <th>0</th>\n",
       "      <td>Scissors</td>\n",
       "    </tr>\n",
       "    <tr>\n",
       "      <th>1</th>\n",
       "      <td>Paper</td>\n",
       "    </tr>\n",
       "    <tr>\n",
       "      <th>2</th>\n",
       "      <td>Paper</td>\n",
       "    </tr>\n",
       "    <tr>\n",
       "      <th>3</th>\n",
       "      <td>Scissors</td>\n",
       "    </tr>\n",
       "    <tr>\n",
       "      <th>4</th>\n",
       "      <td>Scissors</td>\n",
       "    </tr>\n",
       "  </tbody>\n",
       "</table>\n",
       "</div>"
      ]
     },
     "execution_count": 2,
     "metadata": {},
     "output_type": "execute_result"
    }
   ],
   "execution_count": 2
  },
  {
   "cell_type": "code",
   "execution_count": null,
   "id": "initial_id",
   "metadata": {
    "collapsed": true
   },
   "outputs": [],
   "source": [
    "#a.\n",
    "#chi kwadraat"
   ]
  },
  {
   "metadata": {},
   "cell_type": "code",
   "outputs": [],
   "execution_count": null,
   "source": [
    "#b.\n",
    "#De telling is recht evenredig verdeeld"
   ],
   "id": "5d35d194cb389669"
  },
  {
   "metadata": {
    "ExecuteTime": {
     "end_time": "2024-08-12T18:33:32.469568Z",
     "start_time": "2024-08-12T18:33:32.460212Z"
    }
   },
   "cell_type": "code",
   "source": [
    "#c & d.\n",
    "# Geobserveerde en verwachte frequenties\n",
    "fo = np.array([30, 24, 21])\n",
    "fe = np.array([25, 25, 25])\n",
    "\n",
    "\n",
    "χ2, p_value = stats.chisquare(f_obs=fo, f_exp=fe)\n",
    "\n",
    "print(f'Chi-kwadraat waarde: {χ2}')\n",
    "print(f'p-waarde: {p_value}')"
   ],
   "id": "9a6aca1d1dd7e416",
   "outputs": [
    {
     "name": "stdout",
     "output_type": "stream",
     "text": [
      "Chi-kwadraat waarde: 1.6800000000000002\n",
      "p-waarde: 0.4317105234290799\n"
     ]
    }
   ],
   "execution_count": 9
  },
  {
   "metadata": {},
   "cell_type": "code",
   "outputs": [],
   "execution_count": null,
   "source": [
    "#e\n",
    "#43% is hogen dan 5% dus niet verwerpbaar"
   ],
   "id": "d2ccf8f45da10797"
  },
  {
   "metadata": {},
   "cell_type": "code",
   "outputs": [],
   "execution_count": null,
   "source": [
    "#f\n",
    "#Geen bewijs van voorkeur"
   ],
   "id": "2fe7404aa973cace"
  },
  {
   "metadata": {},
   "cell_type": "markdown",
   "source": [
    "## Vraag 2 (Normale moeilijkheidsgraad)\n",
    "Open het bestand \"hair colorBrussels\". Het gaat om de gegevens over de kleur van het\n",
    "haar van een steekproef van mensen in Brussel. De verwachte verdeling van haarkleuren\n",
    "in Europa zijn:\n",
    "30% blond, 12% rood, 30% bruin, 25% donker, en 3% zwart. <br>\n",
    "Ga na of onze telling afwijkt van de verwachte verdeling <br> \n",
    "a. Welke test ga je hiervoor gebruiken? <br>\n",
    "b. Hoe luidt H0? \"De haarkleurentelling in onze steekproef wijkt wel/niet af van de verwachte verdeling.\" <br>\n",
    "c. Welke ²-waarde vind je? <br>\n",
    "d. Welke p-waarde vind je? <br>\n",
    "e. Kan H0 met een betrouwbaarheid van 95% kan H0 wel of niet verworpen worden? <br>\n",
    "f. Is er in Brussel een afwijking tov de verwachte verdeling? <br>"
   ],
   "id": "f53c8e3d73da7d93"
  },
  {
   "metadata": {
    "ExecuteTime": {
     "end_time": "2024-08-12T19:49:44.944974Z",
     "start_time": "2024-08-12T19:49:44.929036Z"
    }
   },
   "cell_type": "code",
   "source": [
    "df = pd.read_csv('./data/ColorHairBrussels.csv')\n",
    "df.head()"
   ],
   "id": "4affd5d2b016ba43",
   "outputs": [
    {
     "data": {
      "text/plain": [
       "     hair\n",
       "0    Dark\n",
       "1  Blonde\n",
       "2   Brown\n",
       "3  Blonde\n",
       "4   Brown"
      ],
      "text/html": [
       "<div>\n",
       "<style scoped>\n",
       "    .dataframe tbody tr th:only-of-type {\n",
       "        vertical-align: middle;\n",
       "    }\n",
       "\n",
       "    .dataframe tbody tr th {\n",
       "        vertical-align: top;\n",
       "    }\n",
       "\n",
       "    .dataframe thead th {\n",
       "        text-align: right;\n",
       "    }\n",
       "</style>\n",
       "<table border=\"1\" class=\"dataframe\">\n",
       "  <thead>\n",
       "    <tr style=\"text-align: right;\">\n",
       "      <th></th>\n",
       "      <th>hair</th>\n",
       "    </tr>\n",
       "  </thead>\n",
       "  <tbody>\n",
       "    <tr>\n",
       "      <th>0</th>\n",
       "      <td>Dark</td>\n",
       "    </tr>\n",
       "    <tr>\n",
       "      <th>1</th>\n",
       "      <td>Blonde</td>\n",
       "    </tr>\n",
       "    <tr>\n",
       "      <th>2</th>\n",
       "      <td>Brown</td>\n",
       "    </tr>\n",
       "    <tr>\n",
       "      <th>3</th>\n",
       "      <td>Blonde</td>\n",
       "    </tr>\n",
       "    <tr>\n",
       "      <th>4</th>\n",
       "      <td>Brown</td>\n",
       "    </tr>\n",
       "  </tbody>\n",
       "</table>\n",
       "</div>"
      ]
     },
     "execution_count": 12,
     "metadata": {},
     "output_type": "execute_result"
    }
   ],
   "execution_count": 12
  },
  {
   "metadata": {},
   "cell_type": "code",
   "outputs": [],
   "execution_count": null,
   "source": [
    "#a.\n",
    "#chi kwadraat"
   ],
   "id": "10d0cb2a9418defb"
  },
  {
   "metadata": {},
   "cell_type": "code",
   "outputs": [],
   "execution_count": null,
   "source": [
    "#b.\n",
    "#De telling is niet evenredig verdeeld"
   ],
   "id": "b4cead6510f1dbab"
  },
  {
   "metadata": {
    "ExecuteTime": {
     "end_time": "2024-08-12T19:55:40.838080Z",
     "start_time": "2024-08-12T19:55:40.830332Z"
    }
   },
   "cell_type": "code",
   "source": [
    "#c & d.\n",
    "# Geobserveerde en verwachte frequenties\n",
    "fo = np.array([76, 19, 83, 65, 3])\n",
    "fe = np.array([73.8, 29.52, 73.8, 61.5, 7.38])\n",
    "\n",
    "\n",
    "χ2, p_value = stats.chisquare(f_obs=fo, f_exp=fe)\n",
    "\n",
    "print(f'Chi-kwadraat waarde: {χ2}')\n",
    "print(f'p-waarde: {p_value}')"
   ],
   "id": "8d77e6482acf6292",
   "outputs": [
    {
     "name": "stdout",
     "output_type": "stream",
     "text": [
      "Chi-kwadraat waarde: 7.760162601626017\n",
      "p-waarde: 0.1007695128392703\n"
     ]
    }
   ],
   "execution_count": 30
  },
  {
   "metadata": {},
   "cell_type": "code",
   "outputs": [],
   "execution_count": null,
   "source": [
    "#e.\n",
    "# neen, 10.08% is hoger dan 5%"
   ],
   "id": "4f9f8101b00c66d4"
  },
  {
   "metadata": {},
   "cell_type": "code",
   "outputs": [],
   "execution_count": null,
   "source": [
    "#f. \n",
    "# "
   ],
   "id": "20639b311e1f9b6c"
  }
 ],
 "metadata": {
  "kernelspec": {
   "display_name": "Python 3",
   "language": "python",
   "name": "python3"
  },
  "language_info": {
   "codemirror_mode": {
    "name": "ipython",
    "version": 2
   },
   "file_extension": ".py",
   "mimetype": "text/x-python",
   "name": "python",
   "nbconvert_exporter": "python",
   "pygments_lexer": "ipython2",
   "version": "2.7.6"
  }
 },
 "nbformat": 4,
 "nbformat_minor": 5
}
