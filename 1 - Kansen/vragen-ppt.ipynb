{
 "cells": [
  {
   "cell_type": "code",
   "id": "initial_id",
   "metadata": {
    "collapsed": true,
    "ExecuteTime": {
     "end_time": "2024-08-03T12:00:56.891037Z",
     "start_time": "2024-08-03T12:00:54.730438Z"
    }
   },
   "source": [
    "import pandas as pd\n",
    "studenq = pd.read_csv('./data/vragenlijst 21-22.csv', delimiter=';',\n",
    "decimal='.')"
   ],
   "outputs": [],
   "execution_count": 1
  },
  {
   "metadata": {
    "ExecuteTime": {
     "end_time": "2024-08-03T12:31:44.255906Z",
     "start_time": "2024-08-03T12:31:44.240779Z"
    }
   },
   "cell_type": "code",
   "source": "studenq.info",
   "id": "19bf8d901499aa3a",
   "outputs": [
    {
     "data": {
      "text/plain": [
       "<bound method DataFrame.info of    gapminder schrijfhand schoenmaat  lengte    bloedgroep         resus  \\\n",
       "0       7/18      Rechts       43,0     184             O      positief   \n",
       "1       3/18      Rechts       42,0     163  Weet ik niet  Weet ik niet   \n",
       "2      12/18      Rechts       45,0     183            AB      positief   \n",
       "3       5/18      Rechts       44,0     175             A      positief   \n",
       "4       6/18      Rechts       43,0     173             B      positief   \n",
       "..       ...         ...        ...     ...           ...           ...   \n",
       "84      7/18      Rechts       45,0     185             O      negatief   \n",
       "85      9/18      Rechts       43,0     184             O  Weet ik niet   \n",
       "86      4/18       Links       45,5     190  Weet ik niet  Weet ik niet   \n",
       "87      8/18      Rechts       45,0     188             A      positief   \n",
       "88      7/18      Rechts       43,0     176             B      positief   \n",
       "\n",
       "    siblings                                     Samenzweringen  \\\n",
       "0          5  De tsunami van 2004 in de Indische Oceaan was ...   \n",
       "1          1   Prinses Diana kwam niet per ongeluk om het leven   \n",
       "2          2  Prinses Diana kwam niet per ongeluk om het lev...   \n",
       "3          2  De wereld wordt eigenlijk gecontroleerd door e...   \n",
       "4          3  De wereld wordt eigenlijk gecontroleerd door e...   \n",
       "..       ...                                                ...   \n",
       "84         0  De maanlanding is in scne gezet om de Russen ...   \n",
       "85         2  De aanslagen van 9/11 in NY werden niet door t...   \n",
       "86         0  Prinses Diana kwam niet per ongeluk om het lev...   \n",
       "87         1                                                NaN   \n",
       "88         2                                                NaN   \n",
       "\n",
       "                                            rijbewijs  \\\n",
       "0                                Categorie B: Wagens.   \n",
       "1   Categorie AM: Bromfietsen met een maximumsnelh...   \n",
       "2   Categorie AM: Bromfietsen met een maximumsnelh...   \n",
       "3   Categorie AM: Bromfietsen met een maximumsnelh...   \n",
       "4                                Categorie B: Wagens.   \n",
       "..                                                ...   \n",
       "84  Categorie AM: Bromfietsen met een maximumsnelh...   \n",
       "85  Categorie AM: Bromfietsen met een maximumsnelh...   \n",
       "86  Categorie AM: Bromfietsen met een maximumsnelh...   \n",
       "87                               Categorie B: Wagens.   \n",
       "88                               Categorie B: Wagens.   \n",
       "\n",
       "                               domicilie in Antwerpen  ... M1 - stelen  \\\n",
       "0   buiten de stad (een dorp, een gehucht, het pla...  ...           7   \n",
       "1                                         in een stad  ...          10   \n",
       "2                                         in een stad  ...           6   \n",
       "3                                         in een stad  ...           9   \n",
       "4                                         in een stad  ...          10   \n",
       "..                                                ...  ...         ...   \n",
       "84  buiten de stad (een dorp, een gehucht, het pla...  ...          10   \n",
       "85  buiten de stad (een dorp, een gehucht, het pla...  ...           8   \n",
       "86                                        in een stad  ...          10   \n",
       "87                                        in een stad  ...           8   \n",
       "88                                        in een stad  ...          10   \n",
       "\n",
       "   M2 - team M3 - beschermen M4 - voorbeeld M5 - embryo M6 - vrijheid  \\\n",
       "0          2               8              6           5           4,0   \n",
       "1          5              10              6           7           3,0   \n",
       "2          3               7              7          10           6,0   \n",
       "3         10              10             10          10           0,0   \n",
       "4          6              10              7           7           2,0   \n",
       "..       ...             ...            ...         ...           ...   \n",
       "84         3               8              8           2           5,0   \n",
       "85         5               7              8           4           0,0   \n",
       "86         5              10              8           9           5,0   \n",
       "87         6               6              7           6           4,0   \n",
       "88         5               4              9           3           9,0   \n",
       "\n",
       "                                             mascotte            zwaarste vak  \\\n",
       "0   1=Bever,2=Wasbeer,3=Otter,4=Wolf,5=Poema,6=Pan...            Management 1   \n",
       "1   1=Bever,2=Wolf,3=Bizon,4=Otter,5=Panter,6=Poem...            Management 1   \n",
       "2   1=Bruine beer,2=Poema,3=Panter,4=Wolf,5=Vos,6=...            Management 1   \n",
       "3   1=Wasbeer,2=Wolf,3=Bruine beer,4=Das,5=Vos,6=B...            Management 1   \n",
       "4   1=Wolf,2=Vos,3=Bruine beer,4=Bizon,5=Panter,6=...            Management 1   \n",
       "..                                                ...                     ...   \n",
       "84  1=Panter,2=Poema,3=Wolf,4=Vos,5=Bever,6=Bruine...  Software engineering 1   \n",
       "85  1=Panter,2=Poema,3=Vos,4=Wolf,5=Bruine beer,6=...          Data science 1   \n",
       "86  1=Wolf,2=Vos,3=Bruine beer,4=Bever,5=Das,6=Was...       User interfaces 1   \n",
       "87  1=Otter,2=Wasbeer,3=Vos,4=Bruine beer,5=Bever,...             Netwerken 1   \n",
       "88  1=Poema,2=Panter,3=Wolf,4=Bruine beer,5=Bizon,...          Data science 1   \n",
       "\n",
       "                boeienste vak  studiepunt  \n",
       "0              Data science 1  16-20 uren  \n",
       "1          Computersystemen 1  <= 10 uren  \n",
       "2       Programmeren 1 - Java  16-20 uren  \n",
       "3              Data science 1  <= 10 uren  \n",
       "4              Data science 1  <= 10 uren  \n",
       "..                        ...         ...  \n",
       "84          User interfaces 1  26-30 uren  \n",
       "85  Programmeren 1 - Embedded  11-15 uren  \n",
       "86             Data science 1  16-20 uren  \n",
       "87             Data science 1  16-20 uren  \n",
       "88      Programmeren 1 - Java  26-30 uren  \n",
       "\n",
       "[89 rows x 33 columns]>"
      ]
     },
     "execution_count": 30,
     "metadata": {},
     "output_type": "execute_result"
    }
   ],
   "execution_count": 30
  },
  {
   "metadata": {
    "ExecuteTime": {
     "end_time": "2024-08-03T12:32:02.713985Z",
     "start_time": "2024-08-03T12:32:02.697894Z"
    }
   },
   "cell_type": "code",
   "source": "studenq.describe",
   "id": "e23a8b36d9f48ce1",
   "outputs": [
    {
     "data": {
      "text/plain": [
       "<bound method NDFrame.describe of    gapminder schrijfhand schoenmaat  lengte    bloedgroep         resus  \\\n",
       "0       7/18      Rechts       43,0     184             O      positief   \n",
       "1       3/18      Rechts       42,0     163  Weet ik niet  Weet ik niet   \n",
       "2      12/18      Rechts       45,0     183            AB      positief   \n",
       "3       5/18      Rechts       44,0     175             A      positief   \n",
       "4       6/18      Rechts       43,0     173             B      positief   \n",
       "..       ...         ...        ...     ...           ...           ...   \n",
       "84      7/18      Rechts       45,0     185             O      negatief   \n",
       "85      9/18      Rechts       43,0     184             O  Weet ik niet   \n",
       "86      4/18       Links       45,5     190  Weet ik niet  Weet ik niet   \n",
       "87      8/18      Rechts       45,0     188             A      positief   \n",
       "88      7/18      Rechts       43,0     176             B      positief   \n",
       "\n",
       "    siblings                                     Samenzweringen  \\\n",
       "0          5  De tsunami van 2004 in de Indische Oceaan was ...   \n",
       "1          1   Prinses Diana kwam niet per ongeluk om het leven   \n",
       "2          2  Prinses Diana kwam niet per ongeluk om het lev...   \n",
       "3          2  De wereld wordt eigenlijk gecontroleerd door e...   \n",
       "4          3  De wereld wordt eigenlijk gecontroleerd door e...   \n",
       "..       ...                                                ...   \n",
       "84         0  De maanlanding is in scne gezet om de Russen ...   \n",
       "85         2  De aanslagen van 9/11 in NY werden niet door t...   \n",
       "86         0  Prinses Diana kwam niet per ongeluk om het lev...   \n",
       "87         1                                                NaN   \n",
       "88         2                                                NaN   \n",
       "\n",
       "                                            rijbewijs  \\\n",
       "0                                Categorie B: Wagens.   \n",
       "1   Categorie AM: Bromfietsen met een maximumsnelh...   \n",
       "2   Categorie AM: Bromfietsen met een maximumsnelh...   \n",
       "3   Categorie AM: Bromfietsen met een maximumsnelh...   \n",
       "4                                Categorie B: Wagens.   \n",
       "..                                                ...   \n",
       "84  Categorie AM: Bromfietsen met een maximumsnelh...   \n",
       "85  Categorie AM: Bromfietsen met een maximumsnelh...   \n",
       "86  Categorie AM: Bromfietsen met een maximumsnelh...   \n",
       "87                               Categorie B: Wagens.   \n",
       "88                               Categorie B: Wagens.   \n",
       "\n",
       "                               domicilie in Antwerpen  ... M1 - stelen  \\\n",
       "0   buiten de stad (een dorp, een gehucht, het pla...  ...           7   \n",
       "1                                         in een stad  ...          10   \n",
       "2                                         in een stad  ...           6   \n",
       "3                                         in een stad  ...           9   \n",
       "4                                         in een stad  ...          10   \n",
       "..                                                ...  ...         ...   \n",
       "84  buiten de stad (een dorp, een gehucht, het pla...  ...          10   \n",
       "85  buiten de stad (een dorp, een gehucht, het pla...  ...           8   \n",
       "86                                        in een stad  ...          10   \n",
       "87                                        in een stad  ...           8   \n",
       "88                                        in een stad  ...          10   \n",
       "\n",
       "   M2 - team M3 - beschermen M4 - voorbeeld M5 - embryo M6 - vrijheid  \\\n",
       "0          2               8              6           5           4,0   \n",
       "1          5              10              6           7           3,0   \n",
       "2          3               7              7          10           6,0   \n",
       "3         10              10             10          10           0,0   \n",
       "4          6              10              7           7           2,0   \n",
       "..       ...             ...            ...         ...           ...   \n",
       "84         3               8              8           2           5,0   \n",
       "85         5               7              8           4           0,0   \n",
       "86         5              10              8           9           5,0   \n",
       "87         6               6              7           6           4,0   \n",
       "88         5               4              9           3           9,0   \n",
       "\n",
       "                                             mascotte            zwaarste vak  \\\n",
       "0   1=Bever,2=Wasbeer,3=Otter,4=Wolf,5=Poema,6=Pan...            Management 1   \n",
       "1   1=Bever,2=Wolf,3=Bizon,4=Otter,5=Panter,6=Poem...            Management 1   \n",
       "2   1=Bruine beer,2=Poema,3=Panter,4=Wolf,5=Vos,6=...            Management 1   \n",
       "3   1=Wasbeer,2=Wolf,3=Bruine beer,4=Das,5=Vos,6=B...            Management 1   \n",
       "4   1=Wolf,2=Vos,3=Bruine beer,4=Bizon,5=Panter,6=...            Management 1   \n",
       "..                                                ...                     ...   \n",
       "84  1=Panter,2=Poema,3=Wolf,4=Vos,5=Bever,6=Bruine...  Software engineering 1   \n",
       "85  1=Panter,2=Poema,3=Vos,4=Wolf,5=Bruine beer,6=...          Data science 1   \n",
       "86  1=Wolf,2=Vos,3=Bruine beer,4=Bever,5=Das,6=Was...       User interfaces 1   \n",
       "87  1=Otter,2=Wasbeer,3=Vos,4=Bruine beer,5=Bever,...             Netwerken 1   \n",
       "88  1=Poema,2=Panter,3=Wolf,4=Bruine beer,5=Bizon,...          Data science 1   \n",
       "\n",
       "                boeienste vak  studiepunt  \n",
       "0              Data science 1  16-20 uren  \n",
       "1          Computersystemen 1  <= 10 uren  \n",
       "2       Programmeren 1 - Java  16-20 uren  \n",
       "3              Data science 1  <= 10 uren  \n",
       "4              Data science 1  <= 10 uren  \n",
       "..                        ...         ...  \n",
       "84          User interfaces 1  26-30 uren  \n",
       "85  Programmeren 1 - Embedded  11-15 uren  \n",
       "86             Data science 1  16-20 uren  \n",
       "87             Data science 1  16-20 uren  \n",
       "88      Programmeren 1 - Java  26-30 uren  \n",
       "\n",
       "[89 rows x 33 columns]>"
      ]
     },
     "execution_count": 31,
     "metadata": {},
     "output_type": "execute_result"
    }
   ],
   "execution_count": 31
  },
  {
   "metadata": {},
   "cell_type": "markdown",
   "source": [
    "# Vragenlijst powerpoint kansen\n",
    "Veronderstel dat we met de vragenlijst ALLE studenten van INF1 hebben ondervraagd."
   ],
   "id": "f59c479f03492cdc"
  },
  {
   "metadata": {},
   "cell_type": "markdown",
   "source": [
    "1.a Wat is de kans dat een willekeurig gekozen student 2 uur of minder uren wiskunde had in het laatste jaar secondair onderwijs?\n",
    "\n",
    "$$P(2 uur of minder) = #2 uur of minder / # leerlingen$$"
   ],
   "id": "ccadcc381b9e7bc1"
  },
  {
   "metadata": {},
   "cell_type": "markdown",
   "source": "",
   "id": "a3d45ebc7aa48a10"
  },
  {
   "metadata": {
    "ExecuteTime": {
     "end_time": "2024-08-03T12:08:17.207192Z",
     "start_time": "2024-08-03T12:08:17.199037Z"
    }
   },
   "cell_type": "code",
   "source": [
    "P2uurofminder = studenq['uren wiskunde'].value_counts()['2 of minder'] / len(studenq)\n",
    "P2uurofminder"
   ],
   "id": "75dea4f4bb81061d",
   "outputs": [
    {
     "data": {
      "text/plain": [
       "0.0898876404494382"
      ]
     },
     "execution_count": 17,
     "metadata": {},
     "output_type": "execute_result"
    }
   ],
   "execution_count": 17
  },
  {
   "metadata": {},
   "cell_type": "markdown",
   "source": [
    "1.b Wat is de kans dat een willekeurig gekozen student 3 uur of meer uren wiskunde had?\n",
    "\n",
    "$$P(3 uur of meer) = 1 - P(2 uur of minder)$$"
   ],
   "id": "c125987fa1cfcc4e"
  },
  {
   "metadata": {
    "ExecuteTime": {
     "end_time": "2024-08-03T12:08:32.194711Z",
     "start_time": "2024-08-03T12:08:32.188160Z"
    }
   },
   "cell_type": "code",
   "source": "1 - P2uurofminder",
   "id": "5627fdf6f2d768c2",
   "outputs": [
    {
     "data": {
      "text/plain": [
       "0.9101123595505618"
      ]
     },
     "execution_count": 18,
     "metadata": {},
     "output_type": "execute_result"
    }
   ],
   "execution_count": 18
  },
  {
   "metadata": {},
   "cell_type": "markdown",
   "source": [
    "2.a Wat is de kans dat een willekeurig gekozen student als schrijfhand rechts heeft of meer dan 3 stukken fruit eet?\n",
    "\n",
    "$$P(rechtshandig OF > 3 stukken fruit eet) = P(rechtshandig) + P(> 3 stukken fruit eet)$$"
   ],
   "id": "afdaa83365ae4ebc"
  },
  {
   "metadata": {
    "ExecuteTime": {
     "end_time": "2024-08-03T12:30:40.764516Z",
     "start_time": "2024-08-03T12:30:40.756992Z"
    }
   },
   "cell_type": "code",
   "source": [
    "Prechtshandig = studenq['schrijfhand'].value_counts()['Rechts'] / len(studenq)\n",
    "Pmeerdan3stukkenfruit = studenq[studenq['stukken fruit'] >= 3].shape[0] / len(studenq)\n",
    "Prechtshandig + Pmeerdan3stukkenfruit"
   ],
   "id": "5c128a37f22a7d88",
   "outputs": [
    {
     "data": {
      "text/plain": [
       "0.9438202247191011"
      ]
     },
     "execution_count": 29,
     "metadata": {},
     "output_type": "execute_result"
    }
   ],
   "execution_count": 29
  },
  {
   "metadata": {},
   "cell_type": "code",
   "outputs": [],
   "execution_count": null,
   "source": "",
   "id": "d7eaba0268a54a09"
  }
 ],
 "metadata": {
  "kernelspec": {
   "display_name": "Python 3",
   "language": "python",
   "name": "python3"
  },
  "language_info": {
   "codemirror_mode": {
    "name": "ipython",
    "version": 2
   },
   "file_extension": ".py",
   "mimetype": "text/x-python",
   "name": "python",
   "nbconvert_exporter": "python",
   "pygments_lexer": "ipython2",
   "version": "2.7.6"
  }
 },
 "nbformat": 4,
 "nbformat_minor": 5
}
