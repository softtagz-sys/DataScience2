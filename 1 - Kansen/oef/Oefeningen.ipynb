{
 "cells": [
  {
   "metadata": {},
   "cell_type": "markdown",
   "source": "# Oefeningen kansen",
   "id": "a86f3ee3aaa1eacc"
  },
  {
   "metadata": {},
   "cell_type": "markdown",
   "source": [
    "### Vraag 1\n",
    "Je werpt met 2 dobbelstenen. Hoe groot is de kans dat je een 5 en een 2 gooit? (3 beduidende\n",
    "cijfers)"
   ],
   "id": "b2075f1de91c27bc"
  },
  {
   "metadata": {
    "ExecuteTime": {
     "end_time": "2024-08-03T13:26:02.014537Z",
     "start_time": "2024-08-03T13:26:02.009228Z"
    }
   },
   "cell_type": "code",
   "source": [
    "#2 en 5 of 5 en 2\n",
    "#P(2 en 5) + P(5 en 2)\n",
    "#P(2 en 5) = P(2) * P(5) = 1/6 * 1/6\n",
    "#P(5 en 2) = P(5) * P(2) = 1/6 * 1/6\n",
    "print(round(1/6 * 1/6 + 1/6 * 1/6, 3))"
   ],
   "id": "aba7cf5667930f6b",
   "outputs": [
    {
     "name": "stdout",
     "output_type": "stream",
     "text": [
      "0.056\n"
     ]
    }
   ],
   "execution_count": 13
  },
  {
   "metadata": {},
   "cell_type": "markdown",
   "source": [
    "### Vraag 2\n",
    "We hebben 2 dobbelstenen.\n",
    "1e: 3 gele vlakken en 3 rode vlakken\n",
    "2e: 5 gele vlakken en 1 rood vlak.\n",
    "Hoe groot is de kans op zowel een geel als een rood vlak?"
   ],
   "id": "36669d050bc58d8e"
  },
  {
   "cell_type": "code",
   "id": "initial_id",
   "metadata": {
    "collapsed": true,
    "ExecuteTime": {
     "end_time": "2024-08-03T13:24:44.004542Z",
     "start_time": "2024-08-03T13:24:43.999103Z"
    }
   },
   "source": [
    "#P(geel en rood) of P(rood of geel)\n",
    "#P(geel en rood) + P(rood of geel)\n",
    "#P(geel en rood) = P(geel) * P(rood) = 3/6 * 1/6\n",
    "#P(rood of geel) = P(rood) * P(geel) = 3/6 * 5/6\n",
    "print(3/6 * 1/6 + 3/6 * 5/6)"
   ],
   "outputs": [
    {
     "name": "stdout",
     "output_type": "stream",
     "text": [
      "0.5\n"
     ]
    }
   ],
   "execution_count": 12
  },
  {
   "metadata": {},
   "cell_type": "markdown",
   "source": [
    "### Vraag 3\n",
    "Een doos bevat 4 gele, 2 bruine, 1 oranje, 1 groene en 2 paarse knikkers. We trekken telkens zonder teruglegging. (telkens 2 beduidende cijfers)\n",
    "1. Wanneer we 4 knikkers trekken, hoe groot is dan de kans dat alle knikkers geel zijn?\n",
    "2. Wanneer we 2 knikkers trekken, hoe groot is dan de kans op een bruine en een groene\n",
    "knikker?\n",
    "3. Wanneer we 1 knikker trekken, hoe groot is dan de kans op een oranje of een groene\n",
    "knikker?"
   ],
   "id": "55aa1d3adf72c75d"
  },
  {
   "metadata": {
    "ExecuteTime": {
     "end_time": "2024-08-03T13:29:53.939014Z",
     "start_time": "2024-08-03T13:29:53.935326Z"
    }
   },
   "cell_type": "code",
   "source": "tot_knikkers = 4 + 2 + 1 + 1 + 2",
   "id": "f1a79c657e44ec84",
   "outputs": [],
   "execution_count": 14
  },
  {
   "metadata": {
    "ExecuteTime": {
     "end_time": "2024-08-03T14:20:31.543655Z",
     "start_time": "2024-08-03T14:20:31.537161Z"
    }
   },
   "cell_type": "code",
   "source": [
    "#1.\n",
    "#P(Geel en Geel en Geel en Geel)\n",
    "(4/tot_knikkers) * (3/(tot_knikkers-1)) * (2/(tot_knikkers-2)) * (1/(tot_knikkers-3))"
   ],
   "id": "57b8812db932736a",
   "outputs": [
    {
     "data": {
      "text/plain": [
       "0.0047619047619047615"
      ]
     },
     "execution_count": 26,
     "metadata": {},
     "output_type": "execute_result"
    }
   ],
   "execution_count": 26
  },
  {
   "metadata": {
    "ExecuteTime": {
     "end_time": "2024-08-03T14:23:57.208487Z",
     "start_time": "2024-08-03T14:23:57.201455Z"
    }
   },
   "cell_type": "code",
   "source": [
    "#2.\n",
    "#P(Bruin en Geel) of P(Geel en Bruin)\n",
    "(2/tot_knikkers) * (1/(tot_knikkers-1)) + (1/tot_knikkers) * (2/(tot_knikkers-1))"
   ],
   "id": "ab6178bbfe41137e",
   "outputs": [
    {
     "data": {
      "text/plain": [
       "0.044444444444444446"
      ]
     },
     "execution_count": 29,
     "metadata": {},
     "output_type": "execute_result"
    }
   ],
   "execution_count": 29
  },
  {
   "metadata": {
    "ExecuteTime": {
     "end_time": "2024-08-03T14:22:58.466962Z",
     "start_time": "2024-08-03T14:22:58.459927Z"
    }
   },
   "cell_type": "code",
   "source": [
    "#3.\n",
    "#P(groen of oranje)\n",
    "(1/tot_knikkers) + (1/tot_knikkers) "
   ],
   "id": "35c09640f706fd1f",
   "outputs": [
    {
     "data": {
      "text/plain": [
       "0.2"
      ]
     },
     "execution_count": 28,
     "metadata": {},
     "output_type": "execute_result"
    }
   ],
   "execution_count": 28
  },
  {
   "metadata": {},
   "cell_type": "markdown",
   "source": [
    "### Vraag 4\n",
    "Voor een groep van 144 studenten zijn er 90 geslaagd op het examen “OO concepten” en 60 voor “JavaFX”.\n",
    "Van de 90 die geslaagd zijn op “OO concepten” zijn er 30 ook geslaagd op “JavaFX”.\n",
    "Hoe groot is de kans dat als we een willekeurige studenten selecteren dat deze geslaagd is voor tenminste 1 van de 2 examens? (4 beduidende cijfers)"
   ],
   "id": "5713874f70163b1d"
  },
  {
   "metadata": {
    "ExecuteTime": {
     "end_time": "2024-08-03T14:38:41.780339Z",
     "start_time": "2024-08-03T14:38:41.771741Z"
    }
   },
   "cell_type": "code",
   "source": [
    "Tot_studenten = 144\n",
    "OOConceptenGeslaagd = 90\n",
    "JavaFXGeslaagd = 60\n",
    "OOConceptEnJavaFx = 30\n",
    "geslaagd = OOConceptenGeslaagd + JavaFXGeslaagd - OOConceptEnJavaFx\n",
    "geslaagd / Tot_studenten"
   ],
   "id": "b2d5ba85d534982e",
   "outputs": [
    {
     "data": {
      "text/plain": [
       "0.8333333333333334"
      ]
     },
     "execution_count": 32,
     "metadata": {},
     "output_type": "execute_result"
    }
   ],
   "execution_count": 32
  },
  {
   "metadata": {},
   "cell_type": "markdown",
   "source": [
    "### Vraag 5\n",
    "Op een groep van 1000 studenten zijn er 400 die regelmatig computerspelletjes spelen(S) en 200 die regelmatig bordspelen speelt(B). Er zijn er 100 die regelmatig computerspelletjes spelen en bordspelen speelt (S en B).\n",
    "Hoe groot is de kans dat als je een willekeurige student kiest dat deze regelmatig spelletjes speelt (bord of computer)?"
   ],
   "id": "2be4fa7fe644398c"
  },
  {
   "metadata": {
    "ExecuteTime": {
     "end_time": "2024-08-03T14:39:57.927242Z",
     "start_time": "2024-08-03T14:39:57.917994Z"
    }
   },
   "cell_type": "code",
   "source": [
    "Tot_studenten = 1000\n",
    "S = 400\n",
    "B = 200\n",
    "SB = 100\n",
    "\n",
    "(S + B - SB)/1000"
   ],
   "id": "d66c6ecff10f902f",
   "outputs": [
    {
     "data": {
      "text/plain": [
       "0.5"
      ]
     },
     "execution_count": 34,
     "metadata": {},
     "output_type": "execute_result"
    }
   ],
   "execution_count": 34
  },
  {
   "metadata": {},
   "cell_type": "markdown",
   "source": [
    "### Vraag 6\n",
    "Voor een examen “Data Science 1” slaagt 70% van de studenten. Hiervan is 50% dagstudent\n",
    "en 50% blended student. Van de deelnemers is 60% dagstudent en 40% blended student. Uit\n",
    "de groep wordt telkens 1 willekeurige student geselecteerd. (telkens 2 beduidende cijfers)\n",
    "1. Hoe groot is de kans op een geslaagde student?\n",
    "2. Hoe groot is de kans op een dagstudent, gegeven dat het een geslaagde student is?\n",
    "3. Hoe groot is de kans op een geslaagde dagstudent?\n",
    "4. Hoe groot is de kans op een geslaagde student, gegeven dat het een dagstudent is?\n",
    "5. Hoe groot is de kans op een gezakte student, gegeven dat het een dagstudent is?\n",
    "6. Hoe groot is de kans op een gezakte dagstudent?\n"
   ],
   "id": "29ef7013a11b2d4f"
  },
  {
   "metadata": {
    "ExecuteTime": {
     "end_time": "2024-08-03T14:42:59.123969Z",
     "start_time": "2024-08-03T14:42:59.114765Z"
    }
   },
   "cell_type": "code",
   "source": [
    "#gegeven\n",
    "#P(Geslaagd)\n",
    "Geslaagd = 0.7\n",
    "\n",
    "#P(Dag | Geslaagd)\n",
    "DagGeslaagd = 0.5\n",
    "\n",
    "#P(Blended | Geslaagd)\n",
    "BlendedGeslaagd = 0.5\n",
    "\n",
    "#P(Dag)\n",
    "TotaalDag = 0.6\n",
    "\n",
    "#P(Blended)\n",
    "TotaalBlended = 0.4"
   ],
   "id": "f98333d95ccc42cf",
   "outputs": [],
   "execution_count": 35
  },
  {
   "metadata": {
    "ExecuteTime": {
     "end_time": "2024-08-03T14:44:41.935088Z",
     "start_time": "2024-08-03T14:44:41.929109Z"
    }
   },
   "cell_type": "code",
   "source": [
    "#1 P(Geslaagd)\n",
    "Geslaagd"
   ],
   "id": "f505cd0f1ce3c6b4",
   "outputs": [
    {
     "data": {
      "text/plain": [
       "0.7"
      ]
     },
     "execution_count": 37,
     "metadata": {},
     "output_type": "execute_result"
    }
   ],
   "execution_count": 37
  },
  {
   "metadata": {
    "ExecuteTime": {
     "end_time": "2024-08-03T14:55:45.682643Z",
     "start_time": "2024-08-03T14:55:45.676079Z"
    }
   },
   "cell_type": "code",
   "source": [
    "#2 P(Dag | Geslaagd)\n",
    "DagGeslaagd"
   ],
   "id": "254246fb5901f7c8",
   "outputs": [
    {
     "data": {
      "text/plain": [
       "0.5"
      ]
     },
     "execution_count": 41,
     "metadata": {},
     "output_type": "execute_result"
    }
   ],
   "execution_count": 41
  },
  {
   "metadata": {
    "ExecuteTime": {
     "end_time": "2024-08-03T14:56:00.450338Z",
     "start_time": "2024-08-03T14:56:00.441589Z"
    }
   },
   "cell_type": "code",
   "source": [
    "#3 P(Geslaagd EN Dag)\n",
    "Geslaagd * DagGeslaagd"
   ],
   "id": "13dca68bd2cc60b",
   "outputs": [
    {
     "data": {
      "text/plain": [
       "0.35"
      ]
     },
     "execution_count": 42,
     "metadata": {},
     "output_type": "execute_result"
    }
   ],
   "execution_count": 42
  },
  {
   "metadata": {
    "ExecuteTime": {
     "end_time": "2024-08-03T15:03:43.599787Z",
     "start_time": "2024-08-03T15:03:43.591038Z"
    }
   },
   "cell_type": "code",
   "source": [
    "#4 P(Geslaagd | Dag)\n",
    "# P(Geslaagd | Dag) = (P(Dag | Geslaagd) * P(Geslaagd))/P(Dag)\n",
    "GeslaagdDag = (0.5 * 0.7)/0.6\n",
    "GeslaagdDag"
   ],
   "id": "341cd73a5c38f3ae",
   "outputs": [
    {
     "data": {
      "text/plain": [
       "0.5833333333333334"
      ]
     },
     "execution_count": 45,
     "metadata": {},
     "output_type": "execute_result"
    }
   ],
   "execution_count": 45
  },
  {
   "metadata": {
    "ExecuteTime": {
     "end_time": "2024-08-03T15:07:31.947630Z",
     "start_time": "2024-08-03T15:07:31.941707Z"
    }
   },
   "cell_type": "code",
   "source": [
    "#5 P(Gezakt | Dag)\n",
    "# 1 - P(Geslaagd | Dag)\n",
    "GezaktDag = 1 - GeslaagdDag\n",
    "GezaktDag"
   ],
   "id": "b587f49775737556",
   "outputs": [
    {
     "data": {
      "text/plain": [
       "0.41666666666666663"
      ]
     },
     "execution_count": 50,
     "metadata": {},
     "output_type": "execute_result"
    }
   ],
   "execution_count": 50
  },
  {
   "metadata": {
    "ExecuteTime": {
     "end_time": "2024-08-03T15:08:14.721054Z",
     "start_time": "2024-08-03T15:08:14.714927Z"
    }
   },
   "cell_type": "code",
   "source": [
    "#6 P(Gezakt en Dag)\n",
    "# P(Gezakt | Dag) * P(Dag)\n",
    "GezaktDag * TotaalDag"
   ],
   "id": "3754c64608a9f974",
   "outputs": [
    {
     "data": {
      "text/plain": [
       "0.24999999999999997"
      ]
     },
     "execution_count": 52,
     "metadata": {},
     "output_type": "execute_result"
    }
   ],
   "execution_count": 52
  },
  {
   "metadata": {},
   "cell_type": "markdown",
   "source": [
    "### Vraag 7\n",
    "3 mannen gaan naar een feest en dragen precies dezelfde jassen. Zij hangen hun jassen aan de kapstok en worden daarna zeer dronken.\n",
    "Aan het eind neemt elke man een jas zonder te kijken welke. Hoe groot is de kans dat ieder zijn eigen jas neemt?"
   ],
   "id": "d005b18a6e81d1f4"
  },
  {
   "metadata": {
    "ExecuteTime": {
     "end_time": "2024-08-03T15:10:31.468987Z",
     "start_time": "2024-08-03T15:10:31.463063Z"
    }
   },
   "cell_type": "code",
   "source": [
    "#P(Juiste Jas EN Juiste Jas EN Juiste Jas)\n",
    "1/3 * 1/2 * 1/1"
   ],
   "id": "45b201cb1fa8047b",
   "outputs": [
    {
     "data": {
      "text/plain": [
       "0.16666666666666666"
      ]
     },
     "execution_count": 53,
     "metadata": {},
     "output_type": "execute_result"
    }
   ],
   "execution_count": 53
  },
  {
   "metadata": {},
   "cell_type": "markdown",
   "source": [
    "### Vraag 8\n",
    "Als het hard regent, is er 50% kans dat mijn kelder onderloopt. Het regent gemiddeld 35 dagen/jaar hard en mijn kelder loopt 20 dagen per jaar onder water (dus ook soms als het niet hard regent).\n",
    "Als mijn kelder ondergelopen is, wat is dan de kans dat dit komt doordat het hard regent?"
   ],
   "id": "2d12522fd2b32442"
  },
  {
   "metadata": {
    "ExecuteTime": {
     "end_time": "2024-08-03T15:21:20.725202Z",
     "start_time": "2024-08-03T15:21:20.716979Z"
    }
   },
   "cell_type": "code",
   "source": [
    "#P(regent | kelder) = ?\n",
    "#P(kelder | regent) = 0.5\n",
    "kelderRegent = 0.5\n",
    "#P(regent) = 35 dagen per jaar\n",
    "regent = 35/365\n",
    "#P(kelder) = 20 dagen per jaar\n",
    "kelder = 20/365\n",
    "\n",
    "#P(regent | kelder) = (P(kelder | regent) * P(kelder))/P(regent)\n",
    "(kelderRegent * regent)/kelder"
   ],
   "id": "cfd735a2b7c521a",
   "outputs": [
    {
     "data": {
      "text/plain": [
       "0.875"
      ]
     },
     "execution_count": 62,
     "metadata": {},
     "output_type": "execute_result"
    }
   ],
   "execution_count": 62
  },
  {
   "metadata": {},
   "cell_type": "markdown",
   "source": [
    "### Vraag 9\n",
    "90% van de PC's gebruikt Windows. Als een PC crasht, ben je 99,9% zeker dat er Windows op draait. \n",
    "De kans dat een PC crasht (ongeacht het besturingssysteem) is 0,01. Wat is de kans dat een PC crasht als je weet dat er Windows op draait?"
   ],
   "id": "923e0f151e72071f"
  },
  {
   "metadata": {
    "ExecuteTime": {
     "end_time": "2024-08-03T15:26:30.961887Z",
     "start_time": "2024-08-03T15:26:30.953084Z"
    }
   },
   "cell_type": "code",
   "source": [
    "#P(crash | windows) = ?\n",
    "#P(windows) = 90%\n",
    "windows = 0.9\n",
    "#P(crash) = 1%\n",
    "crash = 0.01\n",
    "#P(windows | crash) = 99.9%\n",
    "windowsCrash = 0.999\n",
    "\n",
    "#P(crash | windows) = (P(windows | crash) * P(crash))/P(windows)\n",
    "(windowsCrash * crash) / windows"
   ],
   "id": "6c4cc696df49fa5d",
   "outputs": [
    {
     "data": {
      "text/plain": [
       "0.0111"
      ]
     },
     "execution_count": 63,
     "metadata": {},
     "output_type": "execute_result"
    }
   ],
   "execution_count": 63
  },
  {
   "metadata": {},
   "cell_type": "markdown",
   "source": [
    "### Vraag 10\n",
    "In 1988 was er discussie om een verplichte AIDS test in te voeren. \n",
    "Men heeft een zeer betrouwbare test ontwikkelt die volgende resultaten boekt:\n",
    "\n",
    " * P(positief | geïnfecteerd) = 0,999\n",
    " * P(negatief | niet geïnfecteerd) = 0,99\n",
    "\n",
    "Men schat dat 0,6% van de mensen drager is van het virus.\n",
    "Wat is de kans dat iemand daadwerkelijk geïnfecteerd is als je weet dat de test positief is? \n",
    "Zie je waarom de verplichte test niet werd ingevoerd?"
   ],
   "id": "4e26abcb4ff0fa48"
  },
  {
   "metadata": {
    "ExecuteTime": {
     "end_time": "2024-08-03T16:00:35.938900Z",
     "start_time": "2024-08-03T16:00:35.930914Z"
    }
   },
   "cell_type": "code",
   "source": [
    "#P(geïnfecteerd | positief) = ?\n",
    "#P(positief | geïnfecteerd) = 0,999\n",
    "positiefGeinfecteerd = 0.999\n",
    "#P(negatief | geïnfecteerd) = 1 - P(positief | geïnfecteerd)\n",
    "negatiefGeinfecteerd = 1 - positiefGeinfecteerd\n",
    "#P(negatief | niet geïnfecteerd) = 0,99\n",
    "negatiefNietGeinfecteerd = 0.99\n",
    "#P(positief | niet geïnfecteerd) = 1 - (negatief | niet geïnfecteerd)\n",
    "positiefNietGeinfecteerd = 1 - negatiefNietGeinfecteerd\n",
    "#P(geïnfecteerd) = 0.6%\n",
    "geinfecteerd = 0.006\n",
    "#P(niet geïnfecteerd) = 1 - P(geïnfecteerd)\n",
    "nietGeinfecteerd = 1 - geinfecteerd\n",
    "#P(positief) = P(positief | geïnfecteerd) EN P(geïnfecteerd) + P(positief | niet geïnfecteerd) EN P(niet geïnfecteerd)\n",
    "positief = positiefGeinfecteerd * geinfecteerd + positiefNietGeinfecteerd * nietGeinfecteerd\n",
    "\n",
    "#P(geïnfecteerd | positief) = (P(positief | geïnfecteerd) * P(geïnfecteerd))/P(positief)\n",
    "(positiefGeinfecteerd * geinfecteerd)/positief "
   ],
   "id": "57a2b0fe908dc971",
   "outputs": [
    {
     "data": {
      "text/plain": [
       "0.37617672900715426"
      ]
     },
     "execution_count": 71,
     "metadata": {},
     "output_type": "execute_result"
    }
   ],
   "execution_count": 71
  }
 ],
 "metadata": {
  "kernelspec": {
   "display_name": "Python 3",
   "language": "python",
   "name": "python3"
  },
  "language_info": {
   "codemirror_mode": {
    "name": "ipython",
    "version": 2
   },
   "file_extension": ".py",
   "mimetype": "text/x-python",
   "name": "python",
   "nbconvert_exporter": "python",
   "pygments_lexer": "ipython2",
   "version": "2.7.6"
  }
 },
 "nbformat": 4,
 "nbformat_minor": 5
}
